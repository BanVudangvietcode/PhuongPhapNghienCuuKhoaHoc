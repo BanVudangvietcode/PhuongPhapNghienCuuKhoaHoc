{
 "cells": [
  {
   "cell_type": "markdown",
   "id": "98891edf",
   "metadata": {},
   "source": [
    "# Chapter 14"
   ]
  },
  {
   "cell_type": "markdown",
   "id": "12ff9303",
   "metadata": {},
   "source": [
    "# Automate Machine Learning Workflows with Pipelines"
   ]
  },
  {
   "cell_type": "markdown",
   "id": "fb17071a",
   "metadata": {},
   "source": [
    "## Data Preparation and Modeling Pipeline"
   ]
  },
  {
   "cell_type": "code",
   "execution_count": null,
   "id": "706953f8",
   "metadata": {},
   "outputs": [
    {
     "name": "stdout",
     "output_type": "stream",
     "text": [
      "0.7669685577580315\n"
     ]
    }
   ],
   "source": [
    "from pandas import read_csv\n",
    "from sklearn.model_selection import KFold, cross_val_score\n",
    "from sklearn.preprocessing import StandardScaler\n",
    "from sklearn.pipeline import Pipeline\n",
    "from sklearn.discriminant_analysis import LinearDiscriminantAnalysis\n",
    "\n",
    "# Đọc dữ liệu từ file CSV\n",
    "filename = 'diabetes.csv'\n",
    "data = read_csv(filename)\n",
    "\n",
    "# Chuyển dữ liệu thành mảng numpy\n",
    "array = data.values\n",
    "\n",
    "# Chọn 8 cột đầu tiên làm đặc trưng (features)\n",
    "X = array[:,0:8]\n",
    "\n",
    "# Chọn cột cuối cùng làm nhãn (labels)\n",
    "Y = array[:,8]\n",
    "\n",
    "# Số lượng folds cho cross-validation\n",
    "num_folds = 10\n",
    "\n",
    "# Seed để đảm bảo tính ngẫu nhiên có thể tái lập\n",
    "seed = 7\n",
    "\n",
    "# Tạo danh sách các bước trong pipeline\n",
    "estimator = []\n",
    "\n",
    "# Thêm bước chuẩn hóa dữ liệu (StandardScaler)\n",
    "estimator.append(('standardize', StandardScaler()))\n",
    "\n",
    "# Thêm bước phân tích tuyến tính (Linear Discriminant Analysis - LDA)\n",
    "estimator.append(('lda', LinearDiscriminantAnalysis()))\n",
    "\n",
    "# Tạo pipeline với các bước đã định nghĩa\n",
    "model = Pipeline(estimator)\n",
    "\n",
    "# Tạo k-fold cross-validation\n",
    "kfold = KFold(n_splits=num_folds, random_state=seed, shuffle=True)\n",
    "\n",
    "# Đánh giá mô hình bằng cross-validation\n",
    "results = cross_val_score(model, X, Y, cv=kfold)\n",
    "\n",
    "# In ra độ chính xác trung bình\n",
    "print(results.mean())"
   ]
  },
  {
   "cell_type": "markdown",
   "id": "0e6a58a4",
   "metadata": {},
   "source": [
    "## Feature Extraction and Modeling Pipeline"
   ]
  },
  {
   "cell_type": "code",
   "execution_count": null,
   "id": "f4c6889d",
   "metadata": {},
   "outputs": [
    {
     "name": "stdout",
     "output_type": "stream",
     "text": [
      "0.7721633629528366\n"
     ]
    }
   ],
   "source": [
    "# Import các thư viện cần thiết\n",
    "from pandas import read_csv\n",
    "from sklearn.model_selection import KFold, cross_val_score\n",
    "from sklearn.feature_selection import SelectKBest\n",
    "from sklearn.pipeline import Pipeline, FeatureUnion\n",
    "from sklearn.linear_model import LogisticRegression\n",
    "from sklearn.decomposition import PCA\n",
    "\n",
    "# Đọc dữ liệu từ file CSV\n",
    "filename = 'diabetes.csv'\n",
    "data = read_csv(filename)\n",
    "\n",
    "# Chuyển dữ liệu thành mảng numpy\n",
    "array = data.values\n",
    "\n",
    "# Chọn 8 cột đầu tiên làm đặc trưng (features)\n",
    "X = array[:,0:8]\n",
    "\n",
    "# Chọn cột cuối cùng làm nhãn (labels)\n",
    "Y = array[:,8]\n",
    "\n",
    "# Số lượng folds cho cross-validation\n",
    "num_folds = 10\n",
    "\n",
    "# Seed để đảm bảo tính ngẫu nhiên có thể tái lập\n",
    "seed = 7\n",
    "\n",
    "# Tạo danh sách các bước trích xuất đặc trưng\n",
    "features = []\n",
    "\n",
    "# Thêm bước trích xuất đặc trưng bằng PCA (Principal Component Analysis)\n",
    "features.append(('pca', PCA(n_components=3)))\n",
    "\n",
    "# Thêm bước trích xuất đặc trưng bằng SelectKBest\n",
    "features.append(('select_best', SelectKBest(k=6)))\n",
    "\n",
    "# Kết hợp các bước trích xuất đặc trưng\n",
    "feathure_union = FeatureUnion(features)\n",
    "\n",
    "# Tạo danh sách các bước trong pipeline\n",
    "estimators = []\n",
    "\n",
    "# Thêm bước kết hợp đặc trưng vào pipeline\n",
    "estimators.append(('feathure_union', feathure_union))\n",
    "\n",
    "# Thêm bước xây dựng mô hình Logistic Regression\n",
    "estimators.append(('logistic', LogisticRegression(solver='liblinear')))\n",
    "\n",
    "# Tạo pipeline với các bước đã định nghĩa\n",
    "model = Pipeline(estimators)\n",
    "\n",
    "# Tạo k-fold cross-validation\n",
    "kfold = KFold(n_splits=num_folds, random_state=seed, shuffle=True)\n",
    "\n",
    "# Đánh giá mô hình bằng cross-validation\n",
    "results = cross_val_score(model, X, Y, cv=kfold)\n",
    "\n",
    "# In ra độ chính xác trung bình\n",
    "print(results.mean())"
   ]
  }
 ],
 "metadata": {
  "kernelspec": {
   "display_name": "Python 3",
   "language": "python",
   "name": "python3"
  },
  "language_info": {
   "codemirror_mode": {
    "name": "ipython",
    "version": 3
   },
   "file_extension": ".py",
   "mimetype": "text/x-python",
   "name": "python",
   "nbconvert_exporter": "python",
   "pygments_lexer": "ipython3",
   "version": "3.12.1"
  }
 },
 "nbformat": 4,
 "nbformat_minor": 5
}
