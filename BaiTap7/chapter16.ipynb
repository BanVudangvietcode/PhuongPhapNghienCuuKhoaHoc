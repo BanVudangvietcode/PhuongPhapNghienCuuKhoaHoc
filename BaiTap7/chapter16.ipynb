{
 "cells": [
  {
   "cell_type": "markdown",
   "id": "e2f336bd",
   "metadata": {},
   "source": [
    "# Chapter 16\n",
    "# Improve Performance with Alogrithm Tuning"
   ]
  },
  {
   "cell_type": "markdown",
   "id": "858f3f72",
   "metadata": {},
   "source": [
    "## Grid Search Parameter Tuning"
   ]
  },
  {
   "cell_type": "code",
   "execution_count": null,
   "id": "238a0281",
   "metadata": {},
   "outputs": [
    {
     "name": "stdout",
     "output_type": "stream",
     "text": [
      "0.27610844129292433\n",
      "1.0\n"
     ]
    }
   ],
   "source": [
    "# Nhập các thư viện cần thiết\n",
    "import numpy as np  # Thư viện cho các phép toán số học\n",
    "from pandas import read_csv  # Thư viện để đọc các tệp CSV\n",
    "from sklearn.linear_model import Ridge  # Mô hình hồi quy Ridge\n",
    "from sklearn.model_selection import GridSearchCV  # Thư viện để tìm kiếm tham số bằng Grid Search\n",
    "\n",
    "# Tải dữ liệu\n",
    "filename = 'diabetes.csv'  # Đường dẫn tới tệp dữ liệu\n",
    "datafrmae = read_csv(filename)  # Đọc tệp CSV vào một DataFrame\n",
    "\n",
    "# Chuẩn bị dữ liệu\n",
    "array = datafrmae.values  # Chuyển đổi DataFrame thành một mảng NumPy\n",
    "X = array[:, 0:8]  # Chọn 8 cột đầu tiên làm đặc trưng (features)\n",
    "y = array[:, 8]  # Chọn cột thứ 9 làm biến mục tiêu (target variable)\n",
    "\n",
    "# Định nghĩa lưới tham số\n",
    "alphas = np.array([1, 0.1, 0.01, 0.001, 0.0001, 0])  # Mảng các giá trị alpha cần kiểm tra\n",
    "param_grid = dict(alpha=alphas)  # Tạo một từ điển cho lưới tham số\n",
    "\n",
    "# Thực hiện tìm kiếm tham số bằng Grid Search\n",
    "grid = GridSearchCV(estimator=Ridge(), param_grid=param_grid)  # Khởi tạo GridSearchCV với mô hình Ridge\n",
    "grid.fit(X, y)  # Huấn luyện mô hình với dữ liệu\n",
    "\n",
    "# Xuất kết quả\n",
    "print(grid.best_score_)  # In ra điểm số tốt nhất từ Grid Search\n",
    "print(grid.best_estimator_.alpha)  # In ra giá trị alpha tốt nhất"
   ]
  },
  {
   "cell_type": "markdown",
   "id": "75799375",
   "metadata": {},
   "source": [
    "## Random Search Parameter Tuning"
   ]
  },
  {
   "cell_type": "code",
   "execution_count": null,
   "id": "ec1cca3c",
   "metadata": {},
   "outputs": [
    {
     "name": "stdout",
     "output_type": "stream",
     "text": [
      "0.2761075573402853\n",
      "0.9779895119966027\n"
     ]
    }
   ],
   "source": [
    "# Nhập các thư viện cần thiết\n",
    "from scipy.stats import uniform  # Để tạo phân phối đều\n",
    "from sklearn.model_selection import RandomizedSearchCV  # Để tìm kiếm tham số ngẫu nhiên\n",
    "\n",
    "# Định nghĩa phân phối tham số\n",
    "param_grid = {'alpha': uniform()}  # Sử dụng phân phối đều cho tham số alpha\n",
    "\n",
    "# Khởi tạo RandomizedSearchCV với mô hình Ridge\n",
    "rsearch = RandomizedSearchCV(estimator=Ridge(), param_distributions=param_grid, n_iter=100, random_state=7)\n",
    "\n",
    "# Huấn luyện mô hình với dữ liệu\n",
    "rsearch.fit(X, y)  # Thực hiện tìm kiếm ngẫu nhiên trên tập dữ liệu\n",
    "\n",
    "# Xuất kết quả\n",
    "print(rsearch.best_score_)  # In ra điểm số tốt nhất từ tìm kiếm ngẫu nhiên\n",
    "print(rsearch.best_estimator_.alpha)  # In ra giá trị alpha tốt nhất"
   ]
  }
 ],
 "metadata": {
  "kernelspec": {
   "display_name": "Python 3",
   "language": "python",
   "name": "python3"
  },
  "language_info": {
   "codemirror_mode": {
    "name": "ipython",
    "version": 3
   },
   "file_extension": ".py",
   "mimetype": "text/x-python",
   "name": "python",
   "nbconvert_exporter": "python",
   "pygments_lexer": "ipython3",
   "version": "3.12.1"
  }
 },
 "nbformat": 4,
 "nbformat_minor": 5
}
