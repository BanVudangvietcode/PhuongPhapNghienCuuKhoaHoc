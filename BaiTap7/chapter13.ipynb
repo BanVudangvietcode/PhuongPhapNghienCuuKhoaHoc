{
 "cells": [
  {
   "cell_type": "markdown",
   "id": "9074242e",
   "metadata": {},
   "source": [
    "# Chapter 13"
   ]
  },
  {
   "cell_type": "markdown",
   "id": "aa54d854",
   "metadata": {},
   "source": [
    "# Compare Machine Learning Algorithms"
   ]
  },
  {
   "cell_type": "markdown",
   "id": "4990695c",
   "metadata": {},
   "source": [
    "## Compare Machine Learning Algorithms Consistently"
   ]
  },
  {
   "cell_type": "code",
   "execution_count": null,
   "id": "91b30663",
   "metadata": {},
   "outputs": [
    {
     "name": "stdout",
     "output_type": "stream",
     "text": [
      "LR: 0.770865 (0.050905)\n",
      "LDA: 0.766969 (0.047966)\n",
      "KNN: 0.710988 (0.050792)\n",
      "CART: 0.704545 (0.043181)\n",
      "NB: 0.759142 (0.038960)\n",
      "SVM: 0.760458 (0.034712)\n"
     ]
    },
    {
     "data": {
      "image/png": "[encoded data removed]",
      "text/plain": [
       "<Figure size 640x480 with 1 Axes>"
      ]
     },
     "metadata": {},
     "output_type": "display_data"
    }
   ],
   "source": [
    "from pandas import read_csv  # Thư viện để đọc dữ liệu từ file CSV\n",
    "from sklearn.model_selection import KFold, cross_val_score  # Thư viện để tạo k-fold cross-validation và đánh giá mô hình\n",
    "from sklearn.linear_model import LogisticRegression  # Thư viện để tạo mô hình hồi quy logistic\n",
    "from sklearn.tree import DecisionTreeClassifier  # Thư viện để tạo mô hình cây quyết định\n",
    "from sklearn.neighbors import KNeighborsClassifier  # Thư viện để tạo mô hình KNN\n",
    "from sklearn.discriminant_analysis import LinearDiscriminantAnalysis  # Thư viện để phân tích tuyến tính\n",
    "from sklearn.naive_bayes import GaussianNB  # Thư viện để tạo mô hình Naive Bayes\n",
    "from sklearn.svm import SVC  # Thư viện để tạo mô hình SVM\n",
    "from matplotlib import pyplot as plt  # Thư viện để vẽ biểu đồ\n",
    "\n",
    "# Đọc dữ liệu từ file CSV\n",
    "filename = 'diabetes.csv'  # Tên file dữ liệu\n",
    "data = read_csv(filename)  # Đọc dữ liệu\n",
    "\n",
    "# Chuyển dữ liệu thành mảng numpy\n",
    "array = data.values  # Chuyển đổi dữ liệu\n",
    "\n",
    "# Tách dữ liệu thành đặc trưng đầu vào (X) và biến mục tiêu (Y)\n",
    "X = array[:,0:8]  # 8 cột đầu tiên là đặc trưng đầu vào\n",
    "Y = array[:,8]    # Cột cuối cùng là biến mục tiêu\n",
    "\n",
    "# Định nghĩa các tham số cho cross-validation\n",
    "num_folds = 10  # Số lượng tập gấp trong cross-validation\n",
    "seed = 7        # Hạt giống ngẫu nhiên để đảm bảo tính tái lập\n",
    "\n",
    "# Tạo danh sách các mô hình cần so sánh\n",
    "models = []\n",
    "models.append(('LR', LogisticRegression(solver='liblinear')))  # Hồi quy logistic\n",
    "models.append(('LDA', LinearDiscriminantAnalysis()))  # Phân tích tuyến tính\n",
    "models.append(('KNN', KNeighborsClassifier()))  # KNN\n",
    "models.append(('CART', DecisionTreeClassifier()))  # Cây quyết định\n",
    "models.append(('NB', GaussianNB()))  # Naive Bayes\n",
    "models.append(('SVM', SVC()))  # SVM\n",
    "\n",
    "# Biến lưu trữ kết quả và tên mô hình\n",
    "results = []\n",
    "names = []\n",
    "scoring = 'accuracy'  # Định nghĩa tiêu chí đánh giá\n",
    "\n",
    "# Lặp qua từng mô hình để đánh giá\n",
    "for name, model in models:\n",
    "    kfold = KFold(n_splits=num_folds, random_state=seed, shuffle=True)  # Tạo k-fold\n",
    "    result = cross_val_score(model, X, Y, cv=kfold, scoring=scoring)  # Đánh giá mô hình\n",
    "    results.append(result)  # Lưu kết quả\n",
    "    names.append(name)  # Lưu tên mô hình\n",
    "    msg = \"%s: %f (%f)\" % (name, result.mean(), result.std())  # Tạo thông báo kết quả\n",
    "    print(msg)  # In kết quả\n",
    "\n",
    "# Vẽ biểu đồ so sánh\n",
    "fig = plt.figure()  # Tạo biểu đồ\n",
    "ax = fig.add_subplot(111)  # Thêm subplot\n",
    "plt.boxplot(results)  # Vẽ boxplot\n",
    "ax.set_xticklabels(names)  # Đặt nhãn trục X\n",
    "plt.show()  # Hiển thị biểu đồ"
   ]
  }
 ],
 "metadata": {
  "kernelspec": {
   "display_name": "Python 3",
   "language": "python",
   "name": "python3"
  },
  "language_info": {
   "codemirror_mode": {
    "name": "ipython",
    "version": 3
   },
   "file_extension": ".py",
   "mimetype": "text/x-python",
   "name": "python",
   "nbconvert_exporter": "python",
   "pygments_lexer": "ipython3",
   "version": "3.12.1"
  }
 },
 "nbformat": 4,
 "nbformat_minor": 5
}
