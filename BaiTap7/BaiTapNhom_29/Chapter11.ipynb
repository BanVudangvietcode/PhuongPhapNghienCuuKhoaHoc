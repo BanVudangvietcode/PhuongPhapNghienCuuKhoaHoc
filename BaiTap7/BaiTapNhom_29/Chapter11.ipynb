{
 "cells": [
  {
   "metadata": {},
   "cell_type": "markdown",
   "source": "11.3 Linear Machine Learning Algorithms",
   "id": "f403adbf93535d64"
  },
  {
   "metadata": {},
   "cell_type": "markdown",
   "source": "11.3.1 Logistic Regression",
   "id": "8d3ce3d350835fda"
  },
  {
   "metadata": {
    "ExecuteTime": {
     "end_time": "2025-04-24T15:27:11.109606Z",
     "start_time": "2025-04-24T15:27:10.625593Z"
    }
   },
   "cell_type": "code",
   "source": [
    "# 11.3.1 Hồi quy Logistic (Logistic Regression)\n",
    "# Logistic Regression Classification\n",
    "# Logistic Regression là một thuật toán tuyến tính, thường được sử dụng cho bài toán phân loại nhị phân.\n",
    "# Thuật toán giả định phân phối Gaussian cho các biến đầu vào.\n",
    "\n",
    "from pandas import read_csv\n",
    "from sklearn.model_selection import KFold\n",
    "from sklearn.model_selection import cross_val_score\n",
    "from sklearn.linear_model import LogisticRegression\n",
    "\n",
    "# Đọc dữ liệu từ file CSV\n",
    "filename = 'pima-indians-diabetes.data.csv'\n",
    "names = ['preg', 'plas', 'pres', 'skin', 'test', 'mass', 'pedi', 'age', 'class']\n",
    "dataframe = read_csv(filename, names=names)\n",
    "\n",
    "# Chia dữ liệu thành các biến đầu vào (X) và mục tiêu (Y)\n",
    "array = dataframe.values\n",
    "X = array[:, 0:8]  # Các cột đầu vào (từ 0 đến 7)\n",
    "Y = array[:, 8]    # Cột mục tiêu (class)\n",
    "\n",
    "# Sử dụng KFold với 10 lần gập (folds) để đánh giá mô hình\n",
    "kfold = KFold(n_splits=10, random_state=7, shuffle=True)  # Thiết lập shuffle=True để xáo trộn dữ liệu\n",
    "model = LogisticRegression(max_iter=200)  # Mô hình Logistic Regression với max_iter=200 để tránh cảnh báo hội tụ\n",
    "\n",
    "# Đánh giá mô hình với cross-validation và tính toán độ chính xác trung bình\n",
    "results = cross_val_score(model, X, Y, cv=kfold)\n",
    "\n",
    "# In ra độ chính xác trung bình của mô hình\n",
    "print( results.mean())  # Kết quả độ chính xác trung bình\n",
    "\n"
   ],
   "id": "7bb73c8e8476b672",
   "outputs": [
    {
     "name": "stdout",
     "output_type": "stream",
     "text": [
      "Logistic Regression Mean Accuracy: 0.7721633629528366\n"
     ]
    }
   ],
   "execution_count": 29
  },
  {
   "metadata": {},
   "cell_type": "markdown",
   "source": "11.3.2 Linear Discriminant Analysis",
   "id": "6a0eb2f76fd2fda3"
  },
  {
   "metadata": {
    "ExecuteTime": {
     "end_time": "2025-04-24T15:27:35.772656Z",
     "start_time": "2025-04-24T15:27:35.701440Z"
    }
   },
   "cell_type": "code",
   "source": [
    "# 11.3.2 Phân tích biệt tuyến tính (LDA)\n",
    "# Linear Discriminant Analysis (LDA) là một kỹ thuật thống kê cho phân loại nhị phân và đa lớp.\n",
    "# LDA giả định phân phối Gaussian cho các biến đầu vào và cố gắng tối đa hóa sự phân biệt giữa các lớp.\n",
    "\n",
    "from pandas import read_csv\n",
    "from sklearn.model_selection import KFold\n",
    "from sklearn.model_selection import cross_val_score\n",
    "from sklearn.discriminant_analysis import LinearDiscriminantAnalysis\n",
    "\n",
    "# Đọc dữ liệu từ file CSV\n",
    "filename = 'pima-indians-diabetes.data.csv'\n",
    "names = ['preg', 'plas', 'pres', 'skin', 'test', 'mass', 'pedi', 'age', 'class']\n",
    "dataframe = read_csv(filename, names=names)\n",
    "\n",
    "# Chia dữ liệu thành các biến đầu vào (X) và mục tiêu (Y)\n",
    "array = dataframe.values\n",
    "X = array[:, 0:8]  # Các cột đầu vào (từ 0 đến 7)\n",
    "Y = array[:, 8]    # Cột mục tiêu (class)\n",
    "\n",
    "# Sử dụng KFold với 10 lần gập (folds) để đánh giá mô hình\n",
    "kfold = KFold(n_splits=10, random_state=7, shuffle=True)\n",
    "model = LinearDiscriminantAnalysis()  # Mô hình Linear Discriminant Analysis\n",
    "\n",
    "# Đánh giá mô hình với cross-validation và tính toán độ chính xác trung bình\n",
    "results = cross_val_score(model, X, Y, cv=kfold)\n",
    "\n",
    "# In ra độ chính xác trung bình của mô hình\n",
    "print(results.mean())  # Kết quả độ chính xác trung bình\n"
   ],
   "id": "5f93f218e149f89c",
   "outputs": [
    {
     "name": "stdout",
     "output_type": "stream",
     "text": [
      "Linear Discriminant Analysis Mean Accuracy: 0.7669685577580315\n"
     ]
    }
   ],
   "execution_count": 30
  },
  {
   "metadata": {},
   "cell_type": "markdown",
   "source": "11.4 Nonlinear Machine Learning Algorithms",
   "id": "db9eb488c16df767"
  },
  {
   "metadata": {},
   "cell_type": "markdown",
   "source": "11.4.1 k-Nearest Neighbors (KNN)",
   "id": "6505acc413cb1dfd"
  },
  {
   "metadata": {
    "ExecuteTime": {
     "end_time": "2025-04-24T15:28:42.423339Z",
     "start_time": "2025-04-24T15:28:42.349432Z"
    }
   },
   "cell_type": "code",
   "source": [
    "# 11.4.1 K-Láng giềng gần nhất (KNN)\n",
    "# k-Nearest Neighbors (KNN) là một thuật toán phi tuyến tính sử dụng khoảng cách giữa các điểm dữ liệu để phân loại.\n",
    "# Thuật toán này tìm k điểm gần nhất với điểm mới và chọn lớp dựa trên số lượng lớp trong k điểm gần nhất.\n",
    "\n",
    "from pandas import read_csv\n",
    "from sklearn.model_selection import KFold\n",
    "from sklearn.model_selection import cross_val_score\n",
    "from sklearn.neighbors import KNeighborsClassifier\n",
    "\n",
    "# Đọc dữ liệu từ file CSV\n",
    "filename = 'pima-indians-diabetes.data.csv'\n",
    "names = ['preg', 'plas', 'pres', 'skin', 'test', 'mass', 'pedi', 'age', 'class']\n",
    "dataframe = read_csv(filename, names=names)\n",
    "\n",
    "# Chia dữ liệu thành các biến đầu vào (X) và mục tiêu (Y)\n",
    "array = dataframe.values\n",
    "X = array[:, 0:8]  # Các cột đầu vào (từ 0 đến 7)\n",
    "Y = array[:, 8]    # Cột mục tiêu (class)\n",
    "\n",
    "# Sử dụng KFold với 10 lần gập (folds) để đánh giá mô hình\n",
    "kfold = KFold(n_splits=10, random_state=7, shuffle=True)\n",
    "model = KNeighborsClassifier()  # Mô hình k-Nearest Neighbors\n",
    "\n",
    "# Đánh giá mô hình với cross-validation và tính toán độ chính xác trung bình\n",
    "results = cross_val_score(model, X, Y, cv=kfold)\n",
    "\n",
    "# In ra độ chính xác trung bình của mô hình\n",
    "print( results.mean())  # Kết quả độ chính xác trung bình\n"
   ],
   "id": "d5477930610b851e",
   "outputs": [
    {
     "name": "stdout",
     "output_type": "stream",
     "text": [
      "0.7109876965140123\n"
     ]
    }
   ],
   "execution_count": 32
  },
  {
   "metadata": {},
   "cell_type": "markdown",
   "source": "11.4.2 Naive Bayes",
   "id": "62e0d651f0c817cf"
  },
  {
   "metadata": {
    "ExecuteTime": {
     "end_time": "2025-04-24T15:29:39.981892Z",
     "start_time": "2025-04-24T15:29:39.938926Z"
    }
   },
   "cell_type": "code",
   "source": [
    "# 11.4.2 Naive Bayes (Giả định độc lập giữa các biến)\n",
    "# Naive Bayes là một thuật toán phân loại dựa trên lý thuyết Bayes với giả định rằng các đặc trưng độc lập với nhau.\n",
    "# Thuật toán này rất hiệu quả khi các đặc trưng của bài toán có phân phối chuẩn (Gaussian).\n",
    "\n",
    "from pandas import read_csv\n",
    "from sklearn.model_selection import KFold\n",
    "from sklearn.model_selection import cross_val_score\n",
    "from sklearn.naive_bayes import GaussianNB\n",
    "\n",
    "# Đọc dữ liệu từ file CSV\n",
    "filename = 'pima-indians-diabetes.data.csv'\n",
    "names = ['preg', 'plas', 'pres', 'skin', 'test', 'mass', 'pedi', 'age', 'class']\n",
    "dataframe = read_csv(filename, names=names)\n",
    "\n",
    "# Chia dữ liệu thành các biến đầu vào (X) và mục tiêu (Y)\n",
    "array = dataframe.values\n",
    "X = array[:, 0:8]  # Các cột đầu vào (từ 0 đến 7)\n",
    "Y = array[:, 8]    # Cột mục tiêu (class)\n",
    "\n",
    "# Sử dụng KFold với 10 lần gập (folds) để đánh giá mô hình\n",
    "kfold = KFold(n_splits=10, random_state=7, shuffle=True)\n",
    "model = GaussianNB()  # Mô hình Naive Bayes (Gaussian)\n",
    "\n",
    "# Đánh giá mô hình với cross-validation và tính toán độ chính xác trung bình\n",
    "results = cross_val_score(model, X, Y, cv=kfold)\n",
    "\n",
    "# In ra độ chính xác trung bình của mô hình\n",
    "print( results.mean())  # Kết quả độ chính xác trung bình\n",
    "\n"
   ],
   "id": "623ad3d698a2f747",
   "outputs": [
    {
     "name": "stdout",
     "output_type": "stream",
     "text": [
      "0.7591421736158578\n"
     ]
    }
   ],
   "execution_count": 33
  },
  {
   "metadata": {},
   "cell_type": "markdown",
   "source": "11.4.3 Classification and Regression Trees (CART)",
   "id": "c8277609d9b510ef"
  },
  {
   "metadata": {
    "ExecuteTime": {
     "end_time": "2025-04-24T15:29:53.007514Z",
     "start_time": "2025-04-24T15:29:52.925811Z"
    }
   },
   "cell_type": "code",
   "source": [
    "# 11.4.3 Cây phân loại và hồi quy (CART)\n",
    "# Classification and Regression Trees (CART) là một thuật toán cây quyết định, có thể được sử dụng cho cả phân loại và hồi quy.\n",
    "# Cây quyết định phân chia dữ liệu thành các nhánh dựa trên các câu hỏi kiểm tra đặc trưng.\n",
    "\n",
    "from pandas import read_csv\n",
    "from sklearn.model_selection import KFold\n",
    "from sklearn.model_selection import cross_val_score\n",
    "from sklearn.tree import DecisionTreeClassifier\n",
    "\n",
    "# Đọc dữ liệu từ file CSV\n",
    "filename = 'pima-indians-diabetes.data.csv'\n",
    "names = ['preg', 'plas', 'pres', 'skin', 'test', 'mass', 'pedi', 'age', 'class']\n",
    "dataframe = read_csv(filename, names=names)\n",
    "\n",
    "# Chia dữ liệu thành các biến đầu vào (X) và mục tiêu (Y)\n",
    "array = dataframe.values\n",
    "X = array[:, 0:8]  # Các cột đầu vào (từ 0 đến 7)\n",
    "Y = array[:, 8]    # Cột mục tiêu (class)\n",
    "\n",
    "# Sử dụng KFold với 10 lần gập (folds) để đánh giá mô hình\n",
    "kfold = KFold(n_splits=10, random_state=7, shuffle=True)\n",
    "model = DecisionTreeClassifier()  # Mô hình CART (Decision Tree)\n",
    "\n",
    "# Đánh giá mô hình với cross-validation và tính toán độ chính xác trung bình\n",
    "results = cross_val_score(model, X, Y, cv=kfold)\n",
    "\n",
    "# In ra độ chính xác trung bình của mô hình\n",
    "print( results.mean())  # Kết quả độ chính xác trung bình\n",
    "\n"
   ],
   "id": "d3fb12ddd56d0de7",
   "outputs": [
    {
     "name": "stdout",
     "output_type": "stream",
     "text": [
      "0.6902255639097744\n"
     ]
    }
   ],
   "execution_count": 34
  },
  {
   "metadata": {},
   "cell_type": "markdown",
   "source": "11.4.4 Support Vector Machines (SVM)",
   "id": "222d4018c2b101f3"
  },
  {
   "metadata": {
    "ExecuteTime": {
     "end_time": "2025-04-24T15:30:05.737198Z",
     "start_time": "2025-04-24T15:30:05.585718Z"
    }
   },
   "cell_type": "code",
   "source": [
    "# 11.4.4 Máy vector hỗ trợ (SVM)\n",
    "# Support Vector Machine (SVM) là một thuật toán phân loại mạnh mẽ, tìm kiếm hyperplane tối ưu phân chia các lớp trong không gian đặc trưng.\n",
    "# SVM thường hiệu quả trong các bài toán phân loại với nhiều đặc trưng.\n",
    "\n",
    "from pandas import read_csv\n",
    "from sklearn.model_selection import KFold\n",
    "from sklearn.model_selection import cross_val_score\n",
    "from sklearn.svm import SVC\n",
    "\n",
    "# Đọc dữ liệu từ file CSV\n",
    "filename = 'pima-indians-diabetes.data.csv'\n",
    "names = ['preg', 'plas', 'pres', 'skin', 'test', 'mass', 'pedi', 'age', 'class']\n",
    "dataframe = read_csv(filename, names=names)\n",
    "\n",
    "# Chia dữ liệu thành các biến đầu vào (X) và mục tiêu (Y)\n",
    "array = dataframe.values\n",
    "X = array[:, 0:8]  # Các cột đầu vào (từ 0 đến 7)\n",
    "Y = array[:, 8]    # Cột mục tiêu (class)\n",
    "\n",
    "# Sử dụng KFold với 10 lần gập (folds) để đánh giá mô hình\n",
    "kfold = KFold(n_splits=10, random_state=7, shuffle=True)\n",
    "model = SVC()  # Mô hình Support Vector Machine (SVM)\n",
    "\n",
    "# Đánh giá mô hình với cross-validation và tính toán độ chính xác trung bình\n",
    "results = cross_val_score(model, X, Y, cv=kfold)\n",
    "\n",
    "# In ra độ chính xác trung bình của mô hình\n",
    "print( results.mean())  # Kết quả độ chính xác trung bình\n",
    "\n"
   ],
   "id": "29b8cbd1f33f6ab3",
   "outputs": [
    {
     "name": "stdout",
     "output_type": "stream",
     "text": [
      "0.760457963089542\n"
     ]
    }
   ],
   "execution_count": 35
  },
  {
   "metadata": {},
   "cell_type": "markdown",
   "source": "11.5 Summary of Algorithms",
   "id": "d5216f4a4baa4bd6"
  },
  {
   "metadata": {
    "ExecuteTime": {
     "end_time": "2025-04-24T15:32:23.108095Z",
     "start_time": "2025-04-24T15:32:22.954788Z"
    }
   },
   "cell_type": "code",
   "source": [
    "from pandas import read_csv\n",
    "from sklearn.model_selection import KFold\n",
    "from sklearn.model_selection import cross_val_score\n",
    "from sklearn.svm import SVC\n",
    "\n",
    "# Đọc dữ liệu\n",
    "filename = 'pima-indians-diabetes.data.csv'\n",
    "names = ['preg', 'plas', 'pres', 'skin', 'test', 'mass', 'pedi', 'age', 'class']\n",
    "dataframe = read_csv(filename, names=names)\n",
    "array = dataframe.values\n",
    "X = array[:, 0:8]  # Các biến đầu vào\n",
    "Y = array[:, 8]    # Cột mục tiêu (class)\n",
    "\n",
    "# Sử dụng KFold với 10 lần gập (folds) và shuffle=True để đảm bảo sự ngẫu nhiên\n",
    "kfold = KFold(n_splits=10, shuffle=True, random_state=7)\n",
    "\n",
    "# Khởi tạo mô hình Support Vector Machine (SVM)\n",
    "model = SVC()\n",
    "\n",
    "# Đánh giá mô hình bằng cross-validation\n",
    "results = cross_val_score(model, X, Y, cv=kfold)\n",
    "\n",
    "# In kết quả độ chính xác trung bình\n",
    "print(results.mean())\n"
   ],
   "id": "5012f8d0eea27bb4",
   "outputs": [
    {
     "name": "stdout",
     "output_type": "stream",
     "text": [
      "0.760457963089542\n"
     ]
    }
   ],
   "execution_count": 41
  }
 ],
 "metadata": {
  "kernelspec": {
   "display_name": "Python 3",
   "language": "python",
   "name": "python3"
  },
  "language_info": {
   "codemirror_mode": {
    "name": "ipython",
    "version": 2
   },
   "file_extension": ".py",
   "mimetype": "text/x-python",
   "name": "python",
   "nbconvert_exporter": "python",
   "pygments_lexer": "ipython2",
   "version": "2.7.6"
  }
 },
 "nbformat": 4,
 "nbformat_minor": 5
}
