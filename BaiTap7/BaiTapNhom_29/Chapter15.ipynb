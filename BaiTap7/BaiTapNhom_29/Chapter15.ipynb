{
 "cells": [
  {
   "metadata": {},
   "cell_type": "markdown",
   "source": "15.2: Các thuật toán Bagging",
   "id": "d620d2840bdf133f"
  },
  {
   "metadata": {},
   "cell_type": "markdown",
   "source": "15.2.1: Bagged Decision Trees",
   "id": "be081def89dce173"
  },
  {
   "metadata": {
    "ExecuteTime": {
     "end_time": "2025-04-24T15:40:19.211466Z",
     "start_time": "2025-04-24T15:40:14.831962Z"
    }
   },
   "cell_type": "code",
   "source": [
    "#15.2.1 Cây Quyết Định Bagged\n",
    "from pandas import read_csv\n",
    "from sklearn.model_selection import KFold\n",
    "from sklearn.model_selection import cross_val_score\n",
    "from sklearn.ensemble import BaggingClassifier\n",
    "from sklearn.tree import DecisionTreeClassifier\n",
    "\n",
    "# Đọc dữ liệu\n",
    "filename = 'pima-indians-diabetes.data.csv'\n",
    "names = ['preg', 'plas', 'pres', 'skin', 'test', 'mass', 'pedi', 'age', 'class']\n",
    "dataframe = read_csv(filename, names=names)\n",
    "array = dataframe.values\n",
    "X = array[:,0:8]  # Các đặc trưng\n",
    "Y = array[:,8]    # Nhãn\n",
    "\n",
    "# Khởi tạo mô hình và k-fold cross validation\n",
    "seed = 7\n",
    "kfold = KFold(n_splits=10, shuffle=True, random_state=seed)\n",
    "\n",
    "cart = DecisionTreeClassifier()  # Mô hình cây quyết định\n",
    "num_trees = 100  # Số cây trong mô hình\n",
    "model = BaggingClassifier(estimator=cart, n_estimators=num_trees, random_state=seed)\n",
    "\n",
    "\n",
    "# Đánh giá mô hình\n",
    "results = cross_val_score(model, X, Y, cv=kfold)\n",
    "print(results.mean())  # In ra độ chính xác trung bình\n"
   ],
   "id": "f295979818a1f943",
   "outputs": [
    {
     "name": "stdout",
     "output_type": "stream",
     "text": [
      "0.7578263841421736\n"
     ]
    }
   ],
   "execution_count": 4
  },
  {
   "metadata": {},
   "cell_type": "markdown",
   "source": "15.2.2 Rừng Ngẫu Nhiên (Random Forest)",
   "id": "922029c5ef404e06"
  },
  {
   "metadata": {
    "ExecuteTime": {
     "end_time": "2025-04-24T15:43:25.513540Z",
     "start_time": "2025-04-24T15:43:23.520224Z"
    }
   },
   "cell_type": "code",
   "source": [
    "from pandas import read_csv\n",
    "from sklearn.model_selection import KFold\n",
    "from sklearn.model_selection import cross_val_score\n",
    "from sklearn.ensemble import RandomForestClassifier\n",
    "\n",
    "# Đọc dữ liệu\n",
    "filename = 'pima-indians-diabetes.data.csv'\n",
    "names = ['preg', 'plas', 'pres', 'skin', 'test', 'mass', 'pedi', 'age', 'class']\n",
    "dataframe = read_csv(filename, names=names)\n",
    "array = dataframe.values\n",
    "X = array[:, 0:8]\n",
    "Y = array[:, 8]\n",
    "\n",
    "# Khởi tạo mô hình và K-fold cross validation\n",
    "seed = 7\n",
    "kfold = KFold(n_splits=10, shuffle=True, random_state=seed)  # Đảm bảo shuffle=True để random_state có hiệu lực\n",
    "\n",
    "# Rừng ngẫu nhiên\n",
    "num_trees = 100\n",
    "max_features = 3\n",
    "model = RandomForestClassifier(n_estimators=num_trees, max_features=max_features)\n",
    "\n",
    "# Đánh giá mô hình\n",
    "results = cross_val_score(model, X, Y, cv=kfold)\n",
    "print( results.mean())\n"
   ],
   "id": "7601649f7cabe9dc",
   "outputs": [
    {
     "name": "stdout",
     "output_type": "stream",
     "text": [
      "0.759107997265892\n"
     ]
    }
   ],
   "execution_count": 9
  },
  {
   "metadata": {},
   "cell_type": "markdown",
   "source": "15.2.3 Extra Trees",
   "id": "28b25f01928c61ef"
  },
  {
   "metadata": {
    "ExecuteTime": {
     "end_time": "2025-04-24T15:44:20.609400Z",
     "start_time": "2025-04-24T15:44:18.959203Z"
    }
   },
   "cell_type": "code",
   "source": [
    "from pandas import read_csv\n",
    "from sklearn.model_selection import KFold\n",
    "from sklearn.model_selection import cross_val_score\n",
    "from sklearn.ensemble import ExtraTreesClassifier\n",
    "\n",
    "# Đọc dữ liệu\n",
    "filename = 'pima-indians-diabetes.data.csv'\n",
    "names = ['preg', 'plas', 'pres', 'skin', 'test', 'mass', 'pedi', 'age', 'class']\n",
    "dataframe = read_csv(filename, names=names)\n",
    "array = dataframe.values\n",
    "X = array[:, 0:8]\n",
    "Y = array[:, 8]\n",
    "\n",
    "# Khởi tạo mô hình và K-fold cross validation\n",
    "seed = 7\n",
    "kfold = KFold(n_splits=10, shuffle=True, random_state=seed)\n",
    "\n",
    "\n",
    "# Extra Trees\n",
    "num_trees = 100\n",
    "max_features = 7\n",
    "model = ExtraTreesClassifier(n_estimators=num_trees, max_features=max_features)\n",
    "\n",
    "# Đánh giá mô hình\n",
    "results = cross_val_score(model, X, Y, cv=kfold)\n",
    "print( results.mean())\n"
   ],
   "id": "25f2e6d3dafd2558",
   "outputs": [
    {
     "name": "stdout",
     "output_type": "stream",
     "text": [
      "Accuracy: 0.7630211893369789\n"
     ]
    }
   ],
   "execution_count": 11
  },
  {
   "metadata": {},
   "cell_type": "markdown",
   "source": "15.3 Các Thuật toán Boosting",
   "id": "5aaa82f691cc80b8"
  },
  {
   "metadata": {},
   "cell_type": "markdown",
   "source": "15.3.1 AdaBoost",
   "id": "4c81acba02b01959"
  },
  {
   "metadata": {
    "ExecuteTime": {
     "end_time": "2025-04-24T15:45:10.041754Z",
     "start_time": "2025-04-24T15:45:09.354962Z"
    }
   },
   "cell_type": "code",
   "source": [
    "from pandas import read_csv\n",
    "from sklearn.model_selection import KFold\n",
    "from sklearn.model_selection import cross_val_score\n",
    "from sklearn.ensemble import AdaBoostClassifier\n",
    "\n",
    "# Đọc dữ liệu\n",
    "filename = 'pima-indians-diabetes.data.csv'\n",
    "names = ['preg', 'plas', 'pres', 'skin', 'test', 'mass', 'pedi', 'age', 'class']\n",
    "dataframe = read_csv(filename, names=names)\n",
    "array = dataframe.values\n",
    "X = array[:, 0:8]\n",
    "Y = array[:, 8]\n",
    "\n",
    "# Khởi tạo mô hình và K-fold cross validation\n",
    "seed = 7\n",
    "num_trees = 30\n",
    "kfold = KFold(n_splits=10, shuffle=True, random_state=seed)\n",
    "\n",
    "# AdaBoost\n",
    "model = AdaBoostClassifier(n_estimators=num_trees, random_state=seed)\n",
    "\n",
    "# Đánh giá mô hình\n",
    "results = cross_val_score(model, X, Y, cv=kfold)\n",
    "print( results.mean())\n"
   ],
   "id": "ef897fe4b300cfa1",
   "outputs": [
    {
     "name": "stdout",
     "output_type": "stream",
     "text": [
      "Accuracy: 0.7552460697197538\n"
     ]
    }
   ],
   "execution_count": 13
  },
  {
   "metadata": {},
   "cell_type": "markdown",
   "source": "15.3.2 Stochastic Gradient Boosting",
   "id": "ff7551bf65bf7b0b"
  },
  {
   "metadata": {
    "ExecuteTime": {
     "end_time": "2025-04-24T15:45:39.296980Z",
     "start_time": "2025-04-24T15:45:37.214456Z"
    }
   },
   "cell_type": "code",
   "source": [
    "from pandas import read_csv\n",
    "from sklearn.model_selection import KFold\n",
    "from sklearn.model_selection import cross_val_score\n",
    "from sklearn.ensemble import GradientBoostingClassifier\n",
    "\n",
    "# Đọc dữ liệu\n",
    "filename = 'pima-indians-diabetes.data.csv'\n",
    "names = ['preg', 'plas', 'pres', 'skin', 'test', 'mass', 'pedi', 'age', 'class']\n",
    "dataframe = read_csv(filename, names=names)\n",
    "array = dataframe.values\n",
    "X = array[:, 0:8]\n",
    "Y = array[:, 8]\n",
    "\n",
    "# Khởi tạo mô hình và K-fold cross validation\n",
    "seed = 7\n",
    "num_trees = 100\n",
    "kfold = KFold(n_splits=10, shuffle=True, random_state=seed)\n",
    "\n",
    "# Stochastic Gradient Boosting\n",
    "model = GradientBoostingClassifier(n_estimators=num_trees, random_state=seed)\n",
    "\n",
    "# Đánh giá mô hình\n",
    "results = cross_val_score(model, X, Y, cv=kfold)\n",
    "print(\"Accuracy:\", results.mean())\n"
   ],
   "id": "f99f4e2ec85be907",
   "outputs": [
    {
     "name": "stdout",
     "output_type": "stream",
     "text": [
      "Accuracy: 0.7578947368421053\n"
     ]
    }
   ],
   "execution_count": 14
  },
  {
   "metadata": {},
   "cell_type": "markdown",
   "source": "15.4 Ensemble Voting",
   "id": "75c4a9971c5b175f"
  },
  {
   "metadata": {
    "ExecuteTime": {
     "end_time": "2025-04-24T15:48:29.394572Z",
     "start_time": "2025-04-24T15:48:29.124138Z"
    }
   },
   "cell_type": "code",
   "source": [
    "from pandas import read_csv\n",
    "from sklearn.model_selection import KFold\n",
    "from sklearn.model_selection import cross_val_score\n",
    "from sklearn.linear_model import LogisticRegression\n",
    "from sklearn.tree import DecisionTreeClassifier\n",
    "from sklearn.svm import SVC\n",
    "from sklearn.ensemble import VotingClassifier\n",
    "from sklearn.preprocessing import StandardScaler\n",
    "\n",
    "# Đọc dữ liệu\n",
    "filename = 'pima-indians-diabetes.data.csv'\n",
    "names = ['preg', 'plas', 'pres', 'skin', 'test', 'mass', 'pedi', 'age', 'class']\n",
    "dataframe = read_csv(filename, names=names)\n",
    "array = dataframe.values\n",
    "X = array[:, 0:8]\n",
    "Y = array[:, 8]\n",
    "\n",
    "# Chuẩn hóa dữ liệu\n",
    "scaler = StandardScaler()\n",
    "X_scaled = scaler.fit_transform(X)\n",
    "\n",
    "# Khởi tạo mô hình và K-fold cross validation\n",
    "kfold = KFold(n_splits=10, shuffle=True, random_state=7)\n",
    "\n",
    "# Tạo các mô hình con\n",
    "estimators = []\n",
    "model1 = LogisticRegression(max_iter=1000)  # Tăng max_iter\n",
    "estimators.append(('logistic', model1))\n",
    "model2 = DecisionTreeClassifier()\n",
    "estimators.append(('cart', model2))\n",
    "model3 = SVC()\n",
    "estimators.append(('svm', model3))\n",
    "\n",
    "# Tạo mô hình ensemble\n",
    "ensemble = VotingClassifier(estimators)\n",
    "\n",
    "# Đánh giá mô hình\n",
    "results = cross_val_score(ensemble, X_scaled, Y, cv=kfold)\n",
    "print( results.mean())\n"
   ],
   "id": "fb9c4ca775ab7fc7",
   "outputs": [
    {
     "name": "stdout",
     "output_type": "stream",
     "text": [
      "0.7617737525632263\n"
     ]
    }
   ],
   "execution_count": 20
  }
 ],
 "metadata": {
  "kernelspec": {
   "display_name": "Python 3",
   "language": "python",
   "name": "python3"
  },
  "language_info": {
   "codemirror_mode": {
    "name": "ipython",
    "version": 2
   },
   "file_extension": ".py",
   "mimetype": "text/x-python",
   "name": "python",
   "nbconvert_exporter": "python",
   "pygments_lexer": "ipython2",
   "version": "2.7.6"
  }
 },
 "nbformat": 4,
 "nbformat_minor": 5
}
