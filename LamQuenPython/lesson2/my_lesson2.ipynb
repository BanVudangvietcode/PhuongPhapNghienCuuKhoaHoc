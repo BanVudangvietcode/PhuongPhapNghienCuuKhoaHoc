{
 "cells": [
  {
   "cell_type": "markdown",
   "metadata": {},
   "source": [
    "# Buổi 2: Cơ bản về ngôn ngữ lập trình Python #"
   ]
  },
  {
   "cell_type": "markdown",
   "metadata": {},
   "source": [
    "## 1. Nhập/xuất, biểu thức tính toán ##"
   ]
  },
  {
   "cell_type": "markdown",
   "metadata": {},
   "source": [
    "### Bài 1. Tính giá trị hàm số ###\n",
    "**Yêu cầu**: Hãy viết chương trình nhập vào số thực x và tính giá trị biểu thức:\n",
    "\n",
    "$$\n",
    "\n",
    "    f\\left(x\\right) = x + \\frac{x^5}{5!} + \\frac{\\sqrt{|x|}}{x^{3/2}}\n",
    "\n",
    "$$\n",
    "\n",
    "> Moi ban nhap vao gia tri cua bien so x: **2.3** <br/>\n",
    "> Gia tri cua ham so f(**2.3**) = **3.27**.\n",
    "\n",
    "\n",
    "\n"
   ]
  },
  {
   "cell_type": "code",
   "execution_count": 4,
   "metadata": {},
   "outputs": [
    {
     "name": "stdout",
     "output_type": "stream",
     "text": [
      "Gia tri cua ham so f(4815.0) =  21567520090136144.00.\n"
     ]
    }
   ],
   "source": [
    "\n",
    "# Khai báo thư viện\n",
    "\n",
    "import math\n",
    "\n",
    "# Nhập dữ liệu\n",
    "\n",
    "x   = float(input('Moi ban nhap vao gia tri cua bien so x: '))\n",
    "\n",
    "# Xử lý\n",
    "\n",
    "\"\"\" CÁC BẠN LÀM BÀI Ở ĐÂY \"\"\"\n",
    "\n",
    "f_x = x + (math.pow(x, 5)/ (5*4*3*2*1)) + (math.sqrt(abs(x))/math.pow(x,3/2))\n",
    "\n",
    "\n",
    "\n",
    "# Xuất dữ liệu\n",
    "\n",
    "print(f'Gia tri cua ham so f({x}) = {f_x: .2f}.')"
   ]
  },
  {
   "cell_type": "markdown",
   "metadata": {},
   "source": [
    "### Bài 2. Đổi sang giờ phút giây\n",
    "Một thiết bị hoạt động được t giây. Hãy viết chương trình chuyển số giây đó dưới dạng số giờ, số phút và số giây.\n",
    ">Nhap vao tong so giay: **4810** <br/>\n",
    ">**4810** giay co dang **1:20:10**"
   ]
  },
  {
   "cell_type": "code",
   "execution_count": 5,
   "metadata": {},
   "outputs": [
    {
     "name": "stdout",
     "output_type": "stream",
     "text": [
      "4815 giay co dang 1:20:15\n"
     ]
    }
   ],
   "source": [
    "# Nhập dữ liệu\n",
    "t  = int(input('Nhap vao tong so giay: '))\n",
    "\n",
    "# Xử lý\n",
    "\"\"\" CÁC BẠN LÀM BÀI Ở ĐÂY \"\"\"\n",
    "hh = t // 3600\n",
    "mm = (t - hh * 3600) // 60\n",
    "ss = t - hh * 3600 - mm * 60\n",
    "\n",
    "# Xuất dữ liệu\n",
    "print(f'{t} giay co dang {hh}:{mm}:{ss}')"
   ]
  },
  {
   "cell_type": "markdown",
   "metadata": {},
   "source": [
    "## 2. Cấu trúc lựa chọn"
   ]
  },
  {
   "cell_type": "markdown",
   "metadata": {},
   "source": [
    "### Bài 3. Giải phuơng trình bậc 1\n",
    "Nhập 2 số thực $a$, $b$. Tìm nghiệm của phương trình bậc 1 $ax + b = 0$.\n",
    ">Moi ban nhap he so a: **1** <br/>\n",
    ">Moi ban nhap he so b: **5** <br/>\n",
    ">Phuong trinh **1x + 5 = 0** co **1** nghiem x = **-5.00**."
   ]
  },
  {
   "cell_type": "code",
   "execution_count": 6,
   "metadata": {},
   "outputs": [
    {
     "name": "stdout",
     "output_type": "stream",
     "text": [
      "Phuong trinh 3x + -6 = 0 co 1 nghiem x =  2.00.\n"
     ]
    }
   ],
   "source": [
    "# Nhập dữ liệu\n",
    "a  = int(input('Moi ban nhap he so a: '))\n",
    "b  = int(input('Moi ban nhap he so b: '))\n",
    "\n",
    "# Xử lý\n",
    "\"\"\" CÁC BẠN LÀM BÀI Ở ĐÂY \"\"\"\n",
    "if a == 0:\n",
    "    flag = -1\n",
    "    if b == 0:\n",
    "        flag = 0\n",
    "        x = 0\n",
    "    else:\n",
    "        flag = 0\n",
    "else:\n",
    "    flag = 1\n",
    "    x = -b/a\n",
    "    \n",
    "# Xuất dữ liệu\n",
    "s = f'Phuong trinh {a}x + {b} = 0'\n",
    "if flag == -1:\n",
    "    print(f'{s} vo so nghiem.')\n",
    "elif flag == 0:\n",
    "    print(f'{s} vo nghiem.')\n",
    "else:\n",
    "    print(f'{s} co 1 nghiem x = {x: .2f}.')\n",
    "# if"
   ]
  },
  {
   "cell_type": "markdown",
   "metadata": {},
   "source": [
    "### Bài 4. Chuyển ký số sang số\n",
    "Nhập một chuỗi s là chuỗi biểu diễn ký tự số trong tiếng Anh gồm {zero, one, two, three, four, five, six, seven, eight, nine}. Hãy kiểm tra chuỗi nhập có hợp lệ không? Nếu hợp lệ thì in ra ký số của chuỗi đó và chuỗi ký số bên tiếng việt tương ứng.\n",
    "> Moi ban nhap chuoi ky so s: One <br/>\n",
    "> Chuoi vua nhap hop le! \n",
    "> \"One\" bieu dien so cho \"1\" va ung voi tieng Viet \"mot\".\n",
    "\n",
    "> Moi ban nhap chuoi ky so s: hello <br/>\n",
    "> Chuoi vua nhap khong hop le!"
   ]
  },
  {
   "cell_type": "code",
   "execution_count": 7,
   "metadata": {},
   "outputs": [
    {
     "name": "stdout",
     "output_type": "stream",
     "text": [
      "Chuoi vua nhap hop le!\n",
      "\"fIVe\" bieu dien cho \"5\" va ung voi tieng Viet \"nam\".\n"
     ]
    }
   ],
   "source": [
    "import re\n",
    "s = input(\"Moi ban nhap chuoi ky so s: \")\n",
    "\n",
    "en  = [\"zero\", \"one\", \"two\", \"three\", \"four\", \"five\", \"six\", \"seven\", \"eight\", \"nine\"]\n",
    "vi  = [\"khong\", \"mot\", \"hai\", \"ba\", \"bon\", \"nam\", \"sau\", \"bay\", \"tam\", \"chin\"]\n",
    "num = [0, 1, 2, 3, 4, 5, 6, 7, 8, 9]\n",
    "\"\"\" CÁC BẠN LÀM BÀI Ở ĐÂY \"\"\"\n",
    "def convert(s):\n",
    "    for i in range(len(en)):\n",
    "        if re.match(en[i], s, re.IGNORECASE):\n",
    "            return i\n",
    "    return -1\n",
    "\n",
    "\n",
    "if convert(s) != -1:\n",
    "    print(\"Chuoi vua nhap hop le!\")\n",
    "    print(f'\"{s}\" bieu dien cho \"{num[convert(s)]}\" va ung voi tieng Viet \"{vi[convert(s)]}\".')\n",
    "else:\n",
    "    print(\"Chuoi vua nhap khong hop le!\")"
   ]
  },
  {
   "cell_type": "markdown",
   "metadata": {},
   "source": [
    "## 3. Cấu trúc lặp"
   ]
  },
  {
   "cell_type": "markdown",
   "metadata": {},
   "source": [
    "### Bài 5. Tính tổng các số chẵn\n",
    "Nhập một số nguyên n. Hãy tính tổng các số chẵn từ 1 đến n.\n",
    "> Moi ban nhap so nguyen n: **100** <br>\n",
    "> Tong cac so chan tu 1 den **100** la **2550**."
   ]
  },
  {
   "cell_type": "code",
   "execution_count": 8,
   "metadata": {},
   "outputs": [
    {
     "name": "stdout",
     "output_type": "stream",
     "text": [
      "Tong cac so chan tu 1 den 100 la 2550.\n"
     ]
    }
   ],
   "source": [
    "# Nhập dữ liệu\n",
    "n   = int(input(\"Moi ban nhap so nguyen n: \"))\n",
    "\n",
    "# Xuất dữ liệu\n",
    "s   = 0\n",
    "\"\"\" CÁC BẠN LÀM BÀI Ở ĐÂY \"\"\"\n",
    "for i in range(1, n + 1):\n",
    "    if i % 2 == 0:\n",
    "        s += i\n",
    "\n",
    "print(f'Tong cac so chan tu 1 den {n} la {s}.')"
   ]
  },
  {
   "cell_type": "markdown",
   "metadata": {},
   "source": [
    "### Bài 6. Kiểm tra số nguyên tố\n",
    "\n",
    "Nhập vào một số nguyên dương n. Hãy kiểm tra xem n có phải là nguyên tố không?\n",
    "> Moi nhap nhap so nguyen n: **10** <br/>\n",
    "> **10** khong phai la so nguyen to.\n",
    "\n",
    "> Moi nhap nhap so nguyen n: **97** <br/>\n",
    "> **97** la so nguyen to.\n",
    "\n",
    "**Lưu ý**: n là số nguyên tố khi và chỉ khi không tồn tại số nguyên từ $2$ đến $\\sqrt(n)$ mà chia hết cho n."
   ]
  },
  {
   "cell_type": "code",
   "execution_count": 9,
   "metadata": {},
   "outputs": [
    {
     "name": "stdout",
     "output_type": "stream",
     "text": [
      "13 la so nguyen to.\n"
     ]
    }
   ],
   "source": [
    "# Nhập dữ liệu\n",
    "n   = int(input(\"Moi ban nhap so nguyen n: \"))\n",
    "\n",
    "# Xử lý \n",
    "\"\"\" CÁC BẠN LÀM BÀI Ở ĐÂY \"\"\"\n",
    "def lant(n):\n",
    "    if n < 2:\n",
    "        return False\n",
    "    for i in range(2, int(math.sqrt(n)) + 1):\n",
    "        if n % i == 0:\n",
    "            return False\n",
    "    return True\n",
    "\n",
    "# Xuất dữ liệu\n",
    "if lant(n) == True:\n",
    "    print(f'{n} la so nguyen to.')\n",
    "else:\n",
    "    print(f'{n} khong la so nguyen to.')"
   ]
  },
  {
   "cell_type": "markdown",
   "metadata": {},
   "source": [
    "## 4. Xử lý ngoại lệ và hàm số"
   ]
  },
  {
   "cell_type": "markdown",
   "metadata": {},
   "source": [
    "### Bài 7. Giải phương trình bậc 2\n",
    "Nhập 3 số thực a, b, c (có kiểm tra dữ liệu nhập số thực). Hãy xây dựng hàm giải phương trình bậc 2 $ax^2+bx+c=0$ và in kết quả giải ra màn hình.\n",
    "> Moi ban nhap he so a, b, c:  **a b c**<br/>\n",
    "> Ban nhap sai! Moi ban nhap lai!<br/>\n",
    "> Moi ban nhap he so a, b, c:  **1 a 3**<br/>\n",
    "> Ban nhap sai! Moi ban nhap lai!<br/>\n",
    "> Moi ban nhap he so a, b, c: **1 5 6**<br/>\n",
    "> Phuong trinh bac 2 **1x^2 + 5x + 6 = 0** co **2**  nghiem x1 = **-2.00**, x2 = **-3.00**."
   ]
  },
  {
   "cell_type": "code",
   "execution_count": 14,
   "metadata": {},
   "outputs": [],
   "source": [
    "def NhapDuLieu():\n",
    "    \"\"\"\n",
    "    Input: \n",
    "        Ban phim = 1 5 6\n",
    "    Output:\n",
    "        (a, b, c) --> (1, 5, 6)\n",
    "    \"\"\"\n",
    "    \"\"\" CÁC BẠN LÀM BÀI Ở ĐÂY \"\"\"    \n",
    "    a ,b, c = input(\"Moi ban nhap 3 so nguyen a, b, c: \").split()\n",
    "    a = float(a)\n",
    "    b = float(b)\n",
    "    c = float(c)\n",
    "    return a, b, c\n",
    "# NhapDuLieu"
   ]
  },
  {
   "cell_type": "code",
   "execution_count": 15,
   "metadata": {},
   "outputs": [],
   "source": [
    "# Kiểm tra hàm\n",
    "a, b, c = NhapDuLieu()"
   ]
  },
  {
   "cell_type": "code",
   "execution_count": 21,
   "metadata": {},
   "outputs": [],
   "source": [
    "import math\n",
    "def GiaiPhuongTrinhBac2(a, b, c):\n",
    "    \"\"\"\n",
    "    Input: a, b, c\n",
    "    Output: \n",
    "    + flag = -1 (VSN), 0 (VN), k (k nghiem)\n",
    "    + () --> flag = -1, 0\n",
    "    + (x) --> flag = 1\n",
    "    + (x1, x2) --> flag = 2\n",
    "    \"\"\"\n",
    "    flag = None\n",
    " \n",
    "    \"\"\" CÁC BẠN LÀM BÀI Ở ĐÂY \"\"\"\n",
    "    if a==0:\n",
    "        if b == 0:\n",
    "            flag = 0\n",
    "            x = ()\n",
    "        else:\n",
    "            flag = 1\n",
    "            x = -c/b\n",
    "    else:\n",
    "        delta = b * b - 4 * a * c\n",
    "        if delta < 0:\n",
    "            flag = 0\n",
    "            x = ()\n",
    "        elif delta == 0:\n",
    "            flag = 1\n",
    "            a = -b/ 2*a\n",
    "            x = a\n",
    "        else:\n",
    "            x1 = (-b + math.sqrt(delta)) / (2 * a)\n",
    "            x2 = (-b - math.sqrt(delta)) / (2 * a)\n",
    "            flag = 2\n",
    "            x = (x1, x2)\n",
    "    \n",
    "    return flag, x\n",
    "# GiaiPhuongTrinhBac2"
   ]
  },
  {
   "cell_type": "code",
   "execution_count": 22,
   "metadata": {},
   "outputs": [
    {
     "name": "stdout",
     "output_type": "stream",
     "text": [
      "a = 0\n",
      "So nghiem: 0, nghiem = ()\n",
      "So nghiem: 0, nghiem = ()\n",
      "So nghiem: 1, nghiem = -1.2\n",
      "a <> 0\n",
      "So nghiem: 0, nghiem = ()\n",
      "So nghiem: 1, nghiem = -1.0\n",
      "So nghiem: 2, nghiem = (-2.0, -3.0)\n"
     ]
    }
   ],
   "source": [
    "print(\"a = 0\")\n",
    "flag, x = GiaiPhuongTrinhBac2(0, 0, 0)\n",
    "print(f'So nghiem: {flag}, nghiem = {x}')\n",
    "flag, x = GiaiPhuongTrinhBac2(0, 0, 5)\n",
    "print(f'So nghiem: {flag}, nghiem = {x}')\n",
    "flag, x = GiaiPhuongTrinhBac2(0, 5, 6)\n",
    "print(f'So nghiem: {flag}, nghiem = {x}')\n",
    "\n",
    "print(\"a <> 0\")\n",
    "flag, x = GiaiPhuongTrinhBac2(5, 1, 2)\n",
    "print(f'So nghiem: {flag}, nghiem = {x}')\n",
    "flag, x = GiaiPhuongTrinhBac2(1, 2, 1)\n",
    "print(f'So nghiem: {flag}, nghiem = {x}')\n",
    "flag, x = GiaiPhuongTrinhBac2(1, 5, 6)\n",
    "print(f'So nghiem: {flag}, nghiem = {x}')"
   ]
  },
  {
   "cell_type": "code",
   "execution_count": 23,
   "metadata": {},
   "outputs": [
    {
     "name": "stdout",
     "output_type": "stream",
     "text": [
      "Phuong trinh bac 2 1.0x^2 + 5.0x + 6.0 = 0 co 2 nghiem, x1 = -2.0, x2 = -3.0!\n"
     ]
    }
   ],
   "source": [
    "# Kết nối bài\n",
    "a, b, c = NhapDuLieu()\n",
    "# Gọi hàm giải\n",
    "flag, x = GiaiPhuongTrinhBac2(1, 5, 6)\n",
    "# Xuất dữ liệu\n",
    "s = f'Phuong trinh bac 2 {a}x^2 + {b}x + {c} = 0'\n",
    "if flag == -1:\n",
    "    print(f'{s} co vo so nghiem!')\n",
    "elif flag == 0:\n",
    "    print(f'{s} vo nghiem!')\n",
    "elif flag == 1:\n",
    "    print(f'{s} co 1 nghiem, x = {x[0]}!')\n",
    "elif flag == 2:\n",
    "    print(f'{s} co 2 nghiem, x1 = {x[0]}, x2 = {x[1]}!')\n",
    "# if"
   ]
  },
  {
   "cell_type": "markdown",
   "metadata": {},
   "source": [
    "## 5. Dữ liệu nâng cao (List, Tuple, Set, Dictionary)"
   ]
  },
  {
   "cell_type": "markdown",
   "metadata": {},
   "source": [
    "### Bài 8. Các thao tác xử lý mảng số\n",
    "\n",
    "Viết chương trình xây dựng các hàm sau cho List và kiểm tra tính đúng đắn của các hàm số:\n",
    "+ Nhập một mảng số từ bàn phím cách nhau bởi khoảng trắng. Xuất mảng ra màn hình. <br/>\n",
    "+ Sinh một mảng số ngẫu nhiên có n phần tử trong khoảng a, b.\n",
    "+ Tính tổng của mảng số, đếm các phần tử chẵn, lẻ trong mảng.\n",
    "+ Cho một mảng số, hãy trả về dãy chẳn, dãy lẻ.\n",
    "\n",
    "> a = NhapMang() <br/>\n",
    "> XuatMang(a) <br/>\n",
    "> b = SinhNgauNhien(10, -10, 10) <br/>\n",
    "> XuatMang(b) <br/>\n",
    "> tong, chan, le = TinhTongChanLe(b) <br/>\n",
    "> a_chan, a_le = TimChanLe(b) <br/>"
   ]
  },
  {
   "cell_type": "code",
   "execution_count": 24,
   "metadata": {},
   "outputs": [],
   "source": [
    "def NhapMang():\n",
    "    \"\"\"\n",
    "    Input:\n",
    "        Ban phim = 1 4 1 2 3 4 1 2 3 3 1 2 3 4 10 2\n",
    "    Output:\n",
    "        a = [1, 4, 1, 2, 3, 4, 1, 2, 3, 3, 1, 2, 3, 4, 10, 2]\n",
    "    \"\"\"\n",
    "    \"\"\" CÁC BẠN LÀM BÀI Ở ĐÂY \"\"\"\n",
    "    # ...\n",
    "    a = list(map(int, input(\"Moi ban nhap mang (cach nhau khoang trang): \").split()))\n",
    "    return a\n",
    "# NhapMang"
   ]
  },
  {
   "cell_type": "code",
   "execution_count": 25,
   "metadata": {},
   "outputs": [
    {
     "name": "stdout",
     "output_type": "stream",
     "text": [
      "[1, 5, 2, 3, 6, 9, 8, 7]\n"
     ]
    }
   ],
   "source": [
    "a = NhapMang() # 1 4 1 2 3 4 1 2 3 3 1 2 3 4 10 2\n",
    "print(a)"
   ]
  },
  {
   "cell_type": "code",
   "execution_count": 30,
   "metadata": {},
   "outputs": [],
   "source": [
    "def XuatMang(a):\n",
    "    \"\"\"\n",
    "    Input:\n",
    "        a = [1, 4, 1, 2, 3, 4, 1, 2, 3, 3, 1, 2, 3, 4, 10, 2]\n",
    "    Output: \n",
    "        In ra man hinh:\n",
    "            Mang co 16 phan tu: 1 4 1 2 3 4 1 2 3 3 1 2 3 4 10 2 \n",
    "    \"\"\"\n",
    "    \"\"\" CÁC BẠN LÀM BÀI Ở ĐÂY \"\"\"\n",
    "    print(f'Mang co {len(a)} phan tu: ', end = \"\")\n",
    "    for i in a:\n",
    "        print(i, end = \" \")\n",
    "    \n",
    "# XuatMang"
   ]
  },
  {
   "cell_type": "code",
   "execution_count": 31,
   "metadata": {},
   "outputs": [
    {
     "name": "stdout",
     "output_type": "stream",
     "text": [
      "Mang co 16 phan tu: 1 4 1 2 3 4 1 2 3 3 1 2 3 4 10 2 "
     ]
    }
   ],
   "source": [
    "a = [1, 4, 1, 2, 3, 4, 1, 2, 3, 3, 1, 2, 3, 4, 10, 2]\n",
    "XuatMang(a)"
   ]
  },
  {
   "cell_type": "code",
   "execution_count": 33,
   "metadata": {},
   "outputs": [],
   "source": [
    "import random\n",
    "def SinhNgauNhien(n, vmin = -10, vmax = 10):\n",
    "    \"\"\"\n",
    "    Input:\n",
    "        n = 30, vmin = -10, vmax = 10\n",
    "    Output:\n",
    "        a = [-1, -4, -8, 6, 4, -5, -1, -4, -9, -5, -10, 0, -6, 2, 1, -9, -9, 10, -8, -9, -7, 9, 2, -4, -1, -6, 5, -6, 9, -8]\n",
    "    \"\"\"    \n",
    "    a = []\n",
    "    \"\"\" CÁC BẠN LÀM BÀI Ở ĐÂY \"\"\"\n",
    "    for _ in range(n):\n",
    "        a.append(random.randint(vmin, vmax))\n",
    "    \n",
    "    return a\n",
    "# SinhNgauNhien"
   ]
  },
  {
   "cell_type": "code",
   "execution_count": 34,
   "metadata": {},
   "outputs": [
    {
     "name": "stdout",
     "output_type": "stream",
     "text": [
      "[6, 7, -9, 2, 7, -6, -8, 1, -1, -8, -5, 2, 4, -5, -5, -5, 4, -7, 7, -1, -4, -10, -2, -9, -8, 2, 7, 0, 3, 7]\n",
      "[10, 2, 7, 2, 6, 6, 3, 7, 10, 2, 7, 0, 1, 10, 0, 7, 5, 2, 7, 8, 3, 4, 1, 10, 9, 8, 8, 5, 8, 3]\n",
      "[-10, 1, -10, -10, -7, -7, -2, -7, -10, -1, -10, -9, 0, -8, -8, -8, 1, -7, -10, -5, -10, -3, -1, -10, -10, -9, -4, -2, -2, -4]\n"
     ]
    }
   ],
   "source": [
    "b = SinhNgauNhien(30, -10, 10)\n",
    "print(b)\n",
    "b = SinhNgauNhien(30, vmin = 0)\n",
    "print(b)\n",
    "b = SinhNgauNhien(30, vmax = 2)\n",
    "print(b)"
   ]
  },
  {
   "cell_type": "code",
   "execution_count": 37,
   "metadata": {},
   "outputs": [],
   "source": [
    "def DemTongChanLe(a):\n",
    "    \"\"\"\n",
    "    Input: a[] = [1, 4, 2, 0, -1, -7, 3, -6, 4, 9, -5, 7, 7, -7, -10, 1, -10, 9, -4, -6, 10, -2, -10, -8, -3, 2, -7, -10, 6, 0]\n",
    "    Output: tong, sochan, sole\n",
    "    \"\"\"\n",
    "    tong = 0\n",
    "    sochan = 0\n",
    "    sole = 0\n",
    "    \n",
    "    \"\"\" CÁC BẠN LÀM BÀI Ở ĐÂY \"\"\"\n",
    "    for i in a:\n",
    "        tong += i\n",
    "        if i % 2 == 0:\n",
    "            sochan += 1\n",
    "        else:\n",
    "            sole += 1\n",
    "    \n",
    "    return tong, sochan, sole\n",
    "# DemTongChanLe"
   ]
  },
  {
   "cell_type": "code",
   "execution_count": 38,
   "metadata": {},
   "outputs": [
    {
     "name": "stdout",
     "output_type": "stream",
     "text": [
      "(-31, 17, 13)\n",
      "(141, 17, 13)\n"
     ]
    }
   ],
   "source": [
    "a = [1, 4, 2, 0, -1, -7, 3, -6, 4, 9, -5, 7, 7, -7, -10, 1, -10, 9, -4, -6, 10, -2, -10, -8, -3, 2, -7, -10, 6, 0]\n",
    "print(DemTongChanLe(a))\n",
    "a = [9, 6, 5, 0, 8, 8, 1, 10, 0, 0, 1, 1, 2, 7, 1, 10, 9, 1, 10, 8, 2, 8, 4, 5, 4, 5, 5, 3, 6, 2]\n",
    "print(DemTongChanLe(a))"
   ]
  },
  {
   "cell_type": "code",
   "execution_count": 39,
   "metadata": {},
   "outputs": [],
   "source": [
    "def DayChanLe(a): # Gia tri tra ve\n",
    "    \"\"\"\n",
    "    Input:\n",
    "        a = [1, 4, 2, 0, -1, -7, 3, -6, 4, 9, -5, 7, 7, -7, -10, 1, -10, 9, -4, -6, 10, -2, -10, -8, -3, 2, -7, -10, 6, 0]\n",
    "    Output: (achan, ale)\n",
    "        achan = [4, 2, 0, -6, 4, -10, -10, -4, -6, 10, -2, -10, -8, 2, -10, 6, 0]\n",
    "        ale = [1, -1, -7, 3, 9, -5, 7, 7, -7, 1, 9, -3, -7]\n",
    "    \"\"\"    \n",
    "    achan = []\n",
    "    ale = []\n",
    "    \n",
    "    \"\"\" CÁC BẠN LÀM BÀI Ở ĐÂY \"\"\"\n",
    "    for i in a:\n",
    "        if i % 2 == 0:\n",
    "            achan.append(i)\n",
    "        else:\n",
    "            ale.append(i)\n",
    "    \n",
    "    return achan, ale\n",
    "# DayChanLe"
   ]
  },
  {
   "cell_type": "code",
   "execution_count": 40,
   "metadata": {},
   "outputs": [
    {
     "name": "stdout",
     "output_type": "stream",
     "text": [
      "DayChanLe:\n",
      "Chan = [4, 2, 0, -6, 4, -10, -10, -4, -6, 10, -2, -10, -8, 2, -10, 6, 0]\n",
      "Le = [1, -1, -7, 3, 9, -5, 7, 7, -7, 1, 9, -3, -7]\n",
      "\n"
     ]
    }
   ],
   "source": [
    "a = [1, 4, 2, 0, -1, -7, 3, -6, 4, 9, -5, 7, 7, -7, -10, 1, -10, 9, -4, -6, 10, -2, -10, -8, -3, 2, -7, -10, 6, 0]\n",
    "achan, ale = DayChanLe(a)\n",
    "print(f'DayChanLe:\\nChan = {achan}\\nLe = {ale}\\n')"
   ]
  },
  {
   "cell_type": "markdown",
   "metadata": {},
   "source": [
    "### Bài 9. Các thao tác trên tập hợp, từ điển\n",
    "\n",
    "Viết chương trình nhập vào một dãy ký tự a cách nhau bởi khoảng trắng. Hãy thực hiện:\n",
    "+ In các ký tự trong a không trùng nhau và được sắp theo thứ tự tăng dần\n",
    "+ Đếm số lần xuất hiện các ký tự trong dãy a"
   ]
  },
  {
   "cell_type": "code",
   "execution_count": 41,
   "metadata": {},
   "outputs": [],
   "source": [
    "def XuLyKhongTrung(a):\n",
    "    \"\"\"\n",
    "    Input:\n",
    "        a = ['A', 'G', 'C', 'A', 'C', 'F', 'F', 'T', 'H']\n",
    "    Output:\n",
    "        s = ['A', 'C', 'F', 'G', 'H', 'T']\n",
    "    \"\"\"\n",
    "    s = set([])\n",
    "    s = set(a)\n",
    "    return sorted(s)\n",
    "# XuLyKhongTrung"
   ]
  },
  {
   "cell_type": "code",
   "execution_count": 42,
   "metadata": {},
   "outputs": [
    {
     "name": "stdout",
     "output_type": "stream",
     "text": [
      "['A', 'C', 'F', 'G', 'H', 'T']\n"
     ]
    }
   ],
   "source": [
    "a = ['A', 'G', 'C', 'A', 'C', 'F', 'F', 'T', 'H']\n",
    "b = XuLyKhongTrung(a)\n",
    "print(b)"
   ]
  },
  {
   "cell_type": "code",
   "execution_count": 43,
   "metadata": {},
   "outputs": [],
   "source": [
    "def DemSoLanXuatHien(a):\n",
    "    \"\"\"\n",
    "    Input:\n",
    "        a = ['A', 'G', 'C', 'A', 'C', 'F', 'F', 'T', 'H']\n",
    "    Output:\n",
    "        dem = {'A': 2, 'G': 1, 'C': 2, 'F': 2, 'T': 1, 'H': 1}\n",
    "    \"\"\"\n",
    "    dem = {} # (k, v): k (ky tu) v (so lan xuat hien)\n",
    "    \"\"\" CÁC BẠN LÀM BÀI Ở ĐÂY \"\"\"\n",
    "    for i in a:\n",
    "        if i in dem:\n",
    "            dem[i] += 1\n",
    "        else:\n",
    "            dem[i] = 1\n",
    "    \n",
    "    return dem\n",
    "# DemSoLanXuatHien"
   ]
  },
  {
   "cell_type": "code",
   "execution_count": 44,
   "metadata": {},
   "outputs": [
    {
     "name": "stdout",
     "output_type": "stream",
     "text": [
      "{'A': 2, 'G': 1, 'C': 2, 'F': 2, 'T': 1, 'H': 1}\n"
     ]
    }
   ],
   "source": [
    "a = ['A', 'G', 'C', 'A', 'C', 'F', 'F', 'T', 'H']\n",
    "b = DemSoLanXuatHien(a)\n",
    "print(b)"
   ]
  },
  {
   "cell_type": "markdown",
   "metadata": {},
   "source": [
    "# Kết thúc"
   ]
  }
 ],
 "metadata": {
  "kernelspec": {
   "display_name": "Python 3",
   "language": "python",
   "name": "python3"
  },
  "language_info": {
   "codemirror_mode": {
    "name": "ipython",
    "version": 3
   },
   "file_extension": ".py",
   "mimetype": "text/x-python",
   "name": "python",
   "nbconvert_exporter": "python",
   "pygments_lexer": "ipython3",
   "version": "3.12.1"
  }
 },
 "nbformat": 4,
 "nbformat_minor": 2
}
