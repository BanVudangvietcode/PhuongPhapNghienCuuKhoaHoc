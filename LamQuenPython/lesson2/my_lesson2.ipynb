{
 "cells": [
  {
   "cell_type": "markdown",
   "metadata": {},
   "source": [
    "# Buổi 2: Cơ bản về ngôn ngữ lập trình Python #"
   ]
  },
  {
   "cell_type": "markdown",
   "metadata": {},
   "source": [
    "## 1. Nhập/xuất, biểu thức tính toán ##"
   ]
  },
  {
   "cell_type": "markdown",
   "metadata": {},
   "source": [
    "### Bài 1. Tính giá trị hàm số ###\n",
    "**Yêu cầu**: Hãy viết chương trình nhập vào số thực x và tính giá trị biểu thức:\n",
    "\n",
    "$$\n",
    "\n",
    "    f\\left(x\\right) = x + \\frac{x^5}{5!} + \\frac{\\sqrt{|x|}}{x^{3/2}}\n",
    "\n",
    "$$\n",
    "\n",
    "> Moi ban nhap vao gia tri cua bien so x: **2.3** <br/>\n",
    "> Gia tri cua ham so f(**2.3**) = **3.27**.\n",
    "\n",
    "\n",
    "\n"
   ]
  },
  {
   "cell_type": "code",
   "execution_count": 1,
   "metadata": {},
   "outputs": [
    {
     "name": "stdout",
     "output_type": "stream",
     "text": [
      "Gia tri cua ham so f(2.3) =  3.27.\n"
     ]
    }
   ],
   "source": [
    "\n",
    "# Khai báo thư viện\n",
    "\n",
    "import math\n",
    "\n",
    "# Nhập dữ liệu\n",
    "\n",
    "x   = float(input('Moi ban nhap vao gia tri cua bien so x: '))\n",
    "\n",
    "# Xử lý\n",
    "\n",
    "\"\"\" CÁC BẠN LÀM BÀI Ở ĐÂY \"\"\"\n",
    "\n",
    "f_x = x + (math.pow(x, 5)/ (5*4*3*2*1)) + (math.sqrt(abs(x))/math.pow(x,3/2))\n",
    "\n",
    "\n",
    "\n",
    "# Xuất dữ liệu\n",
    "\n",
    "print(f'Gia tri cua ham so f({x}) = {f_x: .2f}.')"
   ]
  },
  {
   "cell_type": "markdown",
   "metadata": {},
   "source": [
    "### Bài 2. Đổi sang giờ phút giây\n",
    "Một thiết bị hoạt động được t giây. Hãy viết chương trình chuyển số giây đó dưới dạng số giờ, số phút và số giây.\n",
    ">Nhap vao tong so giay: **4810** <br/>\n",
    ">**4810** giay co dang **1:20:10**"
   ]
  },
  {
   "cell_type": "code",
   "execution_count": null,
   "metadata": {},
   "outputs": [],
   "source": [
    "# Nhập dữ liệu\n",
    "t  = int(input('Nhap vao tong so giay: '))\n",
    "\n",
    "# Xử lý\n",
    "\"\"\" CÁC BẠN LÀM BÀI Ở ĐÂY \"\"\"\n",
    "#1\n",
    "\n",
    "# Xuất dữ liệu\n",
    "print(f'{t} giay co dang {hh}:{mm}:{ss}')"
   ]
  }
 ],
 "metadata": {
  "kernelspec": {
   "display_name": "Python 3",
   "language": "python",
   "name": "python3"
  },
  "language_info": {
   "codemirror_mode": {
    "name": "ipython",
    "version": 3
   },
   "file_extension": ".py",
   "mimetype": "text/x-python",
   "name": "python",
   "nbconvert_exporter": "python",
   "pygments_lexer": "ipython3",
   "version": "3.12.1"
  }
 },
 "nbformat": 4,
 "nbformat_minor": 2
}
