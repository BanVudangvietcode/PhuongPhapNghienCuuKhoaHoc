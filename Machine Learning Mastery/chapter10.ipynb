{
 "cells": [
  {
   "cell_type": "markdown",
   "id": "85d7fde9",
   "metadata": {},
   "source": [
    "# Chapter 10"
   ]
  },
  {
   "cell_type": "markdown",
   "id": "0eabb42a",
   "metadata": {},
   "source": [
    "# Machine Learning Algorithm"
   ]
  },
  {
   "cell_type": "markdown",
   "id": "f6838374",
   "metadata": {},
   "source": [
    "## Classification Metrics"
   ]
  },
  {
   "cell_type": "markdown",
   "id": "175a3764",
   "metadata": {},
   "source": [
    "### Classification Accuracy"
   ]
  },
  {
   "cell_type": "code",
   "execution_count": null,
   "id": "ca9f83b2",
   "metadata": {},
   "outputs": [
    {
     "name": "stdout",
     "output_type": "stream",
     "text": [
      "Accuracy: 0.771 (0.051)\n"
     ]
    }
   ],
   "source": [
    "from pandas import read_csv  # Import thư viện pandas để đọc dữ liệu từ file CSV\n",
    "from sklearn.model_selection import KFold, cross_val_score  # Import các công cụ KFold và cross_val_score từ sklearn\n",
    "from sklearn.linear_model import LogisticRegression  # Import LogisticRegression từ sklearn\n",
    "\n",
    "filename = 'diabetes.csv'  # Tên file dữ liệu\n",
    "data = read_csv(filename)  # Đọc dữ liệu từ file CSV\n",
    "array = data.values  # Chuyển dữ liệu thành mảng numpy\n",
    "X = array[:,0:8]  # Lấy 8 cột đầu tiên làm dữ liệu đầu vào (features)\n",
    "Y = array[:,8]  # Lấy cột cuối cùng làm nhãn (labels)\n",
    "\n",
    "num_folds = 10  # Số lượng tập con trong k-fold cross-validation\n",
    "seed = 7  # Giá trị seed để đảm bảo tính ngẫu nhiên có thể tái lập\n",
    "kfold = KFold(n_splits=num_folds, random_state=seed, shuffle=True)  # Tạo đối tượng k-fold cross-validation\n",
    "\n",
    "model = LogisticRegression(solver='liblinear')  # Khởi tạo mô hình Logistic Regression với solver 'liblinear'\n",
    "scoring = 'accuracy'  # Tiêu chí đánh giá là độ chính xác (accuracy)\n",
    "\n",
    "# Thực hiện đánh giá mô hình bằng cross-validation\n",
    "result = cross_val_score(model, X, Y, cv=kfold, scoring=scoring)  \n",
    "\n",
    "# In ra độ chính xác trung bình và độ lệch chuẩn\n",
    "print(\"Accuracy: %.3f (%.3f)\" % (result.mean(), result.std()))  "
   ]
  },
  {
   "cell_type": "markdown",
   "id": "aff09527",
   "metadata": {},
   "source": [
    "### Logarithmic Loss"
   ]
  },
  {
   "cell_type": "code",
   "execution_count": null,
   "id": "1b27a411",
   "metadata": {},
   "outputs": [
    {
     "name": "stdout",
     "output_type": "stream",
     "text": [
      "Accuracy: -0.494 (0.042)\n"
     ]
    }
   ],
   "source": [
    "# Import thư viện pandas để đọc dữ liệu từ file CSV\n",
    "from pandas import read_csv\n",
    "# Import các công cụ KFold và cross_val_score từ sklearn\n",
    "from sklearn.model_selection import KFold, cross_val_score\n",
    "# Import LogisticRegression từ sklearn\n",
    "from sklearn.linear_model import LogisticRegression\n",
    "\n",
    "# Tên file dữ liệu\n",
    "filename = 'diabetes.csv'\n",
    "# Đọc dữ liệu từ file CSV\n",
    "data = read_csv(filename)\n",
    "# Chuyển dữ liệu thành mảng numpy\n",
    "array = data.values\n",
    "# Lấy 8 cột đầu tiên làm dữ liệu đầu vào (features)\n",
    "X = array[:,0:8]\n",
    "# Lấy cột cuối cùng làm nhãn (labels)\n",
    "Y = array[:,8]\n",
    "\n",
    "# Số lượng tập con trong k-fold cross-validation\n",
    "num_folds = 10\n",
    "# Giá trị seed để đảm bảo tính ngẫu nhiên có thể tái lập\n",
    "seed = 7\n",
    "# Tạo đối tượng k-fold cross-validation\n",
    "kfold = KFold(n_splits=num_folds, random_state=seed, shuffle=True)\n",
    "\n",
    "# Khởi tạo mô hình Logistic Regression với solver 'liblinear'\n",
    "model = LogisticRegression(solver='liblinear')\n",
    "# Tiêu chí đánh giá là log loss (negative log loss)\n",
    "scoring = 'neg_log_loss'\n",
    "\n",
    "# Thực hiện đánh giá mô hình bằng cross-validation\n",
    "result = cross_val_score(model, X, Y, cv=kfold, scoring=scoring)\n",
    "\n",
    "# In ra log loss trung bình và độ lệch chuẩn\n",
    "print(\"Accuracy: %.3f (%.3f)\" % (result.mean(), result.std()))"
   ]
  },
  {
   "cell_type": "markdown",
   "id": "735b6354",
   "metadata": {},
   "source": [
    "### Area Under ROC Curve"
   ]
  },
  {
   "cell_type": "code",
   "execution_count": null,
   "id": "7c8e5ec8",
   "metadata": {},
   "outputs": [
    {
     "name": "stdout",
     "output_type": "stream",
     "text": [
      "Accuracy: 0.826 (0.050)\n"
     ]
    }
   ],
   "source": [
    "# Import thư viện pandas để đọc dữ liệu từ file CSV\n",
    "from pandas import read_csv\n",
    "# Import các công cụ KFold và cross_val_score từ sklearn\n",
    "from sklearn.model_selection import KFold, cross_val_score\n",
    "# Import LogisticRegression từ sklearn\n",
    "from sklearn.linear_model import LogisticRegression\n",
    "\n",
    "# Tên file dữ liệu\n",
    "filename = 'diabetes.csv'\n",
    "# Đọc dữ liệu từ file CSV\n",
    "data = read_csv(filename)\n",
    "# Chuyển dữ liệu thành mảng numpy\n",
    "array = data.values\n",
    "# Lấy 8 cột đầu tiên làm dữ liệu đầu vào (features)\n",
    "X = array[:,0:8]\n",
    "# Lấy cột cuối cùng làm nhãn (labels)\n",
    "Y = array[:,8]\n",
    "\n",
    "# Số lượng tập con trong k-fold cross-validation\n",
    "num_folds = 10\n",
    "# Giá trị seed để đảm bảo tính ngẫu nhiên có thể tái lập\n",
    "seed = 7\n",
    "# Tạo đối tượng k-fold cross-validation\n",
    "kfold = KFold(n_splits=num_folds, random_state=seed, shuffle=True)\n",
    "\n",
    "# Khởi tạo mô hình Logistic Regression với solver 'liblinear'\n",
    "model = LogisticRegression(solver='liblinear')\n",
    "# Tiêu chí đánh giá là AUC (Area Under the ROC Curve)\n",
    "scoring = 'roc_auc'\n",
    "\n",
    "# Thực hiện đánh giá mô hình bằng cross-validation\n",
    "result = cross_val_score(model, X, Y, cv=kfold, scoring=scoring)\n",
    "\n",
    "# In ra AUC trung bình và độ lệch chuẩn\n",
    "print(\"Accuracy: %.3f (%.3f)\" % (result.mean(), result.std()))"
   ]
  },
  {
   "cell_type": "markdown",
   "id": "19ed216b",
   "metadata": {},
   "source": [
    "### Confusion Matrix"
   ]
  },
  {
   "cell_type": "code",
   "execution_count": null,
   "id": "57d04f65",
   "metadata": {},
   "outputs": [
    {
     "name": "stdout",
     "output_type": "stream",
     "text": [
      "[[141  21]\n",
      " [ 41  51]]\n"
     ]
    }
   ],
   "source": [
    "# Import thư viện pandas để đọc dữ liệu từ file CSV\n",
    "from pandas import read_csv\n",
    "# Import công cụ train_test_split từ sklearn để chia dữ liệu thành tập huấn luyện và kiểm tra\n",
    "from sklearn.model_selection import train_test_split\n",
    "# Import LogisticRegression từ sklearn để xây dựng mô hình hồi quy logistic\n",
    "from sklearn.linear_model import LogisticRegression\n",
    "# Import confusion_matrix từ sklearn để tạo ma trận nhầm lẫn\n",
    "from sklearn.metrics import confusion_matrix\n",
    "\n",
    "# Tên file dữ liệu\n",
    "filename = 'diabetes.csv'\n",
    "# Đọc dữ liệu từ file CSV\n",
    "data = read_csv(filename)\n",
    "# Chuyển dữ liệu thành mảng numpy\n",
    "array = data.values\n",
    "# Lấy 8 cột đầu tiên làm dữ liệu đầu vào (features)\n",
    "X = array[:,0:8]\n",
    "# Lấy cột cuối cùng làm nhãn (labels)\n",
    "Y = array[:,8]\n",
    "\n",
    "# Tỷ lệ dữ liệu kiểm tra là 33%\n",
    "test_size = 0.33\n",
    "# Giá trị seed để đảm bảo tính ngẫu nhiên có thể tái lập\n",
    "seed = 7\n",
    "# Chia dữ liệu thành tập huấn luyện và tập kiểm tra\n",
    "X_train, X_test, Y_train, Y_test = train_test_split(X, Y, test_size=test_size, random_state=seed)\n",
    "\n",
    "# Khởi tạo mô hình Logistic Regression với solver 'liblinear'\n",
    "model = LogisticRegression(solver='liblinear')\n",
    "# Huấn luyện mô hình trên tập huấn luyện\n",
    "model.fit(X_train, Y_train)\n",
    "# Dự đoán nhãn trên tập kiểm tra\n",
    "predicted = model.predict(X_test)\n",
    "\n",
    "# Tạo ma trận nhầm lẫn từ nhãn thực tế và nhãn dự đoán\n",
    "matrix = confusion_matrix(Y_test, predicted)\n",
    "# In ra ma trận nhầm lẫn\n",
    "print(matrix)"
   ]
  },
  {
   "cell_type": "markdown",
   "id": "dc16afda",
   "metadata": {},
   "source": [
    "### Classification Report"
   ]
  },
  {
   "cell_type": "code",
   "execution_count": null,
   "id": "32f71cc8",
   "metadata": {},
   "outputs": [
    {
     "name": "stdout",
     "output_type": "stream",
     "text": [
      "              precision    recall  f1-score   support\n",
      "\n",
      "         0.0       0.77      0.87      0.82       162\n",
      "         1.0       0.71      0.55      0.62        92\n",
      "\n",
      "    accuracy                           0.76       254\n",
      "   macro avg       0.74      0.71      0.72       254\n",
      "weighted avg       0.75      0.76      0.75       254\n",
      "\n"
     ]
    }
   ],
   "source": [
    "# Import thư viện pandas để đọc dữ liệu từ file CSV\n",
    "from pandas import read_csv\n",
    "# Import công cụ train_test_split từ sklearn để chia dữ liệu thành tập huấn luyện và kiểm tra\n",
    "from sklearn.model_selection import train_test_split\n",
    "# Import LogisticRegression từ sklearn để xây dựng mô hình hồi quy logistic\n",
    "from sklearn.linear_model import LogisticRegression\n",
    "# Import classification_report từ sklearn để tạo báo cáo phân loại\n",
    "from sklearn.metrics import classification_report\n",
    "\n",
    "# Tên file dữ liệu\n",
    "filename = 'diabetes.csv'\n",
    "# Đọc dữ liệu từ file CSV\n",
    "data = read_csv(filename)\n",
    "# Chuyển dữ liệu thành mảng numpy\n",
    "array = data.values\n",
    "# Lấy 8 cột đầu tiên làm dữ liệu đầu vào (features)\n",
    "X = array[:,0:8]\n",
    "# Lấy cột cuối cùng làm nhãn (labels)\n",
    "Y = array[:,8]\n",
    "\n",
    "# Tỷ lệ dữ liệu kiểm tra là 33%\n",
    "test_size = 0.33\n",
    "# Giá trị seed để đảm bảo tính ngẫu nhiên có thể tái lập\n",
    "seed = 7\n",
    "# Chia dữ liệu thành tập huấn luyện và tập kiểm tra\n",
    "X_train, X_test, Y_train, Y_test = train_test_split(X, Y, test_size=test_size, random_state=seed)\n",
    "\n",
    "# Khởi tạo mô hình Logistic Regression với solver 'liblinear'\n",
    "model = LogisticRegression(solver='liblinear')\n",
    "# Huấn luyện mô hình trên tập huấn luyện\n",
    "model.fit(X_train, Y_train)\n",
    "# Dự đoán nhãn trên tập kiểm tra\n",
    "predicted = model.predict(X_test)\n",
    "# Tạo báo cáo phân loại từ nhãn thực tế và nhãn dự đoán\n",
    "report = classification_report(Y_test, predicted)\n",
    "# In ra báo cáo phân loại\n",
    "print(report)"
   ]
  },
  {
   "cell_type": "markdown",
   "id": "277e992a",
   "metadata": {},
   "source": [
    "## Regression Metrics"
   ]
  },
  {
   "cell_type": "markdown",
   "id": "57cbac0f",
   "metadata": {},
   "source": [
    "### Mean Absolute Error"
   ]
  },
  {
   "cell_type": "code",
   "execution_count": null,
   "id": "3ad89258",
   "metadata": {},
   "outputs": [
    {
     "name": "stdout",
     "output_type": "stream",
     "text": [
      "MAE: -0.337 (0.020)\n"
     ]
    }
   ],
   "source": [
    "# Import thư viện pandas để đọc dữ liệu từ file CSV\n",
    "from pandas import read_csv\n",
    "# Import các công cụ KFold và cross_val_score từ sklearn để thực hiện cross-validation\n",
    "from sklearn.model_selection import KFold, cross_val_score\n",
    "# Import LinearRegression từ sklearn để xây dựng mô hình hồi quy tuyến tính\n",
    "from sklearn.linear_model import LinearRegression\n",
    "\n",
    "# Tên file dữ liệu\n",
    "filename = 'diabetes.csv'\n",
    "# Đọc dữ liệu từ file CSV\n",
    "data = read_csv(filename)\n",
    "# Chuyển dữ liệu thành mảng numpy\n",
    "array = data.values\n",
    "# Lấy 8 cột đầu tiên làm dữ liệu đầu vào (features)\n",
    "X = array[:,0:8]\n",
    "# Lấy cột cuối cùng làm nhãn (labels)\n",
    "Y = array[:,8]\n",
    "\n",
    "# Tỷ lệ dữ liệu kiểm tra là 33% (không được sử dụng trong đoạn code này)\n",
    "test_size = 0.33\n",
    "# Số lượng tập con trong k-fold cross-validation\n",
    "num_folds = 10\n",
    "# Giá trị seed để đảm bảo tính ngẫu nhiên có thể tái lập\n",
    "seed = 7\n",
    "# Tạo đối tượng k-fold cross-validation\n",
    "kfold = KFold(n_splits=num_folds, random_state=seed, shuffle=True)\n",
    "\n",
    "# Khởi tạo mô hình hồi quy tuyến tính\n",
    "model = LinearRegression()\n",
    "# Tiêu chí đánh giá là lỗi tuyệt đối trung bình (negative mean absolute error)\n",
    "scoring = 'neg_mean_absolute_error'\n",
    "\n",
    "# Thực hiện đánh giá mô hình bằng cross-validation\n",
    "result = cross_val_score(model, X, Y, cv=kfold, scoring=scoring)\n",
    "\n",
    "# In ra lỗi tuyệt đối trung bình trung bình và độ lệch chuẩn\n",
    "print(\"MAE: %.3f (%.3f)\" % (result.mean(), result.std()))"
   ]
  },
  {
   "cell_type": "markdown",
   "id": "e4981fdf",
   "metadata": {},
   "source": [
    "### Mean Squared Error"
   ]
  },
  {
   "cell_type": "code",
   "execution_count": null,
   "id": "cdc0c905",
   "metadata": {},
   "outputs": [
    {
     "name": "stdout",
     "output_type": "stream",
     "text": [
      "MSE: -0.163 (0.020)\n"
     ]
    }
   ],
   "source": [
    "# Import thư viện pandas để đọc dữ liệu từ file CSV\n",
    "from pandas import read_csv\n",
    "# Import các công cụ KFold và cross_val_score từ sklearn để thực hiện cross-validation\n",
    "from sklearn.model_selection import KFold, cross_val_score\n",
    "# Import LinearRegression từ sklearn để xây dựng mô hình hồi quy tuyến tính\n",
    "from sklearn.linear_model import LinearRegression\n",
    "\n",
    "# Tên file dữ liệu\n",
    "filename = 'diabetes.csv'\n",
    "# Đọc dữ liệu từ file CSV\n",
    "data = read_csv(filename)\n",
    "# Chuyển dữ liệu thành mảng numpy\n",
    "array = data.values\n",
    "# Lấy 8 cột đầu tiên làm dữ liệu đầu vào (features)\n",
    "X = array[:,0:8]\n",
    "# Lấy cột cuối cùng làm nhãn (labels)\n",
    "Y = array[:,8]\n",
    "\n",
    "# Số lượng tập con trong k-fold cross-validation\n",
    "num_folds = 10\n",
    "# Giá trị seed để đảm bảo tính ngẫu nhiên có thể tái lập\n",
    "seed = 7\n",
    "# Tạo đối tượng k-fold cross-validation\n",
    "kfold = KFold(n_splits=num_folds, random_state=seed, shuffle=True)\n",
    "\n",
    "# Khởi tạo mô hình hồi quy tuyến tính\n",
    "model = LinearRegression()\n",
    "# Tiêu chí đánh giá là lỗi bình phương trung bình (negative mean squared error)\n",
    "scoring = 'neg_mean_squared_error'\n",
    "\n",
    "# Thực hiện đánh giá mô hình bằng cross-validation\n",
    "result = cross_val_score(model, X, Y, cv=kfold, scoring=scoring)\n",
    "\n",
    "# In ra lỗi bình phương trung bình trung bình và độ lệch chuẩn\n",
    "print(\"MSE: %.3f (%.3f)\" % (result.mean(), result.std()))"
   ]
  },
  {
   "cell_type": "markdown",
   "id": "05a3047b",
   "metadata": {},
   "source": [
    "### $R^2$ Metric"
   ]
  },
  {
   "cell_type": "code",
   "execution_count": null,
   "id": "70c645da",
   "metadata": {},
   "outputs": [
    {
     "name": "stdout",
     "output_type": "stream",
     "text": [
      "R^2: 0.264 (0.102)\n"
     ]
    }
   ],
   "source": [
    "from pandas import read_csv  # Import thư viện pandas để đọc dữ liệu từ file CSV\n",
    "from sklearn.model_selection import KFold, cross_val_score  # Import các công cụ KFold và cross_val_score từ sklearn\n",
    "from sklearn.linear_model import LinearRegression  # Import LinearRegression từ sklearn để xây dựng mô hình hồi quy tuyến tính\n",
    "\n",
    "filename = 'diabetes.csv'  # Tên file dữ liệu\n",
    "data = read_csv(filename)  # Đọc dữ liệu từ file CSV\n",
    "array = data.values  # Chuyển dữ liệu thành mảng numpy\n",
    "X = array[:,0:8]  # Lấy 8 cột đầu tiên làm dữ liệu đầu vào (features)\n",
    "Y = array[:,8]  # Lấy cột cuối cùng làm nhãn (labels)\n",
    "\n",
    "test_size = 0.33  # Tỷ lệ dữ liệu kiểm tra là 33% (không được sử dụng trong đoạn code này)\n",
    "num_folds = 10  # Số lượng tập con trong k-fold cross-validation\n",
    "seed = 7  # Giá trị seed để đảm bảo tính ngẫu nhiên có thể tái lập\n",
    "kfold = KFold(n_splits=num_folds, random_state=seed, shuffle=True)  # Tạo đối tượng k-fold cross-validation\n",
    "\n",
    "model = LinearRegression()  # Khởi tạo mô hình hồi quy tuyến tính\n",
    "scoring = 'r2'  # Tiêu chí đánh giá là R^2 (hệ số xác định)\n",
    "\n",
    "result = cross_val_score(model, X, Y, cv=kfold, scoring=scoring)  # Thực hiện đánh giá mô hình bằng cross-validation\n",
    "print(\"R^2: %.3f (%.3f)\" % (result.mean(), result.std()))  # In ra R^2 trung bình và độ lệch chuẩn"
   ]
  }
 ],
 "metadata": {
  "kernelspec": {
   "display_name": "Python 3",
   "language": "python",
   "name": "python3"
  },
  "language_info": {
   "codemirror_mode": {
    "name": "ipython",
    "version": 3
   },
   "file_extension": ".py",
   "mimetype": "text/x-python",
   "name": "python",
   "nbconvert_exporter": "python",
   "pygments_lexer": "ipython3",
   "version": "3.12.1"
  }
 },
 "nbformat": 4,
 "nbformat_minor": 5
}
