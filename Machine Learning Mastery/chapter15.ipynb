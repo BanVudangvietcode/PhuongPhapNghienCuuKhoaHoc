{
 "cells": [
  {
   "cell_type": "markdown",
   "id": "fa689e49",
   "metadata": {},
   "source": [
    "# Chapter 15"
   ]
  },
  {
   "cell_type": "markdown",
   "id": "f809100e",
   "metadata": {},
   "source": [
    "# Improve Performance with Ensembles"
   ]
  },
  {
   "cell_type": "markdown",
   "id": "2b2d3195",
   "metadata": {},
   "source": [
    "## Bagging Algorithms"
   ]
  },
  {
   "cell_type": "markdown",
   "id": "1a270b97",
   "metadata": {},
   "source": [
    "### Bagged Decision Trees"
   ]
  },
  {
   "cell_type": "code",
   "execution_count": null,
   "id": "56e53c28",
   "metadata": {},
   "outputs": [
    {
     "name": "stdout",
     "output_type": "stream",
     "text": [
      "0.7578263841421736\n"
     ]
    }
   ],
   "source": [
    "from pandas import read_csv  # Thư viện để đọc dữ liệu từ file CSV\n",
    "from sklearn.model_selection import KFold, cross_val_score  # Thư viện để tạo k-fold cross-validation và đánh giá mô hình\n",
    "from sklearn.ensemble import BaggingClassifier  # Thư viện để tạo mô hình Bagging\n",
    "from sklearn.tree import DecisionTreeClassifier  # Thư viện để tạo mô hình cây quyết định\n",
    "\n",
    "# Đọc dữ liệu từ file CSV\n",
    "filename = 'diabetes.csv'  # Tên file dữ liệu\n",
    "data = read_csv(filename)  # Đọc dữ liệu\n",
    "\n",
    "# Chuyển dữ liệu thành mảng numpy\n",
    "array = data.values  # Chuyển đổi dữ liệu\n",
    "\n",
    "# Tách dữ liệu thành đặc trưng đầu vào (X) và biến mục tiêu (Y)\n",
    "X = array[:,0:8]  # 8 cột đầu tiên là đặc trưng đầu vào\n",
    "Y = array[:,8]    # Cột cuối cùng là biến mục tiêu\n",
    "\n",
    "# Định nghĩa các tham số cho cross-validation\n",
    "test_size = 0.33  # Tỷ lệ dữ liệu kiểm tra\n",
    "num_folds = 10    # Số lượng tập gấp trong cross-validation\n",
    "seed = 7          # Hạt giống ngẫu nhiên để đảm bảo tính tái lập\n",
    "\n",
    "# Tạo đối tượng k-fold cross-validation\n",
    "kfold = KFold(n_splits=num_folds, random_state=seed, shuffle=True)  # Tạo k-fold\n",
    "\n",
    "# Tạo mô hình cơ sở (Cây quyết định)\n",
    "cart = DecisionTreeClassifier()  # Mô hình cây quyết định\n",
    "\n",
    "# Định nghĩa số lượng cây trong mô hình Bagging\n",
    "num_trees = 100  # Số lượng cây\n",
    "\n",
    "# Tạo mô hình Bagging sử dụng cây quyết định làm mô hình cơ sở\n",
    "model = BaggingClassifier(estimator=cart, n_estimators=num_trees, random_state=seed)  # Mô hình Bagging\n",
    "\n",
    "# Đánh giá mô hình sử dụng cross-validation\n",
    "results = cross_val_score(model, X, Y, cv=kfold)  # Đánh giá mô hình\n",
    "\n",
    "# In ra độ chính xác trung bình của mô hình\n",
    "print(results.mean())  # In kết quả"
   ]
  },
  {
   "cell_type": "markdown",
   "id": "5084a0d8",
   "metadata": {},
   "source": [
    "### Random Forest"
   ]
  },
  {
   "cell_type": "code",
   "execution_count": null,
   "id": "718959f1",
   "metadata": {},
   "outputs": [
    {
     "name": "stdout",
     "output_type": "stream",
     "text": [
      "0.7721462747778538\n"
     ]
    }
   ],
   "source": [
    "from pandas import read_csv\n",
    "from sklearn.model_selection import KFold, cross_val_score\n",
    "from sklearn.ensemble import RandomForestClassifier\n",
    "\n",
    "# Load the dataset\n",
    "filename = 'diabetes.csv'\n",
    "data = read_csv(filename)\n",
    "\n",
    "# Convert the dataset to a numpy array\n",
    "array = data.values  # Convert to numpy array\n",
    "\n",
    "# Split the dataset into input features (X) and target variable (Y)\n",
    "X = array[:,0:8]  # First 8 columns are input features\n",
    "Y = array[:,8]    # Last column is the target variable\n",
    "\n",
    "# Define parameters for cross-validation\n",
    "test_size = 0.33  # Test size (not used here but defined for consistency)\n",
    "num_folds = 10    # Number of folds for k-fold cross-validation\n",
    "seed = 7          # Random seed for reproducibility\n",
    "\n",
    "# Create a k-fold cross-validation object\n",
    "kfold = KFold(n_splits=num_folds, random_state=seed, shuffle=True)\n",
    "\n",
    "# Define the number of trees for the Random Forest ensemble\n",
    "num_trees = 100\n",
    "\n",
    "# Create the Random Forest model\n",
    "model = RandomForestClassifier(n_estimators=num_trees, random_state=seed)\n",
    "\n",
    "# Evaluate the model using cross-validation\n",
    "results = cross_val_score(model, X, Y, cv=kfold)\n",
    "\n",
    "# Print the mean accuracy of the model\n",
    "print(results.mean())"
   ]
  },
  {
   "cell_type": "markdown",
   "id": "c3b01524",
   "metadata": {},
   "source": [
    "### Extra Trees"
   ]
  },
  {
   "cell_type": "code",
   "execution_count": null,
   "id": "22e76fb3",
   "metadata": {},
   "outputs": [
    {
     "name": "stdout",
     "output_type": "stream",
     "text": [
      "0.7656356801093642\n"
     ]
    }
   ],
   "source": [
    "from pandas import read_csv\n",
    "from sklearn.model_selection import KFold, cross_val_score\n",
    "from sklearn.ensemble import ExtraTreesClassifier\n",
    "\n",
    "# Load the dataset\n",
    "filename = 'diabetes.csv'\n",
    "data = read_csv(filename)\n",
    "\n",
    "# Convert the dataset to a numpy array\n",
    "array = data.values  # Convert to numpy array\n",
    "\n",
    "# Split the dataset into input features (X) and target variable (Y)\n",
    "X = array[:,0:8]  # First 8 columns are input features\n",
    "Y = array[:,8]    # Last column is the target variable\n",
    "\n",
    "# Define parameters for cross-validation\n",
    "test_size = 0.33  # Test size (not used here but defined for consistency)\n",
    "num_folds = 10    # Number of folds for k-fold cross-validation\n",
    "seed = 7          # Random seed for reproducibility\n",
    "\n",
    "# Create a k-fold cross-validation object\n",
    "kfold = KFold(n_splits=num_folds, random_state=seed, shuffle=True)\n",
    "\n",
    "# Define the number of trees for the Extra Trees ensemble\n",
    "num_trees = 100\n",
    "\n",
    "# Create the Extra Trees model\n",
    "model = ExtraTreesClassifier(n_estimators=num_trees, random_state=seed)\n",
    "\n",
    "# Evaluate the model using cross-validation\n",
    "results = cross_val_score(model, X, Y, cv=kfold)\n",
    "\n",
    "# Print the mean accuracy of the model\n",
    "print(results.mean())"
   ]
  },
  {
   "cell_type": "markdown",
   "id": "9174ed15",
   "metadata": {},
   "source": [
    "## Boosting Algorithms"
   ]
  },
  {
   "cell_type": "markdown",
   "id": "6de35640",
   "metadata": {},
   "source": [
    "### AdaBoost"
   ]
  },
  {
   "cell_type": "code",
   "execution_count": null,
   "id": "d6fedfc4",
   "metadata": {},
   "outputs": [
    {
     "name": "stdout",
     "output_type": "stream",
     "text": [
      "0.7552460697197538\n"
     ]
    }
   ],
   "source": [
    "from pandas import read_csv\n",
    "from sklearn.model_selection import KFold, cross_val_score\n",
    "from sklearn.ensemble import AdaBoostClassifier\n",
    "\n",
    "# Load the dataset\n",
    "filename = 'diabetes.csv'\n",
    "data = read_csv(filename)\n",
    "\n",
    "# Convert the dataset to a numpy array\n",
    "array = data.values  # Convert to numpy array\n",
    "\n",
    "# Split the dataset into input features (X) and target variable (Y)\n",
    "X = array[:,0:8]  # First 8 columns are input features\n",
    "Y = array[:,8]    # Last column is the target variable\n",
    "\n",
    "# Define parameters for cross-validation\n",
    "test_size = 0.33  # Test size (not used here but defined for consistency)\n",
    "num_folds = 10    # Number of folds for k-fold cross-validation\n",
    "seed = 7          # Random seed for reproducibility\n",
    "\n",
    "# Create a k-fold cross-validation object\n",
    "kfold = KFold(n_splits=num_folds, random_state=seed, shuffle=True)\n",
    "\n",
    "# Define the number of trees for the AdaBoost ensemble\n",
    "num_trees = 30  # Number of weak learners (estimators) in the ensemble\n",
    "\n",
    "# Create the AdaBoost model\n",
    "model = AdaBoostClassifier(n_estimators=num_trees, random_state=seed)\n",
    "\n",
    "# Evaluate the model using cross-validation\n",
    "results = cross_val_score(model, X, Y, cv=kfold)\n",
    "\n",
    "# Print the mean accuracy of the model\n",
    "print(results.mean())"
   ]
  },
  {
   "cell_type": "markdown",
   "id": "1043732f",
   "metadata": {},
   "source": [
    "### Stochastic Gradient Boosting"
   ]
  },
  {
   "cell_type": "code",
   "execution_count": null,
   "id": "87579805",
   "metadata": {},
   "outputs": [
    {
     "name": "stdout",
     "output_type": "stream",
     "text": [
      "0.7578947368421053\n"
     ]
    }
   ],
   "source": [
    "from pandas import read_csv\n",
    "from sklearn.model_selection import KFold, cross_val_score\n",
    "from sklearn.ensemble import GradientBoostingClassifier\n",
    "\n",
    "# Load the dataset\n",
    "filename = 'diabetes.csv'  # Tên file chứa dữ liệu\n",
    "data = read_csv(filename)  # Đọc dữ liệu từ file CSV\n",
    "\n",
    "# Convert the dataset to a numpy array\n",
    "array = data.values  # Chuyển dữ liệu thành mảng numpy\n",
    "\n",
    "# Split the dataset into input features (X) and target variable (Y)\n",
    "X = array[:,0:8]  # 8 cột đầu tiên là các đặc trưng đầu vào\n",
    "Y = array[:,8]    # Cột cuối cùng là biến mục tiêu\n",
    "\n",
    "# Define parameters for cross-validation\n",
    "test_size = 0.33  # Tỷ lệ dữ liệu kiểm tra (không sử dụng trong đoạn code này)\n",
    "num_folds = 10    # Số lượng tập gấp trong cross-validation\n",
    "seed = 7          # Hạt giống ngẫu nhiên để đảm bảo tính tái lập\n",
    "\n",
    "# Create a k-fold cross-validation object\n",
    "kfold = KFold(n_splits=num_folds, random_state=seed, shuffle=True)  # Tạo đối tượng k-fold cross-validation\n",
    "\n",
    "# Define the number of trees for the Gradient Boosting ensemble\n",
    "num_trees = 100  # Số lượng cây trong mô hình Gradient Boosting\n",
    "\n",
    "# Create the Gradient Boosting model\n",
    "model = GradientBoostingClassifier(n_estimators=num_trees, random_state=seed)  # Tạo mô hình Gradient Boosting\n",
    "\n",
    "# Evaluate the model using cross-validation\n",
    "results = cross_val_score(model, X, Y, cv=kfold)  # Đánh giá mô hình bằng cross-validation\n",
    "\n",
    "# Print the mean accuracy of the model\n",
    "print(results.mean())  # In ra độ chính xác trung bình của mô hình"
   ]
  },
  {
   "cell_type": "markdown",
   "id": "d180a9bc",
   "metadata": {},
   "source": [
    "## Voting Ensemble"
   ]
  },
  {
   "cell_type": "code",
   "execution_count": 10,
   "id": "fd799d34",
   "metadata": {},
   "outputs": [
    {
     "name": "stdout",
     "output_type": "stream",
     "text": [
      "0.7695659603554341\n"
     ]
    }
   ],
   "source": [
    "from pandas import read_csv\n",
    "from sklearn.model_selection import KFold, cross_val_score\n",
    "from sklearn.linear_model import LogisticRegression\n",
    "from sklearn.tree import DecisionTreeClassifier\n",
    "from sklearn.ensemble import VotingClassifier\n",
    "from sklearn.svm import SVC\n",
    "filename = 'diabetes.csv'\n",
    "data = read_csv(filename)\n",
    "array = data.values # convert to numpy array\n",
    "X = array[:,0:8] # first 8 column\n",
    "Y = array[:,8] # last column\n",
    "num_folds = 10\n",
    "seed = 7\n",
    "kfold = KFold(n_splits=num_folds, random_state=seed, shuffle=True) # create k-fold cross-validation\n",
    "estimators = []\n",
    "estimators.append(('logistic', LogisticRegression(solver='liblinear'))) # create the model\n",
    "estimators.append(('cart', DecisionTreeClassifier())) # create the model\n",
    "estimators.append(('svm', SVC())) # create the model\n",
    "ensemble = VotingClassifier(estimators) # create the ensemble\n",
    "results = cross_val_score(ensemble, X, Y, cv=kfold) # evaluate the ensemble\n",
    "print(results.mean()) # print the mean accuracy"
   ]
  }
 ],
 "metadata": {
  "kernelspec": {
   "display_name": "Python 3",
   "language": "python",
   "name": "python3"
  },
  "language_info": {
   "codemirror_mode": {
    "name": "ipython",
    "version": 3
   },
   "file_extension": ".py",
   "mimetype": "text/x-python",
   "name": "python",
   "nbconvert_exporter": "python",
   "pygments_lexer": "ipython3",
   "version": "3.12.1"
  }
 },
 "nbformat": 4,
 "nbformat_minor": 5
}
