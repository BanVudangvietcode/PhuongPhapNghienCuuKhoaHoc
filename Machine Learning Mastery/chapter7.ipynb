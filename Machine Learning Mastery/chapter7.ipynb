{
 "cells": [
  {
   "cell_type": "markdown",
   "id": "759232e8",
   "metadata": {},
   "source": [
    "# Chapter 7"
   ]
  },
  {
   "cell_type": "markdown",
   "id": "1b65ab79",
   "metadata": {},
   "source": [
    "# Prepare Your Data For Machine Learning"
   ]
  },
  {
   "cell_type": "markdown",
   "id": "00e20ce4",
   "metadata": {},
   "source": [
    "## Rescale Data"
   ]
  },
  {
   "cell_type": "code",
   "execution_count": null,
   "id": "e0582c39",
   "metadata": {},
   "outputs": [
    {
     "name": "stdout",
     "output_type": "stream",
     "text": [
      "[[0.353 0.744 0.59  0.354 0.    0.501 0.234 0.483]\n",
      " [0.059 0.427 0.541 0.293 0.    0.396 0.117 0.167]\n",
      " [0.471 0.92  0.525 0.    0.    0.347 0.254 0.183]\n",
      " [0.059 0.447 0.541 0.232 0.111 0.419 0.038 0.   ]\n",
      " [0.    0.688 0.328 0.354 0.199 0.642 0.944 0.2  ]]\n"
     ]
    }
   ],
   "source": [
    "# Import các thư viện cần thiết\n",
    "from pandas import read_csv\n",
    "from numpy import set_printoptions\n",
    "from sklearn.preprocessing import MinMaxScaler\n",
    "\n",
    "# Đọc dữ liệu từ file CSV\n",
    "filename = 'diabetes.csv'\n",
    "data = read_csv(filename)\n",
    "\n",
    "# Chuyển dữ liệu từ DataFrame sang mảng numpy\n",
    "array = data.values # chuyển đổi thành mảng numpy\n",
    "X = array[:,0:8] # lấy 8 cột đầu tiên làm dữ liệu đầu vào\n",
    "Y = array[:,8] # lấy cột cuối cùng làm nhãn\n",
    "\n",
    "# Khởi tạo bộ MinMaxScaler để chuẩn hóa dữ liệu về khoảng từ 0 đến 1\n",
    "scaler = MinMaxScaler(feature_range=(0, 1)) # chuẩn hóa giá trị về khoảng từ 0 đến 1\n",
    "\n",
    "# Áp dụng chuẩn hóa dữ liệu\n",
    "resCaledX = scaler.fit_transform(X) # chuẩn hóa toàn bộ dữ liệu về khoảng từ 0 đến 1\n",
    "\n",
    "# Thiết lập hiển thị số thập phân với 3 chữ số sau dấu phẩy\n",
    "set_printoptions(precision=3) # in ra 3 chữ số sau dấu phẩy\n",
    "\n",
    "# In ra 5 dòng đầu tiên của dữ liệu đã được chuẩn hóa\n",
    "print(resCaledX[0:5,:]) # in ra 5 dòng đầu tiên"
   ]
  },
  {
   "cell_type": "markdown",
   "id": "5ed14f05",
   "metadata": {},
   "source": [
    "## Standardize Data"
   ]
  },
  {
   "cell_type": "code",
   "execution_count": null,
   "id": "ab6284d2",
   "metadata": {},
   "outputs": [
    {
     "name": "stdout",
     "output_type": "stream",
     "text": [
      "[[ 0.64   0.848  0.15   0.907 -0.693  0.204  0.468  1.426]\n",
      " [-0.845 -1.123 -0.161  0.531 -0.693 -0.684 -0.365 -0.191]\n",
      " [ 1.234  1.944 -0.264 -1.288 -0.693 -1.103  0.604 -0.106]\n",
      " [-0.845 -0.998 -0.161  0.155  0.123 -0.494 -0.921 -1.042]\n",
      " [-1.142  0.504 -1.505  0.907  0.766  1.41   5.485 -0.02 ]]\n"
     ]
    }
   ],
   "source": [
    "# Import các thư viện cần thiết\n",
    "from pandas import read_csv\n",
    "from numpy import set_printoptions\n",
    "from sklearn.preprocessing import StandardScaler\n",
    "\n",
    "# Đọc dữ liệu từ file CSV\n",
    "filename = 'diabetes.csv'\n",
    "data = read_csv(filename)\n",
    "\n",
    "# Chuyển dữ liệu từ DataFrame sang mảng numpy\n",
    "array = data.values # chuyển đổi thành mảng numpy\n",
    "X = array[:,0:8] # lấy 8 cột đầu tiên làm dữ liệu đầu vào\n",
    "Y = array[:,8] # lấy cột cuối cùng làm nhãn\n",
    "\n",
    "# Khởi tạo bộ StandardScaler để chuẩn hóa dữ liệu\n",
    "scaler = StandardScaler().fit(X) # chuẩn hóa dữ liệu theo phân phối chuẩn\n",
    "\n",
    "# Áp dụng chuẩn hóa dữ liệu\n",
    "resCaledX = scaler.transform(X) # chuẩn hóa toàn bộ dữ liệu\n",
    "\n",
    "# Thiết lập hiển thị số thập phân với 3 chữ số sau dấu phẩy\n",
    "set_printoptions(precision=3) # in ra 3 chữ số sau dấu phẩy\n",
    "\n",
    "# In ra 5 dòng đầu tiên của dữ liệu đã được chuẩn hóa\n",
    "print(resCaledX[0:5,:]) # in ra 5 dòng đầu tiên"
   ]
  },
  {
   "cell_type": "markdown",
   "id": "fec4ddf7",
   "metadata": {},
   "source": [
    "## Normalize Data"
   ]
  },
  {
   "cell_type": "code",
   "execution_count": null,
   "id": "e9fd5480",
   "metadata": {},
   "outputs": [
    {
     "name": "stdout",
     "output_type": "stream",
     "text": [
      "[[0.034 0.828 0.403 0.196 0.    0.188 0.004 0.28 ]\n",
      " [0.008 0.716 0.556 0.244 0.    0.224 0.003 0.261]\n",
      " [0.04  0.924 0.323 0.    0.    0.118 0.003 0.162]\n",
      " [0.007 0.588 0.436 0.152 0.622 0.186 0.001 0.139]\n",
      " [0.    0.596 0.174 0.152 0.731 0.188 0.01  0.144]]\n"
     ]
    }
   ],
   "source": [
    "# Import các thư viện cần thiết\n",
    "from pandas import read_csv\n",
    "from numpy import set_printoptions\n",
    "from sklearn.preprocessing import Normalizer\n",
    "\n",
    "# Đọc dữ liệu từ file CSV\n",
    "filename = 'diabetes.csv'\n",
    "data = read_csv(filename)\n",
    "\n",
    "# Chuyển dữ liệu từ DataFrame sang mảng numpy\n",
    "array = data.values # chuyển đổi thành mảng numpy\n",
    "X = array[:,0:8] # lấy 8 cột đầu tiên làm dữ liệu đầu vào\n",
    "Y = array[:,8] # lấy cột cuối cùng làm nhãn\n",
    "\n",
    "# Khởi tạo bộ Normalizer để chuẩn hóa dữ liệu\n",
    "scaler = Normalizer().fit(X) # chuẩn hóa dữ liệu về khoảng từ 0 đến 1\n",
    "\n",
    "# Áp dụng chuẩn hóa dữ liệu\n",
    "resCaledX = scaler.transform(X) # chuẩn hóa toàn bộ dữ liệu về khoảng từ 0 đến 1\n",
    "\n",
    "# Thiết lập hiển thị số thập phân với 3 chữ số sau dấu phẩy\n",
    "set_printoptions(precision=3) # in ra 3 chữ số sau dấu phẩy\n",
    "\n",
    "# In ra 5 dòng đầu tiên của dữ liệu đã được chuẩn hóa\n",
    "print(resCaledX[0:5,:]) # in ra 5 dòng đầu tiên"
   ]
  },
  {
   "cell_type": "markdown",
   "id": "1215b755",
   "metadata": {},
   "source": [
    "## Binarize Data"
   ]
  },
  {
   "cell_type": "code",
   "execution_count": null,
   "id": "8664e893",
   "metadata": {},
   "outputs": [
    {
     "name": "stdout",
     "output_type": "stream",
     "text": [
      "[[1. 1. 1. 1. 0. 1. 1. 1.]\n",
      " [1. 1. 1. 1. 0. 1. 1. 1.]\n",
      " [1. 1. 1. 0. 0. 1. 1. 1.]\n",
      " [1. 1. 1. 1. 1. 1. 1. 1.]\n",
      " [0. 1. 1. 1. 1. 1. 1. 1.]]\n"
     ]
    }
   ],
   "source": [
    "# Import các thư viện cần thiết\n",
    "from pandas import read_csv\n",
    "from numpy import set_printoptions\n",
    "from sklearn.preprocessing import Binarizer\n",
    "\n",
    "# Đọc dữ liệu từ file CSV\n",
    "filename = 'diabetes.csv'\n",
    "data = read_csv(filename)\n",
    "\n",
    "# Chuyển dữ liệu từ DataFrame sang mảng numpy\n",
    "array = data.values # chuyển đổi thành mảng numpy\n",
    "X = array[:,0:8] # lấy 8 cột đầu tiên làm dữ liệu đầu vào\n",
    "Y = array[:,8] # lấy cột cuối cùng làm nhãn\n",
    "\n",
    "# Khởi tạo bộ Binarizer để chuyển đổi dữ liệu thành giá trị 0 và 1\n",
    "scaler = Binarizer(threshold=0.0).fit(X) # chuyển đổi giá trị thành 0 và 1 dựa trên ngưỡng\n",
    "\n",
    "# Áp dụng chuẩn hóa dữ liệu\n",
    "resCaledX = scaler.transform(X) # chuẩn hóa toàn bộ dữ liệu về 0 và 1\n",
    "\n",
    "# Thiết lập hiển thị số thập phân với 3 chữ số sau dấu phẩy\n",
    "set_printoptions(precision=3) # in ra 3 chữ số sau dấu phẩy\n",
    "\n",
    "# In ra 5 dòng đầu tiên của dữ liệu đã được chuẩn hóa\n",
    "print(resCaledX[0:5,:]) # in ra 5 dòng đầu tiên"
   ]
  }
 ],
 "metadata": {
  "kernelspec": {
   "display_name": "Python 3",
   "language": "python",
   "name": "python3"
  },
  "language_info": {
   "codemirror_mode": {
    "name": "ipython",
    "version": 3
   },
   "file_extension": ".py",
   "mimetype": "text/x-python",
   "name": "python",
   "nbconvert_exporter": "python",
   "pygments_lexer": "ipython3",
   "version": "3.12.1"
  }
 },
 "nbformat": 4,
 "nbformat_minor": 5
}
