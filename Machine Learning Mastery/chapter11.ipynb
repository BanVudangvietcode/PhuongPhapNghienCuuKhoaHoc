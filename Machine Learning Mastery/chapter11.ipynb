{
 "cells": [
  {
   "cell_type": "markdown",
   "id": "55159bef",
   "metadata": {},
   "source": [
    "# Chapter 11"
   ]
  },
  {
   "cell_type": "markdown",
   "id": "9bb3e4bb",
   "metadata": {},
   "source": [
    "# Spot-Check Classification Algorithms"
   ]
  },
  {
   "cell_type": "markdown",
   "id": "05200314",
   "metadata": {},
   "source": [
    "## Linear Machine Learning Algorithms"
   ]
  },
  {
   "cell_type": "markdown",
   "id": "775a03f7",
   "metadata": {},
   "source": [
    "### Logistic Regression"
   ]
  },
  {
   "cell_type": "code",
   "execution_count": 2,
   "id": "62382ad2",
   "metadata": {},
   "outputs": [
    {
     "name": "stdout",
     "output_type": "stream",
     "text": [
      "0.7708646616541353\n"
     ]
    }
   ],
   "source": [
    "from pandas import read_csv\n",
    "from sklearn.model_selection import KFold, cross_val_score\n",
    "from sklearn.linear_model import LogisticRegression\n",
    "filename = 'diabetes.csv'\n",
    "data = read_csv(filename)\n",
    "array = data.values # convert to numpy array\n",
    "X = array[:,0:8] # first 8 column\n",
    "Y = array[:,8] # last column\n",
    "num_folds = 10\n",
    "seed = 7\n",
    "kfold = KFold(n_splits=num_folds, random_state=seed, shuffle=True) # create k-fold cross-validation\n",
    "model = LogisticRegression(solver='liblinear')\n",
    "result = cross_val_score(model, X, Y, cv=kfold) # evaluate the model\n",
    "print(result.mean())"
   ]
  },
  {
   "cell_type": "markdown",
   "id": "8904fe7b",
   "metadata": {},
   "source": [
    "### Linear Discriminat Analysis"
   ]
  },
  {
   "cell_type": "code",
   "execution_count": 3,
   "id": "d67d20d1",
   "metadata": {},
   "outputs": [
    {
     "name": "stdout",
     "output_type": "stream",
     "text": [
      "0.7669685577580315\n"
     ]
    }
   ],
   "source": [
    "from pandas import read_csv\n",
    "from sklearn.model_selection import KFold, cross_val_score\n",
    "from sklearn.discriminant_analysis import LinearDiscriminantAnalysis\n",
    "filename = 'diabetes.csv'\n",
    "data = read_csv(filename)\n",
    "array = data.values # convert to numpy array\n",
    "X = array[:,0:8] # first 8 column\n",
    "Y = array[:,8] # last column\n",
    "num_folds = 10\n",
    "seed = 7\n",
    "kfold = KFold(n_splits=num_folds, random_state=seed, shuffle=True) # create k-fold cross-validation\n",
    "model = LinearDiscriminantAnalysis()\n",
    "result = cross_val_score(model, X, Y, cv=kfold) # evaluate the model\n",
    "print(result.mean()) # print the accuracy"
   ]
  },
  {
   "cell_type": "markdown",
   "id": "3e7e3aa6",
   "metadata": {},
   "source": [
    "## Nonlinear Machine Learning Algorithms"
   ]
  },
  {
   "cell_type": "markdown",
   "id": "7a890ad9",
   "metadata": {},
   "source": [
    "### k-Nearest Neighbors"
   ]
  },
  {
   "cell_type": "code",
   "execution_count": 4,
   "id": "96750509",
   "metadata": {},
   "outputs": [
    {
     "name": "stdout",
     "output_type": "stream",
     "text": [
      "0.7109876965140123\n"
     ]
    }
   ],
   "source": [
    "from pandas import read_csv\n",
    "from sklearn.model_selection import KFold, cross_val_score\n",
    "from sklearn.neighbors import KNeighborsClassifier\n",
    "filename = 'diabetes.csv'\n",
    "data = read_csv(filename)\n",
    "array = data.values # convert to numpy array\n",
    "X = array[:,0:8] # first 8 column\n",
    "Y = array[:,8] # last column\n",
    "num_folds = 10\n",
    "seed = 7\n",
    "kfold = KFold(n_splits=num_folds, random_state=seed, shuffle=True) # create k-fold cross-validation\n",
    "model = KNeighborsClassifier()\n",
    "result = cross_val_score(model, X, Y, cv=kfold) # evaluate the model\n",
    "print(result.mean())"
   ]
  },
  {
   "cell_type": "markdown",
   "id": "5f8724fe",
   "metadata": {},
   "source": [
    "### Naive Bayes"
   ]
  },
  {
   "cell_type": "code",
   "execution_count": 5,
   "id": "7e4f64fb",
   "metadata": {},
   "outputs": [
    {
     "name": "stdout",
     "output_type": "stream",
     "text": [
      "0.7591421736158578\n"
     ]
    }
   ],
   "source": [
    "from pandas import read_csv\n",
    "from sklearn.model_selection import KFold, cross_val_score\n",
    "from sklearn.naive_bayes import GaussianNB\n",
    "filename = 'diabetes.csv'\n",
    "data = read_csv(filename)\n",
    "array = data.values # convert to numpy array\n",
    "X = array[:,0:8] # first 8 column\n",
    "Y = array[:,8] # last column\n",
    "num_folds = 10\n",
    "seed = 7\n",
    "kfold = KFold(n_splits=num_folds, random_state=seed, shuffle=True) # create k-fold cross-validation\n",
    "model = GaussianNB()\n",
    "result = cross_val_score(model, X, Y, cv=kfold) # evaluate the model\n",
    "print(result.mean())"
   ]
  },
  {
   "cell_type": "markdown",
   "id": "7744af73",
   "metadata": {},
   "source": [
    "### Classification and Regression Trees"
   ]
  },
  {
   "cell_type": "code",
   "execution_count": 6,
   "id": "00499496",
   "metadata": {},
   "outputs": [
    {
     "name": "stdout",
     "output_type": "stream",
     "text": [
      "0.6915584415584416\n"
     ]
    }
   ],
   "source": [
    "from pandas import read_csv\n",
    "from sklearn.model_selection import KFold, cross_val_score\n",
    "from sklearn.tree import DecisionTreeClassifier\n",
    "filename = 'diabetes.csv'\n",
    "data = read_csv(filename)\n",
    "array = data.values # convert to numpy array\n",
    "X = array[:,0:8] # first 8 column\n",
    "Y = array[:,8] # last column\n",
    "num_folds = 10\n",
    "seed = 7\n",
    "kfold = KFold(n_splits=num_folds, random_state=seed, shuffle=True) # create k-fold cross-validation\n",
    "model = DecisionTreeClassifier()\n",
    "result = cross_val_score(model, X, Y, cv=kfold) # evaluate the model\n",
    "print(result.mean())"
   ]
  },
  {
   "cell_type": "markdown",
   "id": "ebaca6e7",
   "metadata": {},
   "source": [
    "### Support Vector Machines"
   ]
  },
  {
   "cell_type": "code",
   "execution_count": 7,
   "id": "881f1816",
   "metadata": {},
   "outputs": [
    {
     "name": "stdout",
     "output_type": "stream",
     "text": [
      "0.760457963089542\n"
     ]
    }
   ],
   "source": [
    "from pandas import read_csv\n",
    "from sklearn.model_selection import KFold, cross_val_score\n",
    "from sklearn.svm import SVC\n",
    "filename = 'diabetes.csv'\n",
    "data = read_csv(filename)\n",
    "array = data.values # convert to numpy array\n",
    "X = array[:,0:8] # first 8 column\n",
    "Y = array[:,8] # last column\n",
    "num_folds = 10\n",
    "seed = 7\n",
    "kfold = KFold(n_splits=num_folds, random_state=seed, shuffle=True) # create k-fold cross-validation\n",
    "model = SVC()\n",
    "result = cross_val_score(model, X, Y, cv=kfold) # evaluate the model\n",
    "print(result.mean())"
   ]
  }
 ],
 "metadata": {
  "kernelspec": {
   "display_name": "Python 3",
   "language": "python",
   "name": "python3"
  },
  "language_info": {
   "codemirror_mode": {
    "name": "ipython",
    "version": 3
   },
   "file_extension": ".py",
   "mimetype": "text/x-python",
   "name": "python",
   "nbconvert_exporter": "python",
   "pygments_lexer": "ipython3",
   "version": "3.12.1"
  }
 },
 "nbformat": 4,
 "nbformat_minor": 5
}
