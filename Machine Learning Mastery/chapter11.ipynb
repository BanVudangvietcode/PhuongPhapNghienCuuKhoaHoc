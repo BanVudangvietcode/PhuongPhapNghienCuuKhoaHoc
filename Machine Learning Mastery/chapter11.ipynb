{
 "cells": [
  {
   "cell_type": "markdown",
   "id": "55159bef",
   "metadata": {},
   "source": [
    "# Chapter 11"
   ]
  },
  {
   "cell_type": "markdown",
   "id": "9bb3e4bb",
   "metadata": {},
   "source": [
    "# Spot-Check Classification Algorithms"
   ]
  },
  {
   "cell_type": "markdown",
   "id": "05200314",
   "metadata": {},
   "source": [
    "## Linear Machine Learning Algorithms"
   ]
  },
  {
   "cell_type": "markdown",
   "id": "775a03f7",
   "metadata": {},
   "source": [
    "### Logistic Regression"
   ]
  },
  {
   "cell_type": "code",
   "execution_count": null,
   "id": "62382ad2",
   "metadata": {},
   "outputs": [
    {
     "name": "stdout",
     "output_type": "stream",
     "text": [
      "0.7708646616541353\n"
     ]
    }
   ],
   "source": [
    "# Nhập thư viện pandas để xử lý dữ liệu\n",
    "from pandas import read_csv\n",
    "# Nhập các công cụ từ sklearn để thực hiện k-fold cross-validation và đánh giá mô hình\n",
    "from sklearn.model_selection import KFold, cross_val_score\n",
    "# Nhập mô hình Logistic Regression từ sklearn\n",
    "from sklearn.linear_model import LogisticRegression\n",
    "\n",
    "# Đọc dữ liệu từ file 'diabetes.csv'\n",
    "filename = 'diabetes.csv'\n",
    "data = read_csv(filename)\n",
    "\n",
    "# Chuyển dữ liệu thành mảng numpy\n",
    "array = data.values\n",
    "# Lấy 8 cột đầu tiên làm biến đầu vào (features)\n",
    "X = array[:,0:8]\n",
    "# Lấy cột cuối cùng làm biến đầu ra (label)\n",
    "Y = array[:,8]\n",
    "\n",
    "# Thiết lập số lượng folds cho k-fold cross-validation\n",
    "num_folds = 10\n",
    "# Thiết lập seed để đảm bảo tính ngẫu nhiên có thể tái lập\n",
    "seed = 7\n",
    "\n",
    "# Tạo đối tượng k-fold cross-validation\n",
    "kfold = KFold(n_splits=num_folds, random_state=seed, shuffle=True)\n",
    "\n",
    "# Khởi tạo mô hình Logistic Regression với solver 'liblinear'\n",
    "model = LogisticRegression(solver='liblinear')\n",
    "\n",
    "# Đánh giá mô hình bằng cross-validation\n",
    "result = cross_val_score(model, X, Y, cv=kfold)\n",
    "\n",
    "# In ra độ chính xác trung bình của mô hình\n",
    "print(result.mean())"
   ]
  },
  {
   "cell_type": "markdown",
   "id": "8904fe7b",
   "metadata": {},
   "source": [
    "### Linear Discriminat Analysis"
   ]
  },
  {
   "cell_type": "code",
   "execution_count": null,
   "id": "d67d20d1",
   "metadata": {},
   "outputs": [
    {
     "name": "stdout",
     "output_type": "stream",
     "text": [
      "0.7669685577580315\n"
     ]
    }
   ],
   "source": [
    "# Nhập thư viện pandas để đọc dữ liệu từ file CSV\n",
    "from pandas import read_csv\n",
    "# Nhập các công cụ từ sklearn để thực hiện k-fold cross-validation và đánh giá mô hình\n",
    "from sklearn.model_selection import KFold, cross_val_score\n",
    "# Nhập mô hình Linear Discriminant Analysis từ sklearn\n",
    "from sklearn.discriminant_analysis import LinearDiscriminantAnalysis\n",
    "\n",
    "# Đọc dữ liệu từ file 'diabetes.csv'\n",
    "filename = 'diabetes.csv'\n",
    "data = read_csv(filename)\n",
    "\n",
    "# Chuyển dữ liệu thành mảng numpy\n",
    "array = data.values\n",
    "# Lấy 8 cột đầu tiên làm biến đầu vào (features)\n",
    "X = array[:,0:8]\n",
    "# Lấy cột cuối cùng làm biến đầu ra (label)\n",
    "Y = array[:,8]\n",
    "\n",
    "# Thiết lập số lượng folds cho k-fold cross-validation\n",
    "num_folds = 10\n",
    "# Thiết lập seed để đảm bảo tính ngẫu nhiên có thể tái lập\n",
    "seed = 7\n",
    "\n",
    "# Tạo đối tượng k-fold cross-validation\n",
    "kfold = KFold(n_splits=num_folds, random_state=seed, shuffle=True)\n",
    "\n",
    "# Khởi tạo mô hình Linear Discriminant Analysis\n",
    "model = LinearDiscriminantAnalysis()\n",
    "\n",
    "# Đánh giá mô hình bằng cross-validation\n",
    "result = cross_val_score(model, X, Y, cv=kfold)\n",
    "\n",
    "# In ra độ chính xác trung bình của mô hình\n",
    "print(result.mean())"
   ]
  },
  {
   "cell_type": "markdown",
   "id": "3e7e3aa6",
   "metadata": {},
   "source": [
    "## Nonlinear Machine Learning Algorithms"
   ]
  },
  {
   "cell_type": "markdown",
   "id": "7a890ad9",
   "metadata": {},
   "source": [
    "### k-Nearest Neighbors"
   ]
  },
  {
   "cell_type": "code",
   "execution_count": null,
   "id": "96750509",
   "metadata": {},
   "outputs": [
    {
     "name": "stdout",
     "output_type": "stream",
     "text": [
      "0.7109876965140123\n"
     ]
    }
   ],
   "source": [
    "# Nhập thư viện pandas để đọc dữ liệu từ file CSV\n",
    "from pandas import read_csv\n",
    "# Nhập các công cụ từ sklearn để thực hiện k-fold cross-validation và đánh giá mô hình\n",
    "from sklearn.model_selection import KFold, cross_val_score\n",
    "# Nhập mô hình k-Nearest Neighbors từ sklearn\n",
    "from sklearn.neighbors import KNeighborsClassifier\n",
    "\n",
    "# Đọc dữ liệu từ file 'diabetes.csv'\n",
    "filename = 'diabetes.csv'\n",
    "data = read_csv(filename)\n",
    "\n",
    "# Chuyển dữ liệu thành mảng numpy\n",
    "array = data.values\n",
    "# Lấy 8 cột đầu tiên làm biến đầu vào (features)\n",
    "X = array[:,0:8]\n",
    "# Lấy cột cuối cùng làm biến đầu ra (label)\n",
    "Y = array[:,8]\n",
    "\n",
    "# Thiết lập số lượng folds cho k-fold cross-validation\n",
    "num_folds = 10\n",
    "# Thiết lập seed để đảm bảo tính ngẫu nhiên có thể tái lập\n",
    "seed = 7\n",
    "\n",
    "# Tạo đối tượng k-fold cross-validation\n",
    "kfold = KFold(n_splits=num_folds, random_state=seed, shuffle=True)\n",
    "\n",
    "# Khởi tạo mô hình k-Nearest Neighbors\n",
    "model = KNeighborsClassifier()\n",
    "\n",
    "# Đánh giá mô hình bằng cross-validation\n",
    "result = cross_val_score(model, X, Y, cv=kfold)\n",
    "\n",
    "# In ra độ chính xác trung bình của mô hình\n",
    "print(result.mean())"
   ]
  },
  {
   "cell_type": "markdown",
   "id": "5f8724fe",
   "metadata": {},
   "source": [
    "### Naive Bayes"
   ]
  },
  {
   "cell_type": "code",
   "execution_count": null,
   "id": "7e4f64fb",
   "metadata": {},
   "outputs": [
    {
     "name": "stdout",
     "output_type": "stream",
     "text": [
      "0.7591421736158578\n"
     ]
    }
   ],
   "source": [
    "# Nhập thư viện pandas để đọc dữ liệu từ file CSV\n",
    "from pandas import read_csv\n",
    "# Nhập các công cụ từ sklearn để thực hiện k-fold cross-validation và đánh giá mô hình\n",
    "from sklearn.model_selection import KFold, cross_val_score\n",
    "# Nhập mô hình Naive Bayes (GaussianNB) từ sklearn\n",
    "from sklearn.naive_bayes import GaussianNB\n",
    "\n",
    "# Đọc dữ liệu từ file 'diabetes.csv'\n",
    "filename = 'diabetes.csv'\n",
    "data = read_csv(filename)\n",
    "\n",
    "# Chuyển dữ liệu thành mảng numpy\n",
    "array = data.values\n",
    "# Lấy 8 cột đầu tiên làm biến đầu vào (features)\n",
    "X = array[:,0:8]\n",
    "# Lấy cột cuối cùng làm biến đầu ra (label)\n",
    "Y = array[:,8]\n",
    "\n",
    "# Thiết lập số lượng folds cho k-fold cross-validation\n",
    "num_folds = 10\n",
    "# Thiết lập seed để đảm bảo tính ngẫu nhiên có thể tái lập\n",
    "seed = 7\n",
    "\n",
    "# Tạo đối tượng k-fold cross-validation\n",
    "kfold = KFold(n_splits=num_folds, random_state=seed, shuffle=True)\n",
    "\n",
    "# Khởi tạo mô hình Naive Bayes (GaussianNB)\n",
    "model = GaussianNB()\n",
    "\n",
    "# Đánh giá mô hình bằng cross-validation\n",
    "result = cross_val_score(model, X, Y, cv=kfold)\n",
    "\n",
    "# In ra độ chính xác trung bình của mô hình\n",
    "print(result.mean())"
   ]
  },
  {
   "cell_type": "markdown",
   "id": "7744af73",
   "metadata": {},
   "source": [
    "### Classification and Regression Trees"
   ]
  },
  {
   "cell_type": "code",
   "execution_count": null,
   "id": "00499496",
   "metadata": {},
   "outputs": [
    {
     "name": "stdout",
     "output_type": "stream",
     "text": [
      "0.6915584415584416\n"
     ]
    }
   ],
   "source": [
    "# Nhập thư viện pandas để đọc dữ liệu từ file CSV\n",
    "from pandas import read_csv\n",
    "# Nhập các công cụ từ sklearn để thực hiện k-fold cross-validation và đánh giá mô hình\n",
    "from sklearn.model_selection import KFold, cross_val_score\n",
    "# Nhập mô hình Decision Tree Classifier từ sklearn\n",
    "from sklearn.tree import DecisionTreeClassifier\n",
    "\n",
    "# Đọc dữ liệu từ file 'diabetes.csv'\n",
    "filename = 'diabetes.csv'\n",
    "data = read_csv(filename)\n",
    "\n",
    "# Chuyển dữ liệu thành mảng numpy\n",
    "array = data.values # chuyển dữ liệu thành mảng numpy\n",
    "X = array[:,0:8] # lấy 8 cột đầu tiên làm biến đầu vào (features)\n",
    "Y = array[:,8] # lấy cột cuối cùng làm biến đầu ra (label)\n",
    "\n",
    "# Thiết lập số lượng folds cho k-fold cross-validation\n",
    "num_folds = 10\n",
    "# Thiết lập seed để đảm bảo tính ngẫu nhiên có thể tái lập\n",
    "seed = 7\n",
    "\n",
    "# Tạo đối tượng k-fold cross-validation\n",
    "kfold = KFold(n_splits=num_folds, random_state=seed, shuffle=True) # tạo k-fold cross-validation\n",
    "\n",
    "# Khởi tạo mô hình Decision Tree Classifier\n",
    "model = DecisionTreeClassifier()\n",
    "\n",
    "# Đánh giá mô hình bằng cross-validation\n",
    "result = cross_val_score(model, X, Y, cv=kfold) # đánh giá mô hình\n",
    "\n",
    "# In ra độ chính xác trung bình của mô hình\n",
    "print(result.mean())"
   ]
  },
  {
   "cell_type": "markdown",
   "id": "ebaca6e7",
   "metadata": {},
   "source": [
    "### Support Vector Machines"
   ]
  },
  {
   "cell_type": "code",
   "execution_count": null,
   "id": "881f1816",
   "metadata": {},
   "outputs": [
    {
     "name": "stdout",
     "output_type": "stream",
     "text": [
      "0.760457963089542\n"
     ]
    }
   ],
   "source": [
    "# Nhập thư viện pandas để đọc dữ liệu từ file CSV\n",
    "from pandas import read_csv\n",
    "# Nhập các công cụ từ sklearn để thực hiện k-fold cross-validation và đánh giá mô hình\n",
    "from sklearn.model_selection import KFold, cross_val_score\n",
    "# Nhập mô hình Support Vector Classifier (SVC) từ sklearn\n",
    "from sklearn.svm import SVC\n",
    "\n",
    "# Đọc dữ liệu từ file 'diabetes.csv'\n",
    "filename = 'diabetes.csv'\n",
    "data = read_csv(filename)\n",
    "\n",
    "# Chuyển dữ liệu thành mảng numpy\n",
    "array = data.values\n",
    "# Lấy 8 cột đầu tiên làm biến đầu vào (features)\n",
    "X = array[:,0:8]\n",
    "# Lấy cột cuối cùng làm biến đầu ra (label)\n",
    "Y = array[:,8]\n",
    "\n",
    "# Thiết lập số lượng folds cho k-fold cross-validation\n",
    "num_folds = 10\n",
    "# Thiết lập seed để đảm bảo tính ngẫu nhiên có thể tái lập\n",
    "seed = 7\n",
    "\n",
    "# Tạo đối tượng k-fold cross-validation\n",
    "kfold = KFold(n_splits=num_folds, random_state=seed, shuffle=True)\n",
    "\n",
    "# Khởi tạo mô hình Support Vector Classifier (SVC)\n",
    "model = SVC()\n",
    "\n",
    "# Đánh giá mô hình bằng cross-validation\n",
    "result = cross_val_score(model, X, Y, cv=kfold)\n",
    "\n",
    "# In ra độ chính xác trung bình của mô hình\n",
    "print(result.mean())"
   ]
  }
 ],
 "metadata": {
  "kernelspec": {
   "display_name": "Python 3",
   "language": "python",
   "name": "python3"
  },
  "language_info": {
   "codemirror_mode": {
    "name": "ipython",
    "version": 3
   },
   "file_extension": ".py",
   "mimetype": "text/x-python",
   "name": "python",
   "nbconvert_exporter": "python",
   "pygments_lexer": "ipython3",
   "version": "3.12.1"
  }
 },
 "nbformat": 4,
 "nbformat_minor": 5
}
