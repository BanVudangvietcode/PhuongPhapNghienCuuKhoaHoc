{
 "cells": [
  {
   "cell_type": "markdown",
   "id": "ea90bbf6",
   "metadata": {},
   "source": [
    "# Chapter 9"
   ]
  },
  {
   "cell_type": "markdown",
   "id": "ef87f75a",
   "metadata": {},
   "source": [
    "# Evaluate the Performance of Machine Learning Algorithms with Resampling"
   ]
  },
  {
   "cell_type": "markdown",
   "id": "64e90b43",
   "metadata": {},
   "source": [
    "## Split into Train and Test Sets"
   ]
  },
  {
   "cell_type": "code",
   "execution_count": null,
   "id": "7283917c",
   "metadata": {},
   "outputs": [
    {
     "name": "stdout",
     "output_type": "stream",
     "text": [
      "Accuracy: 75.591%\n"
     ]
    }
   ],
   "source": [
    "from pandas import read_csv\n",
    "from sklearn.model_selection import train_test_split\n",
    "from sklearn.linear_model import LogisticRegression\n",
    "\n",
    "# Đọc dữ liệu từ file CSV\n",
    "filename = 'diabetes.csv'\n",
    "data = read_csv(filename)\n",
    "\n",
    "# Chuyển dữ liệu thành mảng numpy\n",
    "array = data.values \n",
    "\n",
    "# Chọn 8 cột đầu làm đặc trưng (features)\n",
    "X = array[:,0:8] \n",
    "\n",
    "# Chọn cột cuối làm nhãn (labels)\n",
    "Y = array[:,8] \n",
    "\n",
    "# Tỉ lệ dữ liệu test và seed để tái tạo kết quả\n",
    "test_size = 0.33\n",
    "seed = 7\n",
    "\n",
    "# Chia dữ liệu thành tập huấn luyện và tập kiểm tra\n",
    "X_train, X_test, Y_train, Y_test = train_test_split(X, Y, test_size=test_size, random_state=seed)\n",
    "\n",
    "# Khởi tạo mô hình Logistic Regression\n",
    "model = LogisticRegression(solver='liblinear')\n",
    "\n",
    "# Huấn luyện mô hình trên tập huấn luyện\n",
    "model.fit(X_train, Y_train) \n",
    "\n",
    "# Đánh giá mô hình trên tập kiểm tra\n",
    "result = model.score(X_test, Y_test) \n",
    "\n",
    "# In ra độ chính xác của mô hình\n",
    "print(\"Accuracy: %.3f%%\" % (result*100.0)) "
   ]
  },
  {
   "cell_type": "markdown",
   "id": "60176626",
   "metadata": {},
   "source": [
    "## K-fold Cross Validation"
   ]
  },
  {
   "cell_type": "code",
   "execution_count": null,
   "id": "b7925187",
   "metadata": {},
   "outputs": [
    {
     "name": "stdout",
     "output_type": "stream",
     "text": [
      "Accuracy: 77.086% (5.091%)\n"
     ]
    }
   ],
   "source": [
    "# Import các thư viện cần thiếthiếthiết\n",
    "from pandas import read_csv\n",
    "from sklearn.model_selection import KFold, cross_val_scorel_scorel_score\n",
    "from sklearn.linear_model import LogisticRegression import LogisticRegression import LogisticRegression\n",
    "\n",
    "# Đọc dữ liệu từ file CSV\n",
    "filename = 'diabetes.csv'\n",
    "data = read_csv(filename)\n",
    "\n",
    "# Chuyển dữ liệu thành mảng numpyệu thành mảng numpyệu thành mảng numpy\n",
    "array = data.values data.values data.values \n",
    "\n",
    "# Chọn 8 cột đầu làm đặc trưng (features)\n",
    "X = array[:,0:8] \n",
    "\n",
    "# Chọn cột cuối làm nhãn (labels)\n",
    "Y = array[:,8] \n",
    "\n",
    "# Tỉ lệ dữ liệu test và số lần chia dữ liệu\n",
    "test_size = 0.33\n",
    "num_folds = 10\n",
    "\n",
    "# Seed để tái tạo kết quả\n",
    "seed = 7\n",
    "\n",
    "# Tạo đối tượng K-Fold Cross Validation\n",
    "# Chọn cột cuối làm nhãn (labels)\n",
    "Y = array[:,8] \n",
    "\n",
    "# Tỉ lệ dữ liệu test và số lần chia dữ liệu\n",
    "test_size = 0.33\n",
    "num_folds = 10\n",
    "\n",
    "# Seed để tái tạo kết quả\n",
    "seed = 7\n",
    "\n",
    "# Tạo đối tượng K-Fold Cross Validation\n",
    "# Chọn cột cuối làm nhãn (labels)\n",
    "Y = array[:,8] \n",
    "\n",
    "# Tỉ lệ dữ liệu test và số lần chia dữ liệu\n",
    "test_size = 0.33\n",
    "num_folds = 10\n",
    "\n",
    "# Seed để tái tạo kết quả\n",
    "seed = 7\n",
    "\n",
    "# Tạo đối tượng K-Fold Cross Validation"
   ]
  },
  {
   "cell_type": "markdown",
   "id": "45a32a12",
   "metadata": {},
   "source": [
    "## Leave One Out Cross Validation"
   ]
  },
  {
   "cell_type": "code",
   "execution_count": null,
   "id": "f199374e",
   "metadata": {},
   "outputs": [
    {
     "name": "stdout",
     "output_type": "stream",
     "text": [
      "Accuracy: 76.823% (42.196%)\n"
     ]
    }
   ],
   "source": [
    "# Import các thư viện cần thiết\n",
    "from pandas import read_csv\n",
    "from sklearn.model_selection import cross_val_score, LeaveOneOut\n",
    "from sklearn.linear_model import LogisticRegression\n",
    "\n",
    "# Đọc dữ liệu từ file CSV\n",
    "filename = 'diabetes.csv'\n",
    "data = read_csv(filename)\n",
    "\n",
    "# Chuyển dữ liệu thành mảng numpy\n",
    "array = data.values \n",
    "\n",
    "# Chọn 8 cột đầu làm đặc trưng (features)\n",
    "X = array[:,0:8] \n",
    "\n",
    "# Chọn cột cuối làm nhãn (labels)\n",
    "Y = array[:,8] \n",
    "\n",
    "# Tỉ lệ dữ liệu test, số lần chia dữ liệu và seed để tái tạo kết quả (không sử dụng trong Leave-One-Out)\n",
    "test_size = 0.33\n",
    "num_folds = 10\n",
    "seed = 7\n",
    "\n",
    "# Tạo đối tượng Leave-One-Out cross-validator\n",
    "loocv = LeaveOneOut() \n",
    "\n",
    "# Khởi tạo mô hình Logistic Regression\n",
    "model = LogisticRegression(solver='liblinear')\n",
    "\n",
    "# Đánh giá mô hình bằng phương pháp Leave-One-Out Cross Validation\n",
    "result = cross_val_score(model, X, Y, cv=loocv) \n",
    "\n",
    "# In ra độ chính xác trung bình và độ lệch chuẩn của mô hình\n",
    "print(\"Accuracy: %.3f%% (%.3f%%)\" % (result.mean()*100, result.std()*100)) "
   ]
  },
  {
   "cell_type": "markdown",
   "id": "911d7e1c",
   "metadata": {},
   "source": [
    "## Repeated Random Test-Train Splits"
   ]
  },
  {
   "cell_type": "code",
   "execution_count": null,
   "id": "b215ad76",
   "metadata": {},
   "outputs": [
    {
     "name": "stdout",
     "output_type": "stream",
     "text": [
      "Accuracy: 78.701% (5.392%)\n"
     ]
    }
   ],
   "source": [
    "# Import các thư viện cần thiết\n",
    "from pandas import read_csv\n",
    "from sklearn.model_selection import cross_val_score, ShuffleSplit\n",
    "from sklearn.linear_model import LogisticRegression\n",
    "\n",
    "# Đọc dữ liệu từ file CSV\n",
    "filename = 'diabetes.csv'\n",
    "data = read_csv(filename)\n",
    "\n",
    "# Chuyển dữ liệu thành mảng numpy\n",
    "array = data.values \n",
    "\n",
    "# Chọn 8 cột đầu làm đặc trưng (features)\n",
    "X = array[:,0:8] \n",
    "\n",
    "# Chọn cột cuối làm nhãn (labels)\n",
    "Y = array[:,8] \n",
    "\n",
    "# Tỉ lệ dữ liệu test, số lần chia dữ liệu và seed để tái tạo kết quả\n",
    "test_size = 0.33\n",
    "num_folds = 10\n",
    "seed = 7\n",
    "\n",
    "# Tạo đối tượng ShuffleSplit Cross Validation\n",
    "kfold = ShuffleSplit(n_splits=num_folds, random_state=seed)\n",
    "\n",
    "# Khởi tạo mô hình Logistic Regression\n",
    "model = LogisticRegression(solver='liblinear')\n",
    "\n",
    "# Đánh giá mô hình bằng phương pháp ShuffleSplit Cross Validation\n",
    "result = cross_val_score(model, X, Y, cv=kfold) \n",
    "\n",
    "# In ra độ chính xác trung bình và độ lệch chuẩn của mô hình\n",
    "print(\"Accuracy: %.3f%% (%.3f%%)\" % (result.mean()*100, result.std()*100)) "
   ]
  }
 ],
 "metadata": {
  "kernelspec": {
   "display_name": "Python 3",
   "language": "python",
   "name": "python3"
  },
  "language_info": {
   "codemirror_mode": {
    "name": "ipython",
    "version": 3
   },
   "file_extension": ".py",
   "mimetype": "text/x-python",
   "name": "python",
   "nbconvert_exporter": "python",
   "pygments_lexer": "ipython3",
   "version": "3.12.1"
  }
 },
 "nbformat": 4,
 "nbformat_minor": 5
}
