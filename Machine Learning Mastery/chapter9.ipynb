{
 "cells": [
  {
   "cell_type": "markdown",
   "id": "ea90bbf6",
   "metadata": {},
   "source": [
    "# Chapter 9"
   ]
  },
  {
   "cell_type": "markdown",
   "id": "ef87f75a",
   "metadata": {},
   "source": [
    "# Evaluate the Performance of Machine Learning Algorithms with Resampling"
   ]
  },
  {
   "cell_type": "markdown",
   "id": "64e90b43",
   "metadata": {},
   "source": [
    "## Split into Train and Test Sets"
   ]
  },
  {
   "cell_type": "code",
   "execution_count": 1,
   "id": "7283917c",
   "metadata": {},
   "outputs": [
    {
     "name": "stdout",
     "output_type": "stream",
     "text": [
      "Accuracy: 75.591%\n"
     ]
    }
   ],
   "source": [
    "from pandas import read_csv\n",
    "from sklearn.model_selection import train_test_split\n",
    "from sklearn.linear_model import LogisticRegression\n",
    "filename = 'diabetes.csv'\n",
    "data = read_csv(filename)\n",
    "array = data.values # convert to numpy array\n",
    "X = array[:,0:8] # first 8 column\n",
    "Y = array[:,8] # last column\n",
    "test_size = 0.33\n",
    "seed = 7\n",
    "X_train, X_test, Y_train, Y_test = train_test_split(X, Y, test_size=test_size, random_state=seed)\n",
    "model = LogisticRegression(solver='liblinear')\n",
    "model.fit(X_train, Y_train) # fit the model\n",
    "result = model.score(X_test, Y_test) # evaluate the model\n",
    "print(\"Accuracy: %.3f%%\" % (result*100.0)) # print the accuracy"
   ]
  },
  {
   "cell_type": "markdown",
   "id": "60176626",
   "metadata": {},
   "source": [
    "## K-fold Cross Validation"
   ]
  },
  {
   "cell_type": "code",
   "execution_count": 4,
   "id": "b7925187",
   "metadata": {},
   "outputs": [
    {
     "name": "stdout",
     "output_type": "stream",
     "text": [
      "Accuracy: 77.086% (5.091%)\n"
     ]
    }
   ],
   "source": [
    "from pandas import read_csv\n",
    "from sklearn.model_selection import KFold, cross_val_score\n",
    "from sklearn.linear_model import LogisticRegression\n",
    "filename = 'diabetes.csv'\n",
    "data = read_csv(filename)\n",
    "array = data.values # convert to numpy array\n",
    "X = array[:,0:8] # first 8 column\n",
    "Y = array[:,8] # last column\n",
    "test_size = 0.33\n",
    "num_folds = 10\n",
    "seed = 7\n",
    "kfold = KFold(n_splits=num_folds, random_state=seed, shuffle=True)\n",
    "model = LogisticRegression(solver='liblinear')\n",
    "result = cross_val_score(model, X, Y, cv=kfold) # evaluate the model\n",
    "print(\"Accuracy: %.3f%% (%.3f%%)\" % (result.mean()*100, result.std()*100)) # print the accuracy"
   ]
  },
  {
   "cell_type": "markdown",
   "id": "45a32a12",
   "metadata": {},
   "source": [
    "## Leave One Out Cross Validation"
   ]
  },
  {
   "cell_type": "code",
   "execution_count": 5,
   "id": "f199374e",
   "metadata": {},
   "outputs": [
    {
     "name": "stdout",
     "output_type": "stream",
     "text": [
      "Accuracy: 76.823% (42.196%)\n"
     ]
    }
   ],
   "source": [
    "from pandas import read_csv\n",
    "from sklearn.model_selection import cross_val_score, LeaveOneOut\n",
    "from sklearn.linear_model import LogisticRegression\n",
    "filename = 'diabetes.csv'\n",
    "data = read_csv(filename)\n",
    "array = data.values # convert to numpy array\n",
    "X = array[:,0:8] # first 8 column\n",
    "Y = array[:,8] # last column\n",
    "test_size = 0.33\n",
    "num_folds = 10\n",
    "seed = 7\n",
    "loocv = LeaveOneOut() # create the Leave-One-Out cross-validator\n",
    "model = LogisticRegression(solver='liblinear')\n",
    "result = cross_val_score(model, X, Y, cv=loocv) # evaluate the model\n",
    "print(\"Accuracy: %.3f%% (%.3f%%)\" % (result.mean()*100, result.std()*100)) # print the accuracy"
   ]
  },
  {
   "cell_type": "markdown",
   "id": "911d7e1c",
   "metadata": {},
   "source": [
    "## Repeated Random Test-Train Splits"
   ]
  },
  {
   "cell_type": "code",
   "execution_count": 7,
   "id": "b215ad76",
   "metadata": {},
   "outputs": [
    {
     "name": "stdout",
     "output_type": "stream",
     "text": [
      "Accuracy: 78.701% (5.392%)\n"
     ]
    }
   ],
   "source": [
    "from pandas import read_csv\n",
    "from sklearn.model_selection import KFold, cross_val_score, ShuffleSplit\n",
    "from sklearn.linear_model import LogisticRegression\n",
    "filename = 'diabetes.csv'\n",
    "data = read_csv(filename)\n",
    "array = data.values # convert to numpy array\n",
    "X = array[:,0:8] # first 8 column\n",
    "Y = array[:,8] # last column\n",
    "test_size = 0.33\n",
    "num_folds = 10\n",
    "seed = 7\n",
    "kfold = ShuffleSplit(n_splits=num_folds, random_state=seed)\n",
    "model = LogisticRegression(solver='liblinear')\n",
    "result = cross_val_score(model, X, Y, cv=kfold) # evaluate the model\n",
    "print(\"Accuracy: %.3f%% (%.3f%%)\" % (result.mean()*100, result.std()*100)) # print the accuracy"
   ]
  }
 ],
 "metadata": {
  "kernelspec": {
   "display_name": "Python 3",
   "language": "python",
   "name": "python3"
  },
  "language_info": {
   "codemirror_mode": {
    "name": "ipython",
    "version": 3
   },
   "file_extension": ".py",
   "mimetype": "text/x-python",
   "name": "python",
   "nbconvert_exporter": "python",
   "pygments_lexer": "ipython3",
   "version": "3.12.1"
  }
 },
 "nbformat": 4,
 "nbformat_minor": 5
}
