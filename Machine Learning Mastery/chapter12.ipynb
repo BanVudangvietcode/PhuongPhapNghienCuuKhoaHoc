{
 "cells": [
  {
   "cell_type": "markdown",
   "id": "2d251325",
   "metadata": {},
   "source": [
    "# Chapter 12"
   ]
  },
  {
   "cell_type": "markdown",
   "id": "929bbf5e",
   "metadata": {},
   "source": [
    "# Spot-Check Regression Algorithms"
   ]
  },
  {
   "cell_type": "markdown",
   "id": "41199f4a",
   "metadata": {},
   "source": [
    "## Linear Machine Learning Algorithms"
   ]
  },
  {
   "cell_type": "markdown",
   "id": "b78794d5",
   "metadata": {},
   "source": [
    "### Linear Regression"
   ]
  },
  {
   "cell_type": "code",
   "execution_count": null,
   "id": "9b794489",
   "metadata": {},
   "outputs": [
    {
     "name": "stdout",
     "output_type": "stream",
     "text": [
      "-0.16320738575907065\n"
     ]
    }
   ],
   "source": [
    "# Nhập thư viện pandas để đọc dữ liệu từ file CSV\n",
    "# Nhập các module cần thiết từ sklearn để thực hiện cross-validation và đánh giá mô hình\n",
    "from pandas import read_csv\n",
    "from sklearn.model_selection import KFold, cross_val_score\n",
    "from sklearn.linear_model import LinearRegression\n",
    "\n",
    "# Đọc dữ liệu từ file 'diabetes.csv'\n",
    "filename = 'diabetes.csv'\n",
    "data = read_csv(filename)\n",
    "\n",
    "# Chuyển dữ liệu từ DataFrame sang mảng numpy\n",
    "array = data.values \n",
    "\n",
    "# Chọn 8 cột đầu tiên làm biến đầu vào (X)\n",
    "X = array[:,0:8] \n",
    "\n",
    "# Chọn cột cuối cùng làm biến đầu ra (Y)\n",
    "Y = array[:,8] \n",
    "\n",
    "# Thiết lập số lượng folds cho cross-validation\n",
    "num_folds = 10\n",
    "\n",
    "# Thiết lập seed để đảm bảo tính ngẫu nhiên có thể tái lập\n",
    "seed = 7\n",
    "\n",
    "# Tạo đối tượng KFold để thực hiện cross-validation\n",
    "kfold = KFold(n_splits=num_folds, random_state=seed, shuffle=True)\n",
    "\n",
    "# Khởi tạo mô hình Linear Regression\n",
    "model = LinearRegression()\n",
    "\n",
    "# Thiết lập phương pháp đánh giá là 'neg_mean_squared_error'\n",
    "scoring = 'neg_mean_squared_error'\n",
    "\n",
    "# Thực hiện cross-validation và đánh giá mô hình\n",
    "result = cross_val_score(model, X, Y, cv=kfold, scoring=scoring)\n",
    "\n",
    "# In ra giá trị trung bình của kết quả đánh giá\n",
    "print(result.mean())"
   ]
  },
  {
   "cell_type": "markdown",
   "id": "368f0bc5",
   "metadata": {},
   "source": [
    "### Ridge Regression"
   ]
  },
  {
   "cell_type": "code",
   "execution_count": null,
   "id": "d7cc282c",
   "metadata": {},
   "outputs": [
    {
     "name": "stdout",
     "output_type": "stream",
     "text": [
      "-0.16319340068845486\n"
     ]
    }
   ],
   "source": [
    "# Nhập thư viện pandas để đọc dữ liệu từ file CSV\n",
    "# Nhập các module cần thiết từ sklearn để thực hiện cross-validation và đánh giá mô hình\n",
    "from pandas import read_csv\n",
    "from sklearn.model_selection import KFold, cross_val_score\n",
    "from sklearn.linear_model import Ridge\n",
    "\n",
    "# Đọc dữ liệu từ file 'diabetes.csv'\n",
    "filename = 'diabetes.csv'\n",
    "data = read_csv(filename)\n",
    "\n",
    "# Chuyển dữ liệu từ DataFrame sang mảng numpy\n",
    "array = data.values \n",
    "\n",
    "# Chọn 8 cột đầu tiên làm biến đầu vào (X)\n",
    "X = array[:,0:8] \n",
    "\n",
    "# Chọn cột cuối cùng làm biến đầu ra (Y)\n",
    "Y = array[:,8] \n",
    "\n",
    "# Thiết lập số lượng folds cho cross-validation\n",
    "num_folds = 10\n",
    "\n",
    "# Thiết lập seed để đảm bảo tính ngẫu nhiên có thể tái lập\n",
    "seed = 7\n",
    "\n",
    "# Tạo đối tượng KFold để thực hiện cross-validation\n",
    "kfold = KFold(n_splits=num_folds, random_state=seed, shuffle=True)\n",
    "\n",
    "# Khởi tạo mô hình Ridge Regression\n",
    "model = Ridge()\n",
    "\n",
    "# Thiết lập phương pháp đánh giá là 'neg_mean_squared_error'\n",
    "scoring = 'neg_mean_squared_error'\n",
    "\n",
    "# Thực hiện cross-validation và đánh giá mô hình\n",
    "result = cross_val_score(model, X, Y, cv=kfold, scoring=scoring)\n",
    "\n",
    "# In ra giá trị trung bình của kết quả đánh giá\n",
    "print(result.mean()) "
   ]
  },
  {
   "cell_type": "markdown",
   "id": "7095b340",
   "metadata": {},
   "source": [
    "### LASSO Regression"
   ]
  },
  {
   "cell_type": "code",
   "execution_count": null,
   "id": "119621e7",
   "metadata": {},
   "outputs": [
    {
     "name": "stdout",
     "output_type": "stream",
     "text": [
      "-0.18012837070913562\n"
     ]
    }
   ],
   "source": [
    "# Nhập thư viện pandas để đọc dữ liệu từ file CSVọc dữ liệu từ file CSV\n",
    "# Nhập các module cần thiết từ sklearn để thực hiện cross-validation và đánh giá mô hìnhvalidation và đánh giá mô hình\n",
    "# Import mô hình Lasso Regression từ sklearnklearn\n",
    "from pandas import read_csvsv\n",
    "from sklearn.model_selection import KFold, cross_val_scoreion import KFold, cross_val_score\n",
    "from sklearn.linear_model import Lasso\n",
    "\n",
    "# Đọc dữ liệu từ file 'diabetes.csv'tes.csv'\n",
    "filename = 'diabetes.csv'abetes.csv'\n",
    "data = read_csv(filename)ead_csv(filename)\n",
    "\n",
    "# Chuyển dữ liệu từ DataFrame sang mảng numpy\n",
    "array = data.values \n",
    "\n",
    "print(result.mean()) "
   ]
  },
  {
   "cell_type": "markdown",
   "id": "d65203e3",
   "metadata": {},
   "source": [
    "### ElasticNet Regression"
   ]
  },
  {
   "cell_type": "code",
   "execution_count": null,
   "id": "5faff7e7",
   "metadata": {},
   "outputs": [
    {
     "name": "stdout",
     "output_type": "stream",
     "text": [
      "-0.17355666363344985\n"
     ]
    }
   ],
   "source": [
    "# Nhập thư viện pandas để đọc dữ liệu từ file CSV\n",
    "# Nhập các module cần thiết từ sklearn để thực hiện cross-validation và đánh giá mô hình\n",
    "from pandas import read_csv\n",
    "from sklearn.model_selection import KFold, cross_val_score\n",
    "from sklearn.linear_model import ElasticNet\n",
    "\n",
    "# Đọc dữ liệu từ file 'diabetes.csv'\n",
    "filename = 'diabetes.csv'\n",
    "data = read_csv(filename)\n",
    "\n",
    "# Chuyển dữ liệu từ DataFrame sang mảng numpy\n",
    "array = data.values \n",
    "\n",
    "# Chọn 8 cột đầu tiên làm biến đầu vào (X)\n",
    "X = array[:,0:8] \n",
    "\n",
    "# Chọn cột cuối cùng làm biến đầu ra (Y)\n",
    "Y = array[:,8] \n",
    "\n",
    "# Thiết lập số lượng folds cho cross-validation\n",
    "num_folds = 10\n",
    "\n",
    "# Thiết lập seed để đảm bảo tính ngẫu nhiên có thể tái lập\n",
    "seed = 7\n",
    "\n",
    "# Tạo đối tượng KFold để thực hiện cross-validation\n",
    "kfold = KFold(n_splits=num_folds, random_state=seed, shuffle=True)\n",
    "\n",
    "# Khởi tạo mô hình ElasticNet Regression\n",
    "model = ElasticNet()\n",
    "\n",
    "# Thiết lập phương pháp đánh giá là 'neg_mean_squared_error'\n",
    "scoring = 'neg_mean_squared_error'\n",
    "\n",
    "# Thực hiện cross-validation và đánh giá mô hình\n",
    "result = cross_val_score(model, X, Y, cv=kfold, scoring=scoring)\n",
    "\n",
    "# In ra giá trị trung bình của kết quả đánh giá\n",
    "print(result.mean())"
   ]
  },
  {
   "cell_type": "markdown",
   "id": "baf105c1",
   "metadata": {},
   "source": [
    "## Nonlinear Machine Learning Algorithms"
   ]
  },
  {
   "cell_type": "markdown",
   "id": "b4fba441",
   "metadata": {},
   "source": [
    "### K-Nearest Neighbors"
   ]
  },
  {
   "cell_type": "code",
   "execution_count": null,
   "id": "07f17420",
   "metadata": {},
   "outputs": [
    {
     "name": "stdout",
     "output_type": "stream",
     "text": [
      "-0.20382433356117566\n"
     ]
    }
   ],
   "source": [
    "# Nhập thư viện pandas để đọc dữ liệu từ file CSV\n",
    "# Nhập các module cần thiết từ sklearn để thực hiện cross-validation và đánh giá mô hình\n",
    "from pandas import read_csv\n",
    "from sklearn.model_selection import KFold, cross_val_score\n",
    "from sklearn.neighbors import KNeighborsRegressor\n",
    "\n",
    "# Đọc dữ liệu từ file 'diabetes.csv'\n",
    "filename = 'diabetes.csv'\n",
    "data = read_csv(filename)\n",
    "\n",
    "# Chuyển dữ liệu từ DataFrame sang mảng numpy\n",
    "array = data.values # chuyển đổi dữ liệu sang mảng numpy\n",
    "\n",
    "# Chọn 8 cột đầu tiên làm biến đầu vào (X)\n",
    "X = array[:,0:8] # 8 cột đầu tiên\n",
    "\n",
    "# Chọn cột cuối cùng làm biến đầu ra (Y)\n",
    "Y = array[:,8] # cột cuối cùng\n",
    "\n",
    "# Thiết lập số lượng folds cho cross-validation\n",
    "num_folds = 10 # số lượng folds là 10\n",
    "\n",
    "# Thiết lập seed để đảm bảo tính ngẫu nhiên có thể tái lập\n",
    "seed = 7 # seed để tái lập kết quả\n",
    "\n",
    "# Tạo đối tượng KFold để thực hiện cross-validation\n",
    "kfold = KFold(n_splits=num_folds, random_state=seed, shuffle=True)\n",
    "\n",
    "# Khởi tạo mô hình K-Nearest Neighbors Regression\n",
    "model = KNeighborsRegressor()\n",
    "\n",
    "# Thiết lập phương pháp đánh giá là 'neg_mean_squared_error'\n",
    "scoring = 'neg_mean_squared_error'\n",
    "\n",
    "# Thực hiện cross-validation và đánh giá mô hình\n",
    "result = cross_val_score(model, X, Y, cv=kfold, scoring=scoring) # đánh giá mô hình\n",
    "\n",
    "# In ra giá trị trung bình của kết quả đánh giá\n",
    "print(result.mean()) # in kết quả trung bình"
   ]
  },
  {
   "cell_type": "markdown",
   "id": "673b6920",
   "metadata": {},
   "source": [
    "### Classification and Regression Trees"
   ]
  },
  {
   "cell_type": "code",
   "execution_count": null,
   "id": "db64c40a",
   "metadata": {},
   "outputs": [
    {
     "name": "stdout",
     "output_type": "stream",
     "text": [
      "-0.30587833219412164\n"
     ]
    }
   ],
   "source": [
    "# Nhập thư viện pandas để đọc dữ liệu từ file CSV\n",
    "# Nhập các module cần thiết từ sklearn để thực hiện cross-validation và đánh giá mô hình\n",
    "from pandas import read_csv\n",
    "from sklearn.model_selection import KFold, cross_val_score\n",
    "from sklearn.tree import DecisionTreeRegressor\n",
    "\n",
    "# Đọc dữ liệu từ file 'diabetes.csv'\n",
    "filename = 'diabetes.csv'\n",
    "data = read_csv(filename)\n",
    "\n",
    "# Chuyển dữ liệu từ DataFrame sang mảng numpy\n",
    "array = data.values # chuyển đổi dữ liệu sang mảng numpy\n",
    "\n",
    "# Chọn 8 cột đầu tiên làm biến đầu vào (X)\n",
    "X = array[:,0:8] # 8 cột đầu tiên\n",
    "\n",
    "# Chọn cột cuối cùng làm biến đầu ra (Y)\n",
    "Y = array[:,8] # cột cuối cùng\n",
    "\n",
    "# Thiết lập số lượng folds cho cross-validation\n",
    "num_folds = 10 # số lượng folds là 10\n",
    "\n",
    "# Thiết lập seed để đảm bảo tính ngẫu nhiên có thể tái lập\n",
    "seed = 7 # seed để tái lập kết quả\n",
    "\n",
    "# Tạo đối tượng KFold để thực hiện cross-validation\n",
    "kfold = KFold(n_splits=num_folds, random_state=seed, shuffle=True)\n",
    "\n",
    "# Khởi tạo mô hình Decision Tree Regression\n",
    "model = DecisionTreeRegressor()\n",
    "\n",
    "# Thiết lập phương pháp đánh giá là 'neg_mean_squared_error'\n",
    "scoring = 'neg_mean_squared_error'\n",
    "\n",
    "# Thực hiện cross-validation và đánh giá mô hình\n",
    "result = cross_val_score(model, X, Y, cv=kfold, scoring=scoring) # đánh giá mô hình\n",
    "\n",
    "# In ra giá trị trung bình của kết quả đánh giá\n",
    "print(result.mean()) # in kết quả trung bình"
   ]
  },
  {
   "cell_type": "markdown",
   "id": "8aea9ead",
   "metadata": {},
   "source": [
    "### Support Vector Machines"
   ]
  },
  {
   "cell_type": "code",
   "execution_count": null,
   "id": "5ed27345",
   "metadata": {},
   "outputs": [
    {
     "name": "stdout",
     "output_type": "stream",
     "text": [
      "-0.17461709362608288\n"
     ]
    }
   ],
   "source": [
    "# Nhập thư viện pandas để đọc dữ liệu từ file CSV\n",
    "# Nhập các module cần thiết từ sklearn để thực hiện cross-validation và đánh giá mô hình\n",
    "from pandas import read_csv\n",
    "from sklearn.model_selection import KFold, cross_val_score\n",
    "from sklearn.svm import SVR\n",
    "\n",
    "# Đọc dữ liệu từ file 'diabetes.csv'\n",
    "filename = 'diabetes.csv'\n",
    "data = read_csv(filename)\n",
    "\n",
    "# Chuyển dữ liệu từ DataFrame sang mảng numpy\n",
    "array = data.values # chuyển đổi dữ liệu sang mảng numpy\n",
    "\n",
    "# Chọn 8 cột đầu tiên làm biến đầu vào (X)\n",
    "X = array[:,0:8] # 8 cột đầu tiên\n",
    "\n",
    "# Chọn cột cuối cùng làm biến đầu ra (Y)\n",
    "Y = array[:,8] # cột cuối cùng\n",
    "\n",
    "# Thiết lập số lượng folds cho cross-validation\n",
    "num_folds = 10 # số lượng folds là 10\n",
    "\n",
    "# Thiết lập seed để đảm bảo tính ngẫu nhiên có thể tái lập\n",
    "seed = 7 # seed để tái lập kết quả\n",
    "\n",
    "# Tạo đối tượng KFold để thực hiện cross-validation\n",
    "kfold = KFold(n_splits=num_folds, random_state=seed, shuffle=True) # tạo k-fold cross-validation\n",
    "\n",
    "# Khởi tạo mô hình Support Vector Regression (SVR)\n",
    "model = SVR()\n",
    "\n",
    "# Thiết lập phương pháp đánh giá là 'neg_mean_squared_error'\n",
    "scoring = 'neg_mean_squared_error'\n",
    "\n",
    "# Thực hiện cross-validation và đánh giá mô hình\n",
    "result = cross_val_score(model, X, Y, cv=kfold, scoring=scoring) # đánh giá mô hình\n",
    "\n",
    "# In ra giá trị trung bình của kết quả đánh giá\n",
    "print(result.mean()) # in kết quả trung bình"
   ]
  }
 ],
 "metadata": {
  "kernelspec": {
   "display_name": "Python 3",
   "language": "python",
   "name": "python3"
  },
  "language_info": {
   "codemirror_mode": {
    "name": "ipython",
    "version": 3
   },
   "file_extension": ".py",
   "mimetype": "text/x-python",
   "name": "python",
   "nbconvert_exporter": "python",
   "pygments_lexer": "ipython3",
   "version": "3.12.1"
  }
 },
 "nbformat": 4,
 "nbformat_minor": 5
}
