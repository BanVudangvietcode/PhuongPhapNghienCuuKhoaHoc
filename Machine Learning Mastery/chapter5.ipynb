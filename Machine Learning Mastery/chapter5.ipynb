{
 "cells": [
  {
   "cell_type": "markdown",
   "id": "02716ff5",
   "metadata": {},
   "source": [
    "# Chapter 5"
   ]
  },
  {
   "cell_type": "markdown",
   "id": "f3e27f0d",
   "metadata": {},
   "source": [
    "# Understand Your Data With Descriptive Statistics"
   ]
  },
  {
   "cell_type": "markdown",
   "id": "36925caf",
   "metadata": {},
   "source": [
    "## Peek At Your Data"
   ]
  },
  {
   "cell_type": "code",
   "execution_count": 6,
   "id": "e73ffd83",
   "metadata": {},
   "outputs": [
    {
     "name": "stdout",
     "output_type": "stream",
     "text": [
      "    Pregnancies  Glucose  BloodPressure  SkinThickness  Insulin   BMI  \\\n",
      "0             6      148             72             35        0  33.6   \n",
      "1             1       85             66             29        0  26.6   \n",
      "2             8      183             64              0        0  23.3   \n",
      "3             1       89             66             23       94  28.1   \n",
      "4             0      137             40             35      168  43.1   \n",
      "5             5      116             74              0        0  25.6   \n",
      "6             3       78             50             32       88  31.0   \n",
      "7            10      115              0              0        0  35.3   \n",
      "8             2      197             70             45      543  30.5   \n",
      "9             8      125             96              0        0   0.0   \n",
      "10            4      110             92              0        0  37.6   \n",
      "11           10      168             74              0        0  38.0   \n",
      "12           10      139             80              0        0  27.1   \n",
      "13            1      189             60             23      846  30.1   \n",
      "14            5      166             72             19      175  25.8   \n",
      "15            7      100              0              0        0  30.0   \n",
      "16            0      118             84             47      230  45.8   \n",
      "17            7      107             74              0        0  29.6   \n",
      "18            1      103             30             38       83  43.3   \n",
      "19            1      115             70             30       96  34.6   \n",
      "\n",
      "    DiabetesPedigreeFunction  Age  Outcome  \n",
      "0                      0.627   50        1  \n",
      "1                      0.351   31        0  \n",
      "2                      0.672   32        1  \n",
      "3                      0.167   21        0  \n",
      "4                      2.288   33        1  \n",
      "5                      0.201   30        0  \n",
      "6                      0.248   26        1  \n",
      "7                      0.134   29        0  \n",
      "8                      0.158   53        1  \n",
      "9                      0.232   54        1  \n",
      "10                     0.191   30        0  \n",
      "11                     0.537   34        1  \n",
      "12                     1.441   57        0  \n",
      "13                     0.398   59        1  \n",
      "14                     0.587   51        1  \n",
      "15                     0.484   32        1  \n",
      "16                     0.551   31        1  \n",
      "17                     0.254   31        1  \n",
      "18                     0.183   33        0  \n",
      "19                     0.529   32        1  \n"
     ]
    }
   ],
   "source": [
    "from pandas import read_csv \n",
    "filename = 'diabetes.csv'\n",
    "data = read_csv(filename)\n",
    "peek = data.head(20)\n",
    "print(peek)"
   ]
  },
  {
   "cell_type": "markdown",
   "id": "6885b434",
   "metadata": {},
   "source": [
    "## Dimensions of Your Data"
   ]
  },
  {
   "cell_type": "code",
   "execution_count": 7,
   "id": "1001eb7b",
   "metadata": {},
   "outputs": [
    {
     "name": "stdout",
     "output_type": "stream",
     "text": [
      "(768, 9)\n"
     ]
    }
   ],
   "source": [
    "# Dimensions of your data \n",
    "from pandas import read_csv \n",
    "filename = 'diabetes.csv'\n",
    "data = read_csv(filename)\n",
    "shape = data.shape \n",
    "print(shape)"
   ]
  },
  {
   "cell_type": "markdown",
   "id": "e4e0a303",
   "metadata": {},
   "source": [
    "## Data Type For Each Attribute"
   ]
  },
  {
   "cell_type": "code",
   "execution_count": 8,
   "id": "765eee71",
   "metadata": {},
   "outputs": [
    {
     "name": "stdout",
     "output_type": "stream",
     "text": [
      "Pregnancies                   int64\n",
      "Glucose                       int64\n",
      "BloodPressure                 int64\n",
      "SkinThickness                 int64\n",
      "Insulin                       int64\n",
      "BMI                         float64\n",
      "DiabetesPedigreeFunction    float64\n",
      "Age                           int64\n",
      "Outcome                       int64\n",
      "dtype: object\n"
     ]
    }
   ],
   "source": [
    "from pandas import read_csv\n",
    "filename = 'diabetes.csv'\n",
    "data = read_csv(filename)\n",
    "types = data.dtypes\n",
    "print(types)"
   ]
  },
  {
   "cell_type": "markdown",
   "id": "e2a62aa2",
   "metadata": {},
   "source": [
    "## Descriptive Statistics"
   ]
  },
  {
   "cell_type": "code",
   "execution_count": null,
   "id": "9acb68f7",
   "metadata": {},
   "outputs": [
    {
     "name": "stdout",
     "output_type": "stream",
     "text": [
      "       Pregnancies   Glucose   BloodPressure   SkinThickness   Insulin     BMI   \\\n",
      "count      768.000   768.000         768.000         768.000   768.000  768.000   \n",
      "mean         3.845   120.895          69.105          20.536    79.799   31.993   \n",
      "std          3.370    31.973          19.356          15.952   115.244    7.884   \n",
      "min          0.000     0.000           0.000           0.000     0.000    0.000   \n",
      "25%          1.000    99.000          62.000           0.000     0.000   27.300   \n",
      "50%          3.000   117.000          72.000          23.000    30.500   32.000   \n",
      "75%          6.000   140.250          80.000          32.000   127.250   36.600   \n",
      "max         17.000   199.000         122.000          99.000   846.000   67.100   \n",
      "\n",
      "        DiabetesPedigreeFunction      Age   Outcome  \n",
      "count                    768.000  768.000   768.000  \n",
      "mean                       0.472   33.241     0.349  \n",
      "std                        0.331   11.760     0.477  \n",
      "min                        0.078   21.000     0.000  \n",
      "25%                        0.244   24.000     0.000  \n",
      "50%                        0.372   29.000     0.000  \n",
      "75%                        0.626   41.000     1.000  \n",
      "max                        2.420   81.000     1.000  \n"
     ]
    }
   ],
   "source": [
    "from pandas import read_csv\n",
    "from pandas import set_option\n",
    "filename = 'diabetes.csv'\n",
    "data = read_csv(filename)\n",
    "set_option('display.width', 100) # Chỉnh lại chiều rộng hiển thị\n",
    "set_option('display.precision', 3) # Hiện 3 chữ số sau dấu .\n",
    "description = data.describe() # Thống kê mô tả\n",
    "print(description)\n",
    "'''\n",
    "mean: giá trị trung bình\n",
    "std: độ lệch chuẩn\n",
    "min: giá trị nhỏ nhất\n",
    "25%: giá trị phân vị thứ nhất\n",
    "50%: giá trị phân vị thứ hai (trung vị)\n",
    "75%: giá trị phân vị thứ ba\n",
    "max: giá trị lớn nhất\n",
    "count: số lượng giá trị không bị thiếu\n",
    "'''"
   ]
  },
  {
   "cell_type": "markdown",
   "id": "09ea5539",
   "metadata": {},
   "source": [
    "## Class Distribution (Classification Only)"
   ]
  },
  {
   "cell_type": "code",
   "execution_count": 15,
   "id": "727681d1",
   "metadata": {},
   "outputs": [
    {
     "name": "stdout",
     "output_type": "stream",
     "text": [
      "Pregnancies\n",
      "0     111\n",
      "1     135\n",
      "2     103\n",
      "3      75\n",
      "4      68\n",
      "5      57\n",
      "6      50\n",
      "7      45\n",
      "8      38\n",
      "9      28\n",
      "10     24\n",
      "11     11\n",
      "12      9\n",
      "13     10\n",
      "14      2\n",
      "15      1\n",
      "17      1\n",
      "dtype: int64\n"
     ]
    }
   ],
   "source": [
    "from pandas import read_csv\n",
    "filename = 'diabetes.csv'\n",
    "data = read_csv(filename)\n",
    "class_counts = data.groupby('Pregnancies').size()\n",
    "print(class_counts)"
   ]
  },
  {
   "cell_type": "markdown",
   "id": "a97a94e0",
   "metadata": {},
   "source": [
    "## Correlations Between Attributes"
   ]
  },
  {
   "cell_type": "code",
   "execution_count": 16,
   "id": "6492c436",
   "metadata": {},
   "outputs": [
    {
     "name": "stdout",
     "output_type": "stream",
     "text": [
      "                           Pregnancies   Glucose   BloodPressure   SkinThickness   Insulin   BMI   \\\n",
      "Pregnancies                      1.000     0.129           0.141          -0.082    -0.074  0.018   \n",
      " Glucose                         0.129     1.000           0.153           0.057     0.331  0.221   \n",
      " BloodPressure                   0.141     0.153           1.000           0.207     0.089  0.282   \n",
      " SkinThickness                  -0.082     0.057           0.207           1.000     0.437  0.393   \n",
      " Insulin                        -0.074     0.331           0.089           0.437     1.000  0.198   \n",
      " BMI                             0.018     0.221           0.282           0.393     0.198  1.000   \n",
      " DiabetesPedigreeFunction       -0.034     0.137           0.041           0.184     0.185  0.141   \n",
      " Age                             0.544     0.264           0.240          -0.114    -0.042  0.036   \n",
      " Outcome                         0.222     0.467           0.065           0.075     0.131  0.293   \n",
      "\n",
      "                            DiabetesPedigreeFunction    Age   Outcome  \n",
      "Pregnancies                                   -0.034  0.544     0.222  \n",
      " Glucose                                       0.137  0.264     0.467  \n",
      " BloodPressure                                 0.041  0.240     0.065  \n",
      " SkinThickness                                 0.184 -0.114     0.075  \n",
      " Insulin                                       0.185 -0.042     0.131  \n",
      " BMI                                           0.141  0.036     0.293  \n",
      " DiabetesPedigreeFunction                      1.000  0.034     0.174  \n",
      " Age                                           0.034  1.000     0.238  \n",
      " Outcome                                       0.174  0.238     1.000  \n"
     ]
    }
   ],
   "source": [
    "from pandas import read_csv\n",
    "from pandas import set_option\n",
    "filename = 'diabetes.csv'\n",
    "data = read_csv(filename)\n",
    "set_option('display.width', 100) # Chỉnh lại chiều rộng hiển thị\n",
    "set_option('display.precision', 3) # Hiện 3 chữ số sau dấu .\n",
    "correlation = data.corr(method='pearson')\n",
    "print(correlation)"
   ]
  },
  {
   "cell_type": "markdown",
   "id": "334e0f20",
   "metadata": {},
   "source": [
    "## Skew of Univariate Distributions"
   ]
  },
  {
   "cell_type": "code",
   "execution_count": 17,
   "id": "48f0c0b0",
   "metadata": {},
   "outputs": [
    {
     "name": "stdout",
     "output_type": "stream",
     "text": [
      "Pregnancies                  0.902\n",
      " Glucose                     0.174\n",
      " BloodPressure              -1.844\n",
      " SkinThickness               0.109\n",
      " Insulin                     2.272\n",
      " BMI                        -0.429\n",
      " DiabetesPedigreeFunction    1.920\n",
      " Age                         1.130\n",
      " Outcome                     0.635\n",
      "dtype: float64\n"
     ]
    }
   ],
   "source": [
    "from pandas import read_csv\n",
    "filename = 'diabetes.csv'\n",
    "data = read_csv(filename)\n",
    "skew = data.skew()\n",
    "print(skew)"
   ]
  }
 ],
 "metadata": {
  "kernelspec": {
   "display_name": "Python 3",
   "language": "python",
   "name": "python3"
  },
  "language_info": {
   "codemirror_mode": {
    "name": "ipython",
    "version": 3
   },
   "file_extension": ".py",
   "mimetype": "text/x-python",
   "name": "python",
   "nbconvert_exporter": "python",
   "pygments_lexer": "ipython3",
   "version": "3.12.1"
  }
 },
 "nbformat": 4,
 "nbformat_minor": 5
}
