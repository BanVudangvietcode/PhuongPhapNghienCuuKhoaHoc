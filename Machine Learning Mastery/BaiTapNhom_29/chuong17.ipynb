{
  "nbformat": 4,
  "nbformat_minor": 0,
  "metadata": {
    "colab": {
      "provenance": []
    },
    "kernelspec": {
      "name": "python3",
      "display_name": "Python 3"
    },
    "language_info": {
      "name": "python"
    }
  },
  "cells": [
    {
      "cell_type": "markdown",
      "source": [
        "1. Lưu và Tải Mô hình bằng Pickle"
      ],
      "metadata": {
        "id": "o4QhWCUeaoTf"
      }
    },
    {
      "cell_type": "code",
      "execution_count": null,
      "metadata": {
        "id": "Nx5Qrineanev"
      },
      "outputs": [],
      "source": [
        "# Lưu và tải mô hình Logistic Regression bằng pickle trên tập Pima Indians Diabetes\n",
        "import pandas as pd\n",
        "from sklearn.model_selection import train_test_split\n",
        "from sklearn.linear_model import LogisticRegression\n",
        "import pickle\n",
        "\n",
        "# Tải dữ liệu\n",
        "url = \"https://raw.githubusercontent.com/jbrownlee/Datasets/master/pima-indians-diabetes.data.csv\"\n",
        "columns = ['preg', 'plas', 'pres', 'skin', 'test', 'mass', 'pedi', 'age', 'class']\n",
        "data = pd.read_csv(url, names=columns)\n",
        "\n",
        "# Tách features và target\n",
        "X = data.iloc[:, :-1].values\n",
        "y = data.iloc[:, -1].values\n",
        "\n",
        "# Chia dữ liệu thành tập huấn luyện và kiểm tra\n",
        "X_train, X_test, y_train, y_test = train_test_split(X, y, test_size=0.33, random_state=7)\n",
        "\n",
        "# Huấn luyện mô hình\n",
        "model = LogisticRegression(max_iter=1000)\n",
        "model.fit(X_train, y_train)\n",
        "\n",
        "# Lưu mô hình vào tệp\n",
        "filename = 'finalized_model.sav'\n",
        "with open(filename, 'wb') as file:\n",
        "    pickle.dump(model, file)\n",
        "\n",
        "# Tải mô hình từ tệp\n",
        "with open(filename, 'rb') as file:\n",
        "    loaded_model = pickle.load(file)\n",
        "\n",
        "# Đánh giá mô hình trên tập kiểm tra\n",
        "accuracy = loaded_model.score(X_test, y_test)\n",
        "print(f\"Độ chính xác trên tập kiểm tra: {accuracy:.3f}\")"
      ]
    },
    {
      "cell_type": "markdown",
      "source": [
        "2. Lưu và Tải Mô hình bằng Joblib"
      ],
      "metadata": {
        "id": "rmc9id4Ya0aX"
      }
    },
    {
      "cell_type": "code",
      "source": [
        "# Lưu và tải mô hình Logistic Regression bằng joblib trên tập Pima Indians Diabetes\n",
        "import pandas as pd\n",
        "from sklearn.model_selection import train_test_split\n",
        "from sklearn.linear_model import LogisticRegression\n",
        "import joblib\n",
        "\n",
        "# Tải dữ liệu\n",
        "url = \"https://raw.githubusercontent.com/jbrownlee/Datasets/master/pima-indians-diabetes.data.csv\"\n",
        "columns = ['preg', 'plas', 'pres', 'skin', 'test', 'mass', 'pedi', 'age', 'class']\n",
        "data = pd.read_csv(url, names=columns)\n",
        "\n",
        "# Tách features và target\n",
        "X = data.iloc[:, :-1].values\n",
        "y = data.iloc[:, -1].values\n",
        "\n",
        "# Chia dữ liệu thành tập huấn luyện và kiểm tra\n",
        "X_train, X_test, y_train, y_test = train_test_split(X, y, test_size=0.33, random_state=7)\n",
        "\n",
        "# Huấn luyện mô hình\n",
        "model = LogisticRegression(max_iter=1000)\n",
        "model.fit(X_train, y_train)\n",
        "\n",
        "# Lưu mô hình vào tệp\n",
        "filename = 'finalized_model.sav'\n",
        "joblib.dump(model, filename)\n",
        "\n",
        "# Tải mô hình từ tệp\n",
        "loaded_model = joblib.load(filename)\n",
        "\n",
        "# Đánh giá mô hình trên tập kiểm tra\n",
        "accuracy = loaded_model.score(X_test, y_test)\n",
        "print(f\"Độ chính xác trên tập kiểm tra: {accuracy:.3f}\")"
      ],
      "metadata": {
        "id": "kyti4asHa3Mg"
      },
      "execution_count": null,
      "outputs": []
    }
  ]
}