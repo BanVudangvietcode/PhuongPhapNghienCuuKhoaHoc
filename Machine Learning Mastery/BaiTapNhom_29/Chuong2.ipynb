{
  "nbformat": 4,
  "nbformat_minor": 0,
  "metadata": {
    "colab": {
      "provenance": []
    },
    "kernelspec": {
      "name": "python3",
      "display_name": "Python 3"
    },
    "language_info": {
      "name": "python"
    }
  },
  "cells": [
    {
      "cell_type": "code",
      "execution_count": null,
      "metadata": {
        "id": "N5tr9VzVD6x2"
      },
      "outputs": [],
      "source": [
        "# Kiểm tra phiên bản của scipy\n",
        "import scipy\n",
        "print('scipy:', scipy.__version__)\n",
        "\n",
        "# Kiểm tra phiên bản của numpy\n",
        "import numpy\n",
        "print('numpy:', numpy.__version__)\n",
        "\n",
        "# Kiểm tra phiên bản của matplotlib\n",
        "import matplotlib\n",
        "print('matplotlib:', matplotlib.__version__)\n",
        "\n",
        "# Kiểm tra phiên bản của pandas\n",
        "import pandas\n",
        "print('pandas:', pandas.__version__)\n",
        "\n",
        "# Kiểm tra phiên bản của scikit-learn\n",
        "import sklearn\n",
        "print('sklearn:', sklearn.__version__)\n"
      ]
    }
  ]
}