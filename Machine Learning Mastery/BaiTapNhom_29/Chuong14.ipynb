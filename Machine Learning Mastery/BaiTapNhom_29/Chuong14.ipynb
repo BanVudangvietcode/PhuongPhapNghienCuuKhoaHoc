{
  "nbformat": 4,
  "nbformat_minor": 0,
  "metadata": {
    "colab": {
      "provenance": []
    },
    "kernelspec": {
      "name": "python3",
      "display_name": "Python 3"
    },
    "language_info": {
      "name": "python"
    }
  },
  "cells": [
    {
      "cell_type": "code",
      "execution_count": null,
      "metadata": {
        "id": "d-v9jqjfXeYC"
      },
      "outputs": [],
      "source": [
        "1. Data Preparation and Modeling Pipeline"
      ]
    },
    {
      "cell_type": "code",
      "source": [
        "# Pipeline chuẩn hóa dữ liệu và huấn luyện Linear Discriminant Analysis trên tập Pima Indians Diabetes\n",
        "import pandas as pd\n",
        "from sklearn.model_selection import KFold, cross_val_score\n",
        "from sklearn.preprocessing import StandardScaler\n",
        "from sklearn.pipeline import Pipeline\n",
        "from sklearn.discriminant_analysis import LinearDiscriminantAnalysis\n",
        "\n",
        "# Tải dữ liệu\n",
        "url = \"https://raw.githubusercontent.com/jbrownlee/Datasets/master/pima-indians-diabetes.data.csv\"\n",
        "columns = ['preg', 'plas', 'pres', 'skin', 'test', 'mass', 'pedi', 'age', 'class']\n",
        "data = pd.read_csv(url, names=columns)\n",
        "\n",
        "# Tách features và target\n",
        "X = data.iloc[:, :-1].values\n",
        "y = data.iloc[:, -1].values\n",
        "\n",
        "# Tạo Pipeline: Chuẩn hóa dữ liệu rồi huấn luyện mô hình\n",
        "pipeline = Pipeline([\n",
        "    ('standardize', StandardScaler()),  # Bước 1: Chuẩn hóa dữ liệu\n",
        "    ('lda', LinearDiscriminantAnalysis())  # Bước 2: Huấn luyện Linear Discriminant Analysis\n",
        "])\n",
        "\n",
        "# Thiết lập cross-validation\n",
        "kfold = KFold(n_splits=10, shuffle=True, random_state=7)\n",
        "\n",
        "# Đánh giá Pipeline\n",
        "results = cross_val_score(pipeline, X, y, cv=kfold, scoring='accuracy')\n",
        "\n",
        "# In kết quả: Độ chính xác trung bình\n",
        "print(f\"Độ chính xác trung bình: {results.mean():.3f}\")"
      ],
      "metadata": {
        "colab": {
          "base_uri": "https://localhost:8080/"
        },
        "id": "TLgqs7-sXgh5",
        "outputId": "1437e06a-8f07-464a-c8d9-41136e5ebace"
      },
      "execution_count": 1,
      "outputs": [
        {
          "output_type": "stream",
          "name": "stdout",
          "text": [
            "Độ chính xác trung bình: 0.767\n"
          ]
        }
      ]
    },
    {
      "cell_type": "markdown",
      "source": [
        "2. Feature Extraction and Modeling Pipeline"
      ],
      "metadata": {
        "id": "qPEyRNx4Xmo3"
      }
    },
    {
      "cell_type": "code",
      "source": [
        "# Pipeline trích xuất đặc trưng và huấn luyện Logistic Regression trên tập Pima Indians Diabetes\n",
        "import pandas as pd\n",
        "from sklearn.model_selection import KFold, cross_val_score\n",
        "from sklearn.pipeline import Pipeline, FeatureUnion\n",
        "from sklearn.linear_model import LogisticRegression\n",
        "from sklearn.decomposition import PCA\n",
        "from sklearn.feature_selection import SelectKBest\n",
        "\n",
        "# Tải dữ liệu\n",
        "url = \"https://raw.githubusercontent.com/jbrownlee/Datasets/master/pima-indians-diabetes.data.csv\"\n",
        "columns = ['preg', 'plas', 'pres', 'skin', 'test', 'mass', 'pedi', 'age', 'class']\n",
        "data = pd.read_csv(url, names=columns)\n",
        "\n",
        "# Tách features và target\n",
        "X = data.iloc[:, :-1].values\n",
        "y = data.iloc[:, -1].values\n",
        "\n",
        "# Tạo FeatureUnion: Kết hợp PCA và SelectKBest\n",
        "feature_union = FeatureUnion([\n",
        "    ('pca', PCA(n_components=3)),  # Trích xuất 3 đặc trưng bằng PCA\n",
        "    ('select_best', SelectKBest(k=6))  # Chọn 6 đặc trưng tốt nhất\n",
        "])\n",
        "\n",
        "# Tạo Pipeline: Trích xuất đặc trưng rồi huấn luyện mô hình\n",
        "pipeline = Pipeline([\n",
        "    ('feature_union', feature_union),  # Bước 1: Kết hợp các đặc trưng\n",
        "    ('logistic', LogisticRegression(max_iter=1000))  # Bước 2: Huấn luyện Logistic Regression\n",
        "])\n",
        "\n",
        "# Thiết lập cross-validation\n",
        "kfold = KFold(n_splits=10, shuffle=True, random_state=7)\n",
        "\n",
        "# Đánh giá Pipeline\n",
        "results = cross_val_score(pipeline, X, y, cv=kfold, scoring='accuracy')\n",
        "\n",
        "# In kết quả: Độ chính xác trung bình\n",
        "print(f\"Độ chính xác trung bình: {results.mean():.3f}\")"
      ],
      "metadata": {
        "colab": {
          "base_uri": "https://localhost:8080/"
        },
        "id": "kcVCXlmiXoR2",
        "outputId": "0808a0d4-d70d-4fee-bfb2-790645a58b30"
      },
      "execution_count": 2,
      "outputs": [
        {
          "output_type": "stream",
          "name": "stdout",
          "text": [
            "Độ chính xác trung bình: 0.772\n"
          ]
        }
      ]
    },
    {
      "cell_type": "markdown",
      "source": [],
      "metadata": {
        "id": "EWR9q_w-Xp4v"
      }
    },
    {
      "cell_type": "code",
      "source": [],
      "metadata": {
        "id": "XKtrBJECXplf"
      },
      "execution_count": null,
      "outputs": []
    }
  ]
}