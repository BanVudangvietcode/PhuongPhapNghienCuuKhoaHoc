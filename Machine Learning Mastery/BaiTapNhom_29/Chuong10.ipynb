{
  "nbformat": 4,
  "nbformat_minor": 0,
  "metadata": {
    "colab": {
      "provenance": []
    },
    "kernelspec": {
      "name": "python3",
      "display_name": "Python 3"
    },
    "language_info": {
      "name": "python"
    }
  },
  "cells": [
    {
      "cell_type": "markdown",
      "source": [
        "1. Classification Accuracy"
      ],
      "metadata": {
        "id": "iIokW_9KVmNp"
      }
    },
    {
      "cell_type": "code",
      "execution_count": 1,
      "metadata": {
        "colab": {
          "base_uri": "https://localhost:8080/"
        },
        "id": "LqjgomtfTeVx",
        "outputId": "545407d3-c75f-4522-d3bc-0f3789d08a71"
      },
      "outputs": [
        {
          "output_type": "stream",
          "name": "stdout",
          "text": [
            "Độ chính xác: 0.772 (±0.050)\n"
          ]
        }
      ],
      "source": [
        "# Đánh giá độ chính xác phân loại với Logistic Regression trên tập Pima Indians Diabetes\n",
        "import pandas as pd\n",
        "from sklearn.model_selection import KFold, cross_val_score\n",
        "from sklearn.linear_model import LogisticRegression\n",
        "\n",
        "# Tải dữ liệu\n",
        "url = \"https://raw.githubusercontent.com/jbrownlee/Datasets/master/pima-indians-diabetes.data.csv\"\n",
        "columns = ['preg', 'plas', 'pres', 'skin', 'test', 'mass', 'pedi', 'age', 'class']\n",
        "data = pd.read_csv(url, names=columns)\n",
        "\n",
        "# Tách features và target\n",
        "X = data.iloc[:, :-1].values\n",
        "y = data.iloc[:, -1].values\n",
        "\n",
        "# Thiết lập cross-validation\n",
        "kfold = KFold(n_splits=10, shuffle=True, random_state=7)\n",
        "\n",
        "# Khởi tạo mô hình\n",
        "model = LogisticRegression(max_iter=1000)\n",
        "\n",
        "# Đánh giá độ chính xác\n",
        "results = cross_val_score(model, X, y, cv=kfold, scoring='accuracy')\n",
        "\n",
        "# In kết quả: trung bình và độ lệch chuẩn\n",
        "print(f\"Độ chính xác: {results.mean():.3f} (±{results.std():.3f})\")"
      ]
    },
    {
      "cell_type": "markdown",
      "source": [
        "2. Logarithmic Loss"
      ],
      "metadata": {
        "id": "LKauP4sMVrsI"
      }
    },
    {
      "cell_type": "code",
      "source": [
        "# Đánh giá Logloss với Logistic Regression trên tập Pima Indians Diabetes\n",
        "import pandas as pd\n",
        "from sklearn.model_selection import KFold, cross_val_score\n",
        "from sklearn.linear_model import LogisticRegression\n",
        "\n",
        "# Tải dữ liệu\n",
        "url = \"https://raw.githubusercontent.com/jbrownlee/Datasets/master/pima-indians-diabetes.data.csv\"\n",
        "columns = ['preg', 'plas', 'pres', 'skin', 'test', 'mass', 'pedi', 'age', 'class']\n",
        "data = pd.read_csv(url, names=columns)\n",
        "\n",
        "# Tách features và target\n",
        "X = data.iloc[:, :-1].values\n",
        "y = data.iloc[:, -1].values\n",
        "\n",
        "# Thiết lập cross-validation\n",
        "kfold = KFold(n_splits=10, shuffle=True, random_state=7)\n",
        "\n",
        "# Khởi tạo mô hình\n",
        "model = LogisticRegression(max_iter=1000)\n",
        "\n",
        "# Đánh giá logloss (lưu ý: giá trị âm do scikit-learn)\n",
        "results = cross_val_score(model, X, y, cv=kfold, scoring='neg_log_loss')\n",
        "\n",
        "# In kết quả\n",
        "print(f\"Logloss: {results.mean():.3f} (±{results.std():.3f})\")"
      ],
      "metadata": {
        "colab": {
          "base_uri": "https://localhost:8080/"
        },
        "id": "T4tXUlNFVtYf",
        "outputId": "983141cd-e66f-4666-e396-8668dcb1337f"
      },
      "execution_count": 2,
      "outputs": [
        {
          "output_type": "stream",
          "name": "stdout",
          "text": [
            "Logloss: -0.485 (±0.057)\n"
          ]
        }
      ]
    },
    {
      "cell_type": "markdown",
      "source": [
        "3. Area Under ROC Curve (AUC)"
      ],
      "metadata": {
        "id": "43O3iZmaVvlf"
      }
    },
    {
      "cell_type": "code",
      "source": [
        "# Đánh giá AUC với Logistic Regression trên tập Pima Indians Diabetes\n",
        "import pandas as pd\n",
        "from sklearn.model_selection import KFold, cross_val_score\n",
        "from sklearn.linear_model import LogisticRegression\n",
        "\n",
        "# Tải dữ liệu\n",
        "url = \"https://raw.githubusercontent.com/jbrownlee/Datasets/master/pima-indians-diabetes.data.csv\"\n",
        "columns = ['preg', 'plas', 'pres', 'skin', 'test', 'mass', 'pedi', 'age', 'class']\n",
        "data = pd.read_csv(url, names=columns)\n",
        "\n",
        "# Tách features và target\n",
        "X = data.iloc[:, :-1].values\n",
        "y = data.iloc[:, -1].values\n",
        "\n",
        "# Thiết lập cross-validation\n",
        "kfold = KFold(n_splits=10, shuffle=True, random_state=7)\n",
        "\n",
        "# Khởi tạo mô hình\n",
        "model = LogisticRegression(max_iter=1000)\n",
        "\n",
        "# Đánh giá AUC\n",
        "results = cross_val_score(model, X, y, cv=kfold, scoring='roc_auc')\n",
        "\n",
        "# In kết quả\n",
        "print(f\"AUC: {results.mean():.3f} (±{results.std():.3f})\")"
      ],
      "metadata": {
        "colab": {
          "base_uri": "https://localhost:8080/"
        },
        "id": "hVctsAIxVxEf",
        "outputId": "b50808b8-d439-4baa-b775-a2cb1e9cdbfb"
      },
      "execution_count": 3,
      "outputs": [
        {
          "output_type": "stream",
          "name": "stdout",
          "text": [
            "AUC: 0.829 (±0.047)\n"
          ]
        }
      ]
    },
    {
      "cell_type": "markdown",
      "source": [
        "4. Confusion Matrix"
      ],
      "metadata": {
        "id": "nSuUOa48Vyq_"
      }
    },
    {
      "cell_type": "code",
      "source": [
        "# Tính ma trận nhầm lẫn với Logistic Regression trên tập Pima Indians Diabetes\n",
        "import pandas as pd\n",
        "from sklearn.model_selection import train_test_split\n",
        "from sklearn.linear_model import LogisticRegression\n",
        "from sklearn.metrics import confusion_matrix\n",
        "\n",
        "# Tải dữ liệu\n",
        "url = \"https://raw.githubusercontent.com/jbrownlee/Datasets/master/pima-indians-diabetes.data.csv\"\n",
        "columns = ['preg', 'plas', 'pres', 'skin', 'test', 'mass', 'pedi', 'age', 'class']\n",
        "data = pd.read_csv(url, names=columns)\n",
        "\n",
        "# Tách features và target\n",
        "X = data.iloc[:, :-1].values\n",
        "y = data.iloc[:, -1].values\n",
        "\n",
        "# Chia dữ liệu thành tập huấn luyện và kiểm tra\n",
        "X_train, X_test, y_train, y_test = train_test_split(X, y, test_size=0.33, random_state=7)\n",
        "\n",
        "# Huấn luyện mô hình\n",
        "model = LogisticRegression(max_iter=1000)\n",
        "model.fit(X_train, y_train)\n",
        "\n",
        "# Dự đoán trên tập kiểm tra\n",
        "y_pred = model.predict(X_test)\n",
        "\n",
        "# Tính ma trận nhầm lẫn\n",
        "matrix = confusion_matrix(y_test, y_pred)\n",
        "\n",
        "# In kết quả\n",
        "print(\"Ma trận nhầm lẫn:\")\n",
        "print(matrix)"
      ],
      "metadata": {
        "colab": {
          "base_uri": "https://localhost:8080/"
        },
        "id": "o60k7-_6V0MG",
        "outputId": "84391ba7-88c8-43e1-e4d1-b8f91b1f57d6"
      },
      "execution_count": 4,
      "outputs": [
        {
          "output_type": "stream",
          "name": "stdout",
          "text": [
            "Ma trận nhầm lẫn:\n",
            "[[142  20]\n",
            " [ 34  58]]\n"
          ]
        }
      ]
    },
    {
      "cell_type": "markdown",
      "source": [
        "5. Classification Report"
      ],
      "metadata": {
        "id": "sx8LgLHTV1wf"
      }
    },
    {
      "cell_type": "code",
      "source": [
        "# Tạo báo cáo phân loại với Logistic Regression trên tập Pima Indians Diabetes\n",
        "import pandas as pd\n",
        "from sklearn.model_selection import train_test_split\n",
        "from sklearn.linear_model import LogisticRegression\n",
        "from sklearn.metrics import classification_report\n",
        "\n",
        "# Tải dữ liệu\n",
        "url = \"https://raw.githubusercontent.com/jbrownlee/Datasets/master/pima-indians-diabetes.data.csv\"\n",
        "columns = ['preg', 'plas', 'pres', 'skin', 'test', 'mass', 'pedi', 'age', 'class']\n",
        "data = pd.read_csv(url, names=columns)\n",
        "\n",
        "# Tách features và target\n",
        "X = data.iloc[:, :-1].values\n",
        "y = data.iloc[:, -1].values\n",
        "\n",
        "# Chia dữ liệu\n",
        "X_train, X_test, y_train, y_test = train_test_split(X, y, test_size=0.33, random_state=7)\n",
        "\n",
        "# Huấn luyện mô hình\n",
        "model = LogisticRegression(max_iter=1000)\n",
        "model.fit(X_train, y_train)\n",
        "\n",
        "# Dự đoán\n",
        "y_pred = model.predict(X_test)\n",
        "\n",
        "# Tạo và in báo cáo phân loại\n",
        "report = classification_report(y_test, y_pred)\n",
        "print(\"Báo cáo phân loại:\")\n",
        "print(report)"
      ],
      "metadata": {
        "colab": {
          "base_uri": "https://localhost:8080/"
        },
        "id": "yoE-mP2FV1Tw",
        "outputId": "fc1e8f9a-abf2-4adf-f190-dc322c066f5b"
      },
      "execution_count": 5,
      "outputs": [
        {
          "output_type": "stream",
          "name": "stdout",
          "text": [
            "Báo cáo phân loại:\n",
            "              precision    recall  f1-score   support\n",
            "\n",
            "           0       0.81      0.88      0.84       162\n",
            "           1       0.74      0.63      0.68        92\n",
            "\n",
            "    accuracy                           0.79       254\n",
            "   macro avg       0.78      0.75      0.76       254\n",
            "weighted avg       0.78      0.79      0.78       254\n",
            "\n"
          ]
        }
      ]
    },
    {
      "cell_type": "markdown",
      "source": [
        "6. Mean Absolute Error (MAE)"
      ],
      "metadata": {
        "id": "NdgLbxUZV4pO"
      }
    },
    {
      "cell_type": "code",
      "source": [
        "# Đánh giá MAE với Linear Regression trên tập Boston House Price\n",
        "import pandas as pd\n",
        "from sklearn.model_selection import KFold, cross_val_score\n",
        "from sklearn.linear_model import LinearRegression\n",
        "\n",
        "# Tải dữ liệu\n",
        "url = \"https://raw.githubusercontent.com/jbrownlee/Datasets/master/housing.data\"\n",
        "columns = ['CRIM', 'ZN', 'INDUS', 'CHAS', 'NOX', 'RM', 'AGE', 'DIS', 'RAD', 'TAX', 'PTRATIO', 'B', 'LSTAT', 'MEDV']\n",
        "data = pd.read_csv(url, delim_whitespace=True, names=columns)\n",
        "\n",
        "# Tách features và target\n",
        "X = data.iloc[:, :-1].values\n",
        "y = data.iloc[:, -1].values\n",
        "\n",
        "# Thiết lập cross-validation\n",
        "kfold = KFold(n_splits=10, shuffle=True, random_state=7)\n",
        "\n",
        "# Khởi tạo mô hình\n",
        "model = LinearRegression()\n",
        "\n",
        "# Đánh giá MAE (lưu ý: giá trị âm do scikit-learn)\n",
        "results = cross_val_score(model, X, y, cv=kfold, scoring='neg_mean_absolute_error')\n",
        "\n",
        "# In kết quả\n",
        "print(f\"MAE: {results.mean():.3f} (±{results.std():.3f})\")"
      ],
      "metadata": {
        "colab": {
          "base_uri": "https://localhost:8080/"
        },
        "id": "LxigwEE4V7nX",
        "outputId": "37d3da28-735a-4c53-8e7f-2ac69458feba"
      },
      "execution_count": 6,
      "outputs": [
        {
          "output_type": "stream",
          "name": "stderr",
          "text": [
            "<ipython-input-6-a9b6bae73d76>:9: FutureWarning: The 'delim_whitespace' keyword in pd.read_csv is deprecated and will be removed in a future version. Use ``sep='\\s+'`` instead\n",
            "  data = pd.read_csv(url, delim_whitespace=True, names=columns)\n"
          ]
        },
        {
          "output_type": "stream",
          "name": "stdout",
          "text": [
            "MAE: -3.387 (±0.667)\n"
          ]
        }
      ]
    },
    {
      "cell_type": "markdown",
      "source": [
        "7. Mean Squared Error (MSE)"
      ],
      "metadata": {
        "id": "EOhmf8SeV_RI"
      }
    },
    {
      "cell_type": "code",
      "source": [
        "# Đánh giá MSE với Linear Regression trên tập Boston House Price\n",
        "import pandas as pd\n",
        "from sklearn.model_selection import KFold, cross_val_score\n",
        "from sklearn.linear_model import LinearRegression\n",
        "\n",
        "# Tải dữ liệu\n",
        "url = \"https://raw.githubusercontent.com/jbrownlee/Datasets/master/housing.data\"\n",
        "columns = ['CRIM', 'ZN', 'INDUS', 'CHAS', 'NOX', 'RM', 'AGE', 'DIS', 'RAD', 'TAX', 'PTRATIO', 'B', 'LSTAT', 'MEDV']\n",
        "data = pd.read_csv(url, delim_whitespace=True, names=columns)\n",
        "\n",
        "# Tách features và target\n",
        "X = data.iloc[:, :-1].values\n",
        "y = data.iloc[:, -1].values\n",
        "\n",
        "# Thiết lập cross-validation\n",
        "kfold = KFold(n_splits=10, shuffle=True, random_state=7)\n",
        "\n",
        "# Khởi tạo mô hình\n",
        "model = LinearRegression()\n",
        "\n",
        "# Đánh giá MSE (lưu ý: giá trị âm do scikit-learn)\n",
        "results = cross_val_score(model, X, y, cv=kfold, scoring='neg_mean_squared_error')\n",
        "\n",
        "# In kết quả\n",
        "print(f\"MSE: {results.mean():.3f} (±{results.std():.3f})\")"
      ],
      "metadata": {
        "colab": {
          "base_uri": "https://localhost:8080/"
        },
        "id": "T7miXoS_V_x3",
        "outputId": "ec4e2d06-317d-44bd-bec9-91246128aa8d"
      },
      "execution_count": 7,
      "outputs": [
        {
          "output_type": "stream",
          "name": "stdout",
          "text": [
            "MSE: -23.747 (±11.143)\n"
          ]
        },
        {
          "output_type": "stream",
          "name": "stderr",
          "text": [
            "<ipython-input-7-04aa36284f79>:9: FutureWarning: The 'delim_whitespace' keyword in pd.read_csv is deprecated and will be removed in a future version. Use ``sep='\\s+'`` instead\n",
            "  data = pd.read_csv(url, delim_whitespace=True, names=columns)\n"
          ]
        }
      ]
    },
    {
      "cell_type": "markdown",
      "source": [
        "8. R² Metric"
      ],
      "metadata": {
        "id": "LCrbJqTJWBJJ"
      }
    },
    {
      "cell_type": "code",
      "source": [
        "# Đánh giá R² với Linear Regression trên tập Boston House Price\n",
        "import pandas as pd\n",
        "from sklearn.model_selection import KFold, cross_val_score\n",
        "from sklearn.linear_model import LinearRegression\n",
        "\n",
        "# Tải dữ liệu\n",
        "url = \"https://raw.githubusercontent.com/jbrownlee/Datasets/master/housing.data\"\n",
        "columns = ['CRIM', 'ZN', 'INDUS', 'CHAS', 'NOX', 'RM', 'AGE', 'DIS', 'RAD', 'TAX', 'PTRATIO', 'B', 'LSTAT', 'MEDV']\n",
        "data = pd.read_csv(url, delim_whitespace=True, names=columns)\n",
        "\n",
        "# Tách features và target\n",
        "X = data.iloc[:, :-1].values\n",
        "y = data.iloc[:, -1].values\n",
        "\n",
        "# Thiết lập cross-validation\n",
        "kfold = KFold(n_splits=10, shuffle=True, random_state=7)\n",
        "\n",
        "# Khởi tạo mô hình\n",
        "model = LinearRegression()\n",
        "\n",
        "# Đánh giá R²\n",
        "results = cross_val_score(model, X, y, cv=kfold, scoring='r2')\n",
        "\n",
        "# In kết quả\n",
        "print(f\"R²: {results.mean():.3f} (±{results.std():.3f})\")"
      ],
      "metadata": {
        "colab": {
          "base_uri": "https://localhost:8080/"
        },
        "id": "TypBlwkbWCYH",
        "outputId": "3cc98e42-274a-4321-99ff-ee54f42790d9"
      },
      "execution_count": 8,
      "outputs": [
        {
          "output_type": "stream",
          "name": "stdout",
          "text": [
            "R²: 0.718 (±0.099)\n"
          ]
        },
        {
          "output_type": "stream",
          "name": "stderr",
          "text": [
            "<ipython-input-8-702198ffa9ae>:9: FutureWarning: The 'delim_whitespace' keyword in pd.read_csv is deprecated and will be removed in a future version. Use ``sep='\\s+'`` instead\n",
            "  data = pd.read_csv(url, delim_whitespace=True, names=columns)\n"
          ]
        }
      ]
    }
  ]
}