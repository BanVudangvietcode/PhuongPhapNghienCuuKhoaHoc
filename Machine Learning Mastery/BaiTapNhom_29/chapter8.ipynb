{
 "cells": [
  {
   "cell_type": "markdown",
   "id": "8e00ab1a",
   "metadata": {},
   "source": [
    "# Chapter 8"
   ]
  },
  {
   "cell_type": "markdown",
   "id": "41f3bd97",
   "metadata": {},
   "source": [
    "# Feature Selection For Machine Learning"
   ]
  },
  {
   "cell_type": "markdown",
   "id": "def0758c",
   "metadata": {},
   "source": [
    "## Univariate Selection"
   ]
  },
  {
   "cell_type": "code",
   "execution_count": null,
   "id": "e4a4e214",
   "metadata": {},
   "outputs": [
    {
     "name": "stdout",
     "output_type": "stream",
     "text": [
      "[ 111.52  1411.887   17.605   53.108 2175.565  127.669    5.393  181.304]\n",
      "[[148.    0.   33.6  50. ]\n",
      " [ 85.    0.   26.6  31. ]\n",
      " [183.    0.   23.3  32. ]\n",
      " [ 89.   94.   28.1  21. ]\n",
      " [137.  168.   43.1  33. ]]\n"
     ]
    }
   ],
   "source": [
    "# Import các thư viện cần thiết\n",
    "from pandas import read_csv\n",
    "from numpy import set_printoptions\n",
    "from sklearn.feature_selection import SelectKBest, chi2\n",
    "\n",
    "# Đọc dữ liệu từ file\n",
    "filename = 'diabetes.csv'\n",
    "data = read_csv(filename)\n",
    "\n",
    "# Chuyển dữ liệu thành mảng numpy\n",
    "array = data.values\n",
    "X = array[:,0:8] # Lấy 8 cột đầu tiên\n",
    "Y = array[:,8] # Lấy cột cuối cùng\n",
    "\n",
    "# Chọn 4 thuộc tính tốt nhất dựa trên hàm chi2\n",
    "test = SelectKBest(score_func=chi2, k=4)\n",
    "fit = test.fit(X, Y) # Tính toán\n",
    "\n",
    "# In ra điểm của các thuộc tính\n",
    "set_printoptions(precision=3) # In ra 3 chữ số sau dấu phẩy\n",
    "print(fit.scores_)\n",
    "\n",
    "# Chọn các thuộc tính tốt nhất\n",
    "features = fit.transform(X)\n",
    "print(features[0:5,:]) # In ra 5 dòng đầu tiên của các thuộc tính tốt nhất"
   ]
  },
  {
   "cell_type": "markdown",
   "id": "c4767744",
   "metadata": {},
   "source": [
    "## Recursive Feature Elimination"
   ]
  },
  {
   "cell_type": "code",
   "execution_count": null,
   "id": "52d6ffa8",
   "metadata": {},
   "outputs": [
    {
     "name": "stdout",
     "output_type": "stream",
     "text": [
      "Num Features: 3\n",
      "Selected Features (True = chọn): [ True False False False False  True  True False]\n",
      "Feature Ranking (1 = tốt nhất): [1 2 3 5 6 1 1 4]\n"
     ]
    }
   ],
   "source": [
    "# Import các thư viện cần thiết\n",
    "from pandas import read_csv\n",
    "from sklearn.feature_selection import RFE\n",
    "from sklearn.linear_model import LogisticRegression\n",
    "\n",
    "# Đọc dữ liệu từ file\n",
    "filename = 'diabetes.csv'\n",
    "data = read_csv(filename)\n",
    "\n",
    "# Chuyển dữ liệu thành mảng numpy\n",
    "array = data.values\n",
    "X = array[:, 0:8] # Lấy 8 cột đầu tiên\n",
    "Y = array[:, 8] # Lấy cột cuối cùng\n",
    "\n",
    "# Sử dụng Logistic Regression để chọn thuộc tính\n",
    "model = LogisticRegression(solver='liblinear')  # Chỉ định solver cho dữ liệu nhỏ\n",
    "rfe = RFE(estimator=model, n_features_to_select=3) # Chọn 3 thuộc tính tốt nhất\n",
    "fit = rfe.fit(X, Y) # Tính toán\n",
    "\n",
    "# In ra kết quả\n",
    "print(\"Số lượng thuộc tính: %s\" % fit.n_features_)\n",
    "print(\"Thuộc tính được chọn (True = chọn): %s\" % fit.support_)\n",
    "print(\"Xếp hạng thuộc tính (1 = tốt nhất): %s\" % fit.ranking_)"
   ]
  },
  {
   "cell_type": "markdown",
   "id": "ba82adf2",
   "metadata": {},
   "source": [
    "## Principal Component Analysis"
   ]
  },
  {
   "cell_type": "code",
   "execution_count": null,
   "id": "909dbf4d",
   "metadata": {},
   "outputs": [
    {
     "name": "stdout",
     "output_type": "stream",
     "text": [
      "Explained Variance: [0.889 0.062 0.026]\n",
      "[[-2.022e-03  9.781e-02  1.609e-02  6.076e-02  9.931e-01  1.401e-02\n",
      "   5.372e-04 -3.565e-03]\n",
      " [ 2.265e-02  9.722e-01  1.419e-01 -5.786e-02 -9.463e-02  4.697e-02\n",
      "   8.168e-04  1.402e-01]\n",
      " [ 2.246e-02 -1.434e-01  9.225e-01  3.070e-01 -2.098e-02  1.324e-01\n",
      "   6.400e-04  1.255e-01]]\n"
     ]
    }
   ],
   "source": [
    "# Import các thư viện cần thiết\n",
    "from pandas import read_csv\n",
    "from sklearn.decomposition import PCA\n",
    "\n",
    "# Đọc dữ liệu từ file\n",
    "filename = 'diabetes.csv'\n",
    "data = read_csv(filename)\n",
    "\n",
    "# Chuyển dữ liệu thành mảng numpy\n",
    "array = data.values\n",
    "X = array[:,0:8] # Lấy 8 cột đầu tiên\n",
    "Y = array[:,8] # Lấy cột cuối cùng\n",
    "\n",
    "# Sử dụng PCA để chọn 3 thuộc tính tốt nhất\n",
    "pca = PCA(n_components=3)\n",
    "fit = pca.fit(X) # Tính toán\n",
    "\n",
    "# In ra kết quả\n",
    "print(\"Độ biến thiên giải thích: %s\" % fit.explained_variance_ratio_)\n",
    "print(fit.components_) # In ra các thuộc tính tốt nhất"
   ]
  },
  {
   "cell_type": "markdown",
   "id": "d89daca5",
   "metadata": {},
   "source": [
    "## Feature Importance"
   ]
  },
  {
   "cell_type": "code",
   "execution_count": null,
   "id": "ec69b5f4",
   "metadata": {},
   "outputs": [
    {
     "name": "stdout",
     "output_type": "stream",
     "text": [
      "[0.11  0.229 0.1   0.08  0.075 0.144 0.119 0.143]\n"
     ]
    }
   ],
   "source": [
    "# Import các thư viện cần thiết\n",
    "from pandas import read_csv\n",
    "from sklearn.ensemble import ExtraTreesClassifier\n",
    "\n",
    "# Đọc dữ liệu từ file\n",
    "filename = 'diabetes.csv'\n",
    "data = read_csv(filename)\n",
    "\n",
    "# Chuyển dữ liệu thành mảng numpy\n",
    "array = data.values\n",
    "X = array[:,0:8] # Lấy 8 cột đầu tiên\n",
    "Y = array[:,8] # Lấy cột cuối cùng\n",
    "\n",
    "# Sử dụng ExtraTreesClassifier để đánh giá độ quan trọng của thuộc tính\n",
    "model = ExtraTreesClassifier()\n",
    "model.fit(X, Y) # Tính toán\n",
    "\n",
    "# In ra độ quan trọng của các thuộc tính\n",
    "print(model.feature_importances_)"
   ]
  }
 ],
 "metadata": {
  "kernelspec": {
   "display_name": "Python 3",
   "language": "python",
   "name": "python3"
  },
  "language_info": {
   "codemirror_mode": {
    "name": "ipython",
    "version": 3
   },
   "file_extension": ".py",
   "mimetype": "text/x-python",
   "name": "python",
   "nbconvert_exporter": "python",
   "pygments_lexer": "ipython3",
   "version": "3.12.1"
  }
 },
 "nbformat": 4,
 "nbformat_minor": 5
}
