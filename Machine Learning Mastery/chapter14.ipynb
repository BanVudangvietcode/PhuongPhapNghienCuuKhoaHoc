{
 "cells": [
  {
   "cell_type": "markdown",
   "id": "98891edf",
   "metadata": {},
   "source": [
    "# Chapter 14"
   ]
  },
  {
   "cell_type": "markdown",
   "id": "12ff9303",
   "metadata": {},
   "source": [
    "# Automate Machine Learning Workflows with Pipelines"
   ]
  },
  {
   "cell_type": "markdown",
   "id": "fb17071a",
   "metadata": {},
   "source": [
    "## Data Preparation and Modeling Pipeline"
   ]
  },
  {
   "cell_type": "code",
   "execution_count": 1,
   "id": "706953f8",
   "metadata": {},
   "outputs": [
    {
     "name": "stdout",
     "output_type": "stream",
     "text": [
      "0.7669685577580315\n"
     ]
    }
   ],
   "source": [
    "from pandas import read_csv\n",
    "from sklearn.model_selection import KFold, cross_val_score\n",
    "from sklearn.preprocessing import StandardScaler\n",
    "from sklearn.pipeline import Pipeline\n",
    "from sklearn.discriminant_analysis import LinearDiscriminantAnalysis\n",
    "filename = 'diabetes.csv'\n",
    "data = read_csv(filename)\n",
    "array = data.values # convert to numpy array\n",
    "X = array[:,0:8] # first 8 column\n",
    "Y = array[:,8] # last column\n",
    "num_folds = 10\n",
    "seed = 7\n",
    "estimator = []\n",
    "estimator.append(('standardize', StandardScaler())) # standardize the data\n",
    "estimator.append(('lda', LinearDiscriminantAnalysis())) # create the model\n",
    "model = Pipeline(estimator) # create the pipeline\n",
    "kfold = KFold(n_splits=num_folds, random_state=seed, shuffle=True) # create k-fold cross-validation\n",
    "results = cross_val_score(model, X, Y, cv=kfold) # evaluate the model\n",
    "print(results.mean()) # print the mean accuracy"
   ]
  },
  {
   "cell_type": "markdown",
   "id": "0e6a58a4",
   "metadata": {},
   "source": [
    "## Feature Extraction and Modeling Pipeline"
   ]
  },
  {
   "cell_type": "code",
   "execution_count": 2,
   "id": "f4c6889d",
   "metadata": {},
   "outputs": [
    {
     "name": "stdout",
     "output_type": "stream",
     "text": [
      "0.7721633629528366\n"
     ]
    }
   ],
   "source": [
    "from pandas import read_csv\n",
    "from sklearn.model_selection import KFold, cross_val_score\n",
    "from sklearn.feature_selection import SelectKBest\n",
    "from sklearn.pipeline import Pipeline, FeatureUnion\n",
    "from sklearn.linear_model import LogisticRegression\n",
    "from sklearn.decomposition import PCA\n",
    "filename = 'diabetes.csv'\n",
    "data = read_csv(filename)\n",
    "array = data.values # convert to numpy array\n",
    "X = array[:,0:8] # first 8 column\n",
    "Y = array[:,8] # last column\n",
    "num_folds = 10\n",
    "seed = 7\n",
    "features = []\n",
    "features.append(('pca', PCA(n_components=3))) # create the PCA feature\n",
    "features.append(('select_best', SelectKBest(k=6))) # create the SelectKBest feature\n",
    "feathure_union = FeatureUnion(features) # combine the features\n",
    "estimators = []\n",
    "estimators.append(('feathure_union', feathure_union)) # standardize the data\n",
    "estimators.append(('logistic', LogisticRegression(solver='liblinear'))) # create the model\n",
    "model = Pipeline(estimators) # create the pipeline\n",
    "kfold = KFold(n_splits=num_folds, random_state=seed, shuffle=True) # create k-fold cross-validation\n",
    "results = cross_val_score(model, X, Y, cv=kfold) # evaluate the model\n",
    "print(results.mean()) # print the mean accuracy"
   ]
  }
 ],
 "metadata": {
  "kernelspec": {
   "display_name": "Python 3",
   "language": "python",
   "name": "python3"
  },
  "language_info": {
   "codemirror_mode": {
    "name": "ipython",
    "version": 3
   },
   "file_extension": ".py",
   "mimetype": "text/x-python",
   "name": "python",
   "nbconvert_exporter": "python",
   "pygments_lexer": "ipython3",
   "version": "3.12.1"
  }
 },
 "nbformat": 4,
 "nbformat_minor": 5
}
