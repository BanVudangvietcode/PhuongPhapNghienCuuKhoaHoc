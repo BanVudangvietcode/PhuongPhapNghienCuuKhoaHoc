{
 "cells": [
  {
   "cell_type": "markdown",
   "id": "924295e7",
   "metadata": {},
   "source": [
    "# Chapter 4"
   ]
  },
  {
   "cell_type": "markdown",
   "id": "4d743ce3",
   "metadata": {},
   "source": [
    "# How To Load Machine Learnin Data"
   ]
  },
  {
   "cell_type": "markdown",
   "id": "74a2561b",
   "metadata": {},
   "source": [
    "## Download Pima Indians Dataset"
   ]
  },
  {
   "cell_type": "code",
   "execution_count": 2,
   "id": "21f5b94d",
   "metadata": {},
   "outputs": [
    {
     "name": "stderr",
     "output_type": "stream",
     "text": [
      "/home/codespace/.python/current/lib/python3.12/site-packages/tqdm/auto.py:21: TqdmWarning: IProgress not found. Please update jupyter and ipywidgets. See https://ipywidgets.readthedocs.io/en/stable/user_install.html\n",
      "  from .autonotebook import tqdm as notebook_tqdm\n"
     ]
    },
    {
     "name": "stdout",
     "output_type": "stream",
     "text": [
      "Downloading from https://www.kaggle.com/api/v1/datasets/download/uciml/pima-indians-diabetes-database?dataset_version_number=1...\n"
     ]
    },
    {
     "name": "stderr",
     "output_type": "stream",
     "text": [
      "100%|██████████| 8.91k/8.91k [00:00<00:00, 19.2MB/s]"
     ]
    },
    {
     "name": "stdout",
     "output_type": "stream",
     "text": [
      "Extracting files...\n",
      "Path to dataset files: /home/codespace/.cache/kagglehub/datasets/uciml/pima-indians-diabetes-database/versions/1\n"
     ]
    },
    {
     "name": "stderr",
     "output_type": "stream",
     "text": [
      "\n"
     ]
    }
   ],
   "source": [
    "import kagglehub\n",
    "\n",
    "# Download latest version\n",
    "path = kagglehub.dataset_download(\"uciml/pima-indians-diabetes-database\")\n",
    "\n",
    "print(\"Path to dataset files:\", path)"
   ]
  },
  {
   "cell_type": "markdown",
   "id": "901d07b3",
   "metadata": {},
   "source": [
    "## Load CSV Files With The Python Standard Library"
   ]
  },
  {
   "cell_type": "code",
   "execution_count": null,
   "id": "cb047688",
   "metadata": {},
   "outputs": [
    {
     "name": "stdout",
     "output_type": "stream",
     "text": [
      "(769, 9)\n"
     ]
    }
   ],
   "source": [
    "# Load CSV Using Python Standard Library \n",
    "import csv \n",
    "import numpy \n",
    "filename = 'diabetes.csv' \n",
    "raw_data = open(filename, 'r') \n",
    "reader = csv.reader(raw_data) # reader object\n",
    "x = list(reader) \n",
    "data = numpy.array(x)# convert to numpy array\n",
    "print(data.shape)# return a tuple"
   ]
  },
  {
   "cell_type": "markdown",
   "id": "d737904b",
   "metadata": {},
   "source": [
    "## Load CSV Files With NumPy"
   ]
  },
  {
   "cell_type": "code",
   "execution_count": null,
   "id": "659f44e1",
   "metadata": {},
   "outputs": [
    {
     "name": "stdout",
     "output_type": "stream",
     "text": [
      "(768, 9)\n"
     ]
    }
   ],
   "source": [
    "import numpy as np\n",
    "filename = 'diabetes.csv' \n",
    "with open(filename, 'r') as f:\n",
    "    lines = (line for line in f if not line.startswith('#'))\n",
    "    FH = np.loadtxt(lines, delimiter=',', skiprows=1) # đọc file và bỏ qua dòng đầu tiên\n",
    "print(FH.shape)"
   ]
  },
  {
   "cell_type": "markdown",
   "id": "8896c5cf",
   "metadata": {},
   "source": [
    "## Load CSV Using Pandas"
   ]
  },
  {
   "cell_type": "code",
   "execution_count": 10,
   "id": "52d72d75",
   "metadata": {},
   "outputs": [
    {
     "name": "stdout",
     "output_type": "stream",
     "text": [
      "(769, 9)\n"
     ]
    }
   ],
   "source": [
    "from pandas import read_csv\n",
    "filename = 'diabetes.csv'\n",
    "names = ['Pregnancies', 'Glucose', 'BloodPressure', 'SkinThickness', 'Insulin', 'BMI', 'DiabetesPedigreeFunction', 'Age', 'Outcome']\n",
    "data = read_csv(filename, names=names)\n",
    "print(data.shape) # return a tuple"
   ]
  }
 ],
 "metadata": {
  "kernelspec": {
   "display_name": "Python 3",
   "language": "python",
   "name": "python3"
  },
  "language_info": {
   "codemirror_mode": {
    "name": "ipython",
    "version": 3
   },
   "file_extension": ".py",
   "mimetype": "text/x-python",
   "name": "python",
   "nbconvert_exporter": "python",
   "pygments_lexer": "ipython3",
   "version": "3.12.1"
  }
 },
 "nbformat": 4,
 "nbformat_minor": 5
}
