{
 "cells": [
  {
   "metadata": {},
   "cell_type": "markdown",
   "source": "7.3 Rescale Data (Chuẩn hóa dữ liệu về khoảng [0,1])",
   "id": "81be73a661b60e35"
  },
  {
   "metadata": {
    "ExecuteTime": {
     "end_time": "2025-04-24T14:57:13.812685Z",
     "start_time": "2025-04-24T14:57:13.799291Z"
    }
   },
   "cell_type": "code",
   "source": [
    "# Rescale data (between 0 and 1)\n",
    "\n",
    "from pandas import read_csv\n",
    "from numpy import set_printoptions\n",
    "from sklearn.preprocessing import MinMaxScaler\n",
    "\n",
    "# Đọc dữ liệu\n",
    "filename = 'pima-indians-diabetes.data.csv'\n",
    "names = ['preg', 'plas', 'pres', 'skin', 'test', 'mass', 'pedi', 'age', 'class']\n",
    "dataframe = read_csv(filename, names=names)\n",
    "\n",
    "# Tách thành input và output\n",
    "array = dataframe.values\n",
    "X = array[:,0:8]\n",
    "Y = array[:,8]\n",
    "\n",
    "# Dùng MinMaxScaler để đưa các giá trị về khoảng [0, 1]\n",
    "scaler = MinMaxScaler(feature_range=(0, 1))\n",
    "rescaledX = scaler.fit_transform(X)\n",
    "\n",
    "# Hiển thị dữ liệu đã chuyển đổi\n",
    "set_printoptions(precision=3)\n",
    "print(rescaledX[0:5,:])\n"
   ],
   "id": "16221682c37c20cb",
   "outputs": [
    {
     "name": "stdout",
     "output_type": "stream",
     "text": [
      "[[0.353 0.744 0.59  0.354 0.    0.501 0.234 0.483]\n",
      " [0.059 0.427 0.541 0.293 0.    0.396 0.117 0.167]\n",
      " [0.471 0.92  0.525 0.    0.    0.347 0.254 0.183]\n",
      " [0.059 0.447 0.541 0.232 0.111 0.419 0.038 0.   ]\n",
      " [0.    0.688 0.328 0.354 0.199 0.642 0.944 0.2  ]]\n"
     ]
    }
   ],
   "execution_count": 5
  },
  {
   "metadata": {
    "ExecuteTime": {
     "end_time": "2025-04-24T14:56:58.307069Z",
     "start_time": "2025-04-24T14:56:57.479042Z"
    }
   },
   "cell_type": "code",
   "source": [
    "import urllib.request\n",
    "\n",
    "url = \"https://raw.githubusercontent.com/jbrownlee/Datasets/master/pima-indians-diabetes.data.csv\"\n",
    "filename = \"pima-indians-diabetes.data.csv\"\n",
    "urllib.request.urlretrieve(url, filename)\n",
    "\n",
    "print(\"Tải xong file!\")\n"
   ],
   "id": "b644b1dad290e24",
   "outputs": [
    {
     "name": "stdout",
     "output_type": "stream",
     "text": [
      "Tải xong file!\n"
     ]
    }
   ],
   "execution_count": 3
  },
  {
   "metadata": {},
   "cell_type": "markdown",
   "source": "7.4 Standardize Data (Chuẩn hóa về phân phối chuẩn)",
   "id": "f9ea3ee49cafd562"
  },
  {
   "metadata": {
    "ExecuteTime": {
     "end_time": "2025-04-24T14:58:53.556455Z",
     "start_time": "2025-04-24T14:58:53.516013Z"
    }
   },
   "cell_type": "code",
   "source": [
    "# Standardize data (mean = 0, stdev = 1)\n",
    "from sklearn.preprocessing import StandardScaler\n",
    "\n",
    "scaler = StandardScaler().fit(X)\n",
    "standardizedX = scaler.transform(X)\n",
    "\n",
    "# Hiển thị dữ liệu đã chuẩn hóa\n",
    "set_printoptions(precision=3)\n",
    "print(standardizedX[0:5,:])\n"
   ],
   "id": "7f3073d2e3c9d65",
   "outputs": [
    {
     "name": "stdout",
     "output_type": "stream",
     "text": [
      "[[ 0.64   0.848  0.15   0.907 -0.693  0.204  0.468  1.426]\n",
      " [-0.845 -1.123 -0.161  0.531 -0.693 -0.684 -0.365 -0.191]\n",
      " [ 1.234  1.944 -0.264 -1.288 -0.693 -1.103  0.604 -0.106]\n",
      " [-0.845 -0.998 -0.161  0.155  0.123 -0.494 -0.921 -1.042]\n",
      " [-1.142  0.504 -1.505  0.907  0.766  1.41   5.485 -0.02 ]]\n"
     ]
    }
   ],
   "execution_count": 6
  },
  {
   "metadata": {},
   "cell_type": "markdown",
   "source": "7.5 Normalize Data (Chuẩn hóa theo vector hàng)",
   "id": "6e0dc0558b4c9d3e"
  },
  {
   "metadata": {
    "ExecuteTime": {
     "end_time": "2025-04-24T14:59:56.514791Z",
     "start_time": "2025-04-24T14:59:56.506881Z"
    }
   },
   "cell_type": "code",
   "source": [
    "# Normalize data (vector length = 1)\n",
    "from sklearn.preprocessing import Normalizer\n",
    "\n",
    "scaler = Normalizer().fit(X)\n",
    "normalizedX = scaler.transform(X)\n",
    "\n",
    "# Hiển thị dữ liệu đã chuẩn hóa theo vector hàng\n",
    "set_printoptions(precision=3)\n",
    "print(normalizedX[0:5,:])\n"
   ],
   "id": "fe2b9dae1edb0b94",
   "outputs": [
    {
     "name": "stdout",
     "output_type": "stream",
     "text": [
      "[[0.034 0.828 0.403 0.196 0.    0.188 0.004 0.28 ]\n",
      " [0.008 0.716 0.556 0.244 0.    0.224 0.003 0.261]\n",
      " [0.04  0.924 0.323 0.    0.    0.118 0.003 0.162]\n",
      " [0.007 0.588 0.436 0.152 0.622 0.186 0.001 0.139]\n",
      " [0.    0.596 0.174 0.152 0.731 0.188 0.01  0.144]]\n"
     ]
    }
   ],
   "execution_count": 8
  },
  {
   "metadata": {},
   "cell_type": "markdown",
   "source": "7.6 Binarize Data (Nhị phân hóa dữ liệu)",
   "id": "ad5f4d3ad1147d81"
  },
  {
   "metadata": {
    "ExecuteTime": {
     "end_time": "2025-04-24T15:00:16.184815Z",
     "start_time": "2025-04-24T15:00:16.158651Z"
    }
   },
   "cell_type": "code",
   "source": [
    "# Binarize data (dựa trên ngưỡng)\n",
    "from sklearn.preprocessing import Binarizer\n",
    "\n",
    "binarizer = Binarizer(threshold=0.0).fit(X)\n",
    "binaryX = binarizer.transform(X)\n",
    "\n",
    "# Hiển thị dữ liệu đã được nhị phân hóa\n",
    "set_printoptions(precision=3)\n",
    "print(binaryX[0:5,:])\n"
   ],
   "id": "e9e48061fdf349c8",
   "outputs": [
    {
     "name": "stdout",
     "output_type": "stream",
     "text": [
      "[[1. 1. 1. 1. 0. 1. 1. 1.]\n",
      " [1. 1. 1. 1. 0. 1. 1. 1.]\n",
      " [1. 1. 1. 0. 0. 1. 1. 1.]\n",
      " [1. 1. 1. 1. 1. 1. 1. 1.]\n",
      " [0. 1. 1. 1. 1. 1. 1. 1.]]\n"
     ]
    }
   ],
   "execution_count": 9
  }
 ],
 "metadata": {
  "kernelspec": {
   "display_name": "Python 3",
   "language": "python",
   "name": "python3"
  },
  "language_info": {
   "codemirror_mode": {
    "name": "ipython",
    "version": 2
   },
   "file_extension": ".py",
   "mimetype": "text/x-python",
   "name": "python",
   "nbconvert_exporter": "python",
   "pygments_lexer": "ipython2",
   "version": "2.7.6"
  }
 },
 "nbformat": 4,
 "nbformat_minor": 5
}
